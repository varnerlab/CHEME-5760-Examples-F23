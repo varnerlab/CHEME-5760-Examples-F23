{
 "cells": [
  {
   "cell_type": "markdown",
   "id": "2c252a20-8292-42a4-ab79-c73174e6fdd7",
   "metadata": {},
   "source": [
    "# Binary Discrete Choice Models\n",
    "For an individual, both observable and unobservable features can influence decisions. Utility functions for individuals which consider both observable and unobservable factors take the form:\n",
    "\n",
    "\\begin{equation}\n",
    "U_{ij} = V_{ij} + \\epsilon_{ij}\n",
    "\\end{equation}\n",
    "\n",
    "The term $U_{ij}$ is the utility of alternative $j$ for individual $i$, $V_{ij}$ is the _deterministic_ component of the utility, \n",
    "i.e., the utility associated with the observable features, and $\\epsilon_{ij}$ is the random component of the utility (error model). \n",
    "\n",
    "## Logit choice model\n",
    "One of the most common choice models is the `logit` model. Assume the random component of the utility $U_{ij}$ is _independently and identically distributed_ (IID) across $J$ alternatives, and is [Gumbel distributed](https://en.wikipedia.org/wiki/Gumbel_distribution), \n",
    "then the probability that individual $i$ chooses alternative $j$ is given by the [logit choice model](https://en.wikipedia.org/wiki/Discrete_choice):\n",
    "\n",
    "\\begin{equation}\n",
    "P_{ij} = \\frac{e^{V_{ij}/\\mu}}{\\displaystyle \\sum_{k=1}^{J}e^{V_{ik}/\\mu}}\\qquad{j=1,\\dotsc,J}\n",
    "\\end{equation}\n",
    "\n",
    "where $P_{ij}$ is the probability that individual $i$ chooses alternative $j$, $V_{ij}$ is the deterministic component of the utility, and $\\mu$ is a scale parameter.\n",
    "\n",
    "## Learning Objectives\n",
    "In this example, we'll use the `logit` model to compute the probability of a `binary` choice, namely, should we by a [Tesla Model S](https://www.tesla.com/models), which we call outcome `1`, or a [Honda Odyssey](https://automobiles.honda.com/odyssey) which is outcome `0`. In particular, we will:\n",
    "\n",
    "* Familiarize students with binary discrete choice models and Monte-Carlo simulations\n",
    "* Familiarize students with [Bernoulli random variables](https://en.wikipedia.org/wiki/Bernoulli_distribution) and the simulation of binary choices"
   ]
  },
  {
   "cell_type": "markdown",
   "id": "306a9985-6eed-4c2b-9727-ea90f7017112",
   "metadata": {},
   "source": [
    "## Setup"
   ]
  },
  {
   "cell_type": "code",
   "execution_count": 1,
   "id": "92ac294a-6a1b-40a1-9dfb-0cfdd99c20f7",
   "metadata": {
    "tags": []
   },
   "outputs": [
    {
     "name": "stderr",
     "output_type": "stream",
     "text": [
      "\u001b[32m\u001b[1m  Activating\u001b[22m\u001b[39m project at `~/Desktop/julia_work/CHEME-5760-Examples-F23`\n",
      "\u001b[32m\u001b[1m    Updating\u001b[22m\u001b[39m registry at `~/.julia/registries/General.toml`\n",
      "\u001b[32m\u001b[1m    Updating\u001b[22m\u001b[39m git-repo `https://github.com/varnerlab/VLDecisionsPackage.jl.git`\n",
      "\u001b[32m\u001b[1m  No Changes\u001b[22m\u001b[39m to `~/Desktop/julia_work/CHEME-5760-Examples-F23/Project.toml`\n",
      "\u001b[32m\u001b[1m  No Changes\u001b[22m\u001b[39m to `~/Desktop/julia_work/CHEME-5760-Examples-F23/Manifest.toml`\n"
     ]
    }
   ],
   "source": [
    "include(\"Include.jl\");"
   ]
  },
  {
   "cell_type": "markdown",
   "id": "d305803d-1a0c-48ba-9370-496b7941a7a5",
   "metadata": {},
   "source": [
    "## Data\n",
    "The dataset that we explore is the Tesla versus Odyssey survey presented in class. We load this dataset into the notebook using the `HondaTeslaDataSet()` function. This function stored the data in the `dataset` variable which is a [DataFrame type](https://dataframes.juliadata.org/stable/)."
   ]
  },
  {
   "cell_type": "code",
   "execution_count": 2,
   "id": "8b1c9c73-9131-4c76-8067-09211fc861f3",
   "metadata": {},
   "outputs": [
    {
     "data": {
      "text/html": [
       "<div><div style = \"float: left;\"><span>7×4 DataFrame</span></div><div style = \"clear: both;\"></div></div><div class = \"data-frame\" style = \"overflow-x: scroll;\"><table class = \"data-frame\" style = \"margin-bottom: 6px;\"><thead><tr class = \"header\"><th class = \"rowNumber\" style = \"font-weight: bold; text-align: right;\">Row</th><th style = \"text-align: left;\">feature</th><th style = \"text-align: left;\">exponent</th><th style = \"text-align: left;\">Tesla</th><th style = \"text-align: left;\">Honda</th></tr><tr class = \"subheader headerLastRow\"><th class = \"rowNumber\" style = \"font-weight: bold; text-align: right;\"></th><th title = \"String15\" style = \"text-align: left;\">String15</th><th title = \"Float64\" style = \"text-align: left;\">Float64</th><th title = \"Float64\" style = \"text-align: left;\">Float64</th><th title = \"Float64\" style = \"text-align: left;\">Float64</th></tr></thead><tbody><tr><td class = \"rowNumber\" style = \"font-weight: bold; text-align: right;\">1</td><td style = \"text-align: left;\">sustainability</td><td style = \"text-align: right;\">0.2</td><td style = \"text-align: right;\">5.0</td><td style = \"text-align: right;\">3.0</td></tr><tr><td class = \"rowNumber\" style = \"font-weight: bold; text-align: right;\">2</td><td style = \"text-align: left;\">affordability</td><td style = \"text-align: right;\">0.1</td><td style = \"text-align: right;\">2.0</td><td style = \"text-align: right;\">4.0</td></tr><tr><td class = \"rowNumber\" style = \"font-weight: bold; text-align: right;\">3</td><td style = \"text-align: left;\">styling</td><td style = \"text-align: right;\">0.05</td><td style = \"text-align: right;\">5.0</td><td style = \"text-align: right;\">2.0</td></tr><tr><td class = \"rowNumber\" style = \"font-weight: bold; text-align: right;\">4</td><td style = \"text-align: left;\">usefulness</td><td style = \"text-align: right;\">0.3</td><td style = \"text-align: right;\">2.0</td><td style = \"text-align: right;\">5.0</td></tr><tr><td class = \"rowNumber\" style = \"font-weight: bold; text-align: right;\">5</td><td style = \"text-align: left;\">costownership</td><td style = \"text-align: right;\">0.1</td><td style = \"text-align: right;\">4.0</td><td style = \"text-align: right;\">2.0</td></tr><tr><td class = \"rowNumber\" style = \"font-weight: bold; text-align: right;\">6</td><td style = \"text-align: left;\">performance</td><td style = \"text-align: right;\">0.05</td><td style = \"text-align: right;\">5.0</td><td style = \"text-align: right;\">1.0</td></tr><tr><td class = \"rowNumber\" style = \"font-weight: bold; text-align: right;\">7</td><td style = \"text-align: left;\">safety</td><td style = \"text-align: right;\">0.2</td><td style = \"text-align: right;\">5.0</td><td style = \"text-align: right;\">5.0</td></tr></tbody></table></div>"
      ],
      "text/latex": [
       "\\begin{tabular}{r|cccc}\n",
       "\t& feature & exponent & Tesla & Honda\\\\\n",
       "\t\\hline\n",
       "\t& String15 & Float64 & Float64 & Float64\\\\\n",
       "\t\\hline\n",
       "\t1 & sustainability & 0.2 & 5.0 & 3.0 \\\\\n",
       "\t2 & affordability & 0.1 & 2.0 & 4.0 \\\\\n",
       "\t3 & styling & 0.05 & 5.0 & 2.0 \\\\\n",
       "\t4 & usefulness & 0.3 & 2.0 & 5.0 \\\\\n",
       "\t5 & costownership & 0.1 & 4.0 & 2.0 \\\\\n",
       "\t6 & performance & 0.05 & 5.0 & 1.0 \\\\\n",
       "\t7 & safety & 0.2 & 5.0 & 5.0 \\\\\n",
       "\\end{tabular}\n"
      ],
      "text/plain": [
       "\u001b[1m7×4 DataFrame\u001b[0m\n",
       "\u001b[1m Row \u001b[0m│\u001b[1m feature        \u001b[0m\u001b[1m exponent \u001b[0m\u001b[1m Tesla   \u001b[0m\u001b[1m Honda   \u001b[0m\n",
       "     │\u001b[90m String15       \u001b[0m\u001b[90m Float64  \u001b[0m\u001b[90m Float64 \u001b[0m\u001b[90m Float64 \u001b[0m\n",
       "─────┼────────────────────────────────────────────\n",
       "   1 │ sustainability      0.2       5.0      3.0\n",
       "   2 │ affordability       0.1       2.0      4.0\n",
       "   3 │ styling             0.05      5.0      2.0\n",
       "   4 │ usefulness          0.3       2.0      5.0\n",
       "   5 │ costownership       0.1       4.0      2.0\n",
       "   6 │ performance         0.05      5.0      1.0\n",
       "   7 │ safety              0.2       5.0      5.0"
      ]
     },
     "execution_count": 2,
     "metadata": {},
     "output_type": "execute_result"
    }
   ],
   "source": [
    "dataset = HondaTeslaDataSet()"
   ]
  },
  {
   "cell_type": "markdown",
   "id": "ce96f648-3695-4703-b5f8-2b43b159f059",
   "metadata": {},
   "source": [
    "### Analytical Logit Choice Model\n",
    "The deterministic component of the random utility function $V_{ij}$ can be any of the utility functions we studied in class or one of your creations. Let's use the `log-transformed` [Cobb-Douglas utility function](https://varnerlab.github.io/CHEME-5760-Decisions-Book/unit-1-simpledecisions/utilityfunctions.html#cobb-douglas-utility-functions):\n",
    "\n",
    "$$\n",
    "\\begin{equation}\n",
    "\\ln U = \\sum_{i=1}^{m}\\alpha_{i}\\ln x_{i}\n",
    "\\end{equation}\n",
    "$$\n",
    "\n",
    "where we constrain the sum of the exponents $\\alpha_{i}$ to be unity, i.e.., $\\sum\\alpha_{i} = 1$.\n",
    "\n",
    "#### Implementation\n",
    "We construct an instance of the `VLLogTransformedCobbDouglasUtilityFunction` model type (which holds the `Cobb-Douglas` model parameters) using the `build(...)` function, where we pass the $\\alpha$-vector and base `b` as parameters:"
   ]
  },
  {
   "cell_type": "code",
   "execution_count": 13,
   "id": "1fd6fa40-61f5-41e2-8e21-e08d65a50d94",
   "metadata": {
    "tags": []
   },
   "outputs": [],
   "source": [
    "model = build(VLLogTransformedCobbDouglasUtilityFunction, (\n",
    "        α = dataset[:,:exponent], b = ℯ)\n",
    ");"
   ]
  },
  {
   "cell_type": "markdown",
   "id": "18848d85-a068-433c-a14e-416956d0e6b9",
   "metadata": {},
   "source": [
    "Now that we have the `VLLogTransformedCobbDouglasUtilityFunction` model, we can compute the values of the utility function using the `model(x)` short-cut syntax method:"
   ]
  },
  {
   "cell_type": "code",
   "execution_count": 14,
   "id": "fca8fb7d-34de-4353-8d78-ca79e840bec7",
   "metadata": {
    "tags": []
   },
   "outputs": [],
   "source": [
    "V = zeros(2);\n",
    "V[1] = model(dataset[:,:Tesla]);\n",
    "V[2] = model(dataset[:,:Honda]);"
   ]
  },
  {
   "cell_type": "markdown",
   "id": "fc77def5-e00a-45b9-a79d-31554f49653a",
   "metadata": {},
   "source": [
    "Finally, we can compute the probability that a decision maker will choose the `Tesla` option (which is index `1`) and store this value in the variable `p`:"
   ]
  },
  {
   "cell_type": "code",
   "execution_count": 15,
   "id": "fe811a04-d0f9-4ce7-8ba1-cabb548c3eb9",
   "metadata": {
    "tags": []
   },
   "outputs": [
    {
     "data": {
      "text/plain": [
       "0.4883931698990063"
      ]
     },
     "execution_count": 15,
     "metadata": {},
     "output_type": "execute_result"
    }
   ],
   "source": [
    "p = exp(V[1])/(exp(V[1])+exp(V[2]))"
   ]
  },
  {
   "cell_type": "markdown",
   "id": "98da7ce7-dc2c-4454-ab8a-e3278976db56",
   "metadata": {},
   "source": [
    "### Bernoulli random variable\n",
    "A Bernoulli random variable $X$ models a binary outcome: either `1` or `0`, \n",
    "where `1` occurs with probability $p$ and `0` occurs with probability $1-p$. \n",
    "The probability mass function (pmf) of the Bernoulli random variable $X$ is:\n",
    "\n",
    "\\begin{equation}\n",
    "p_{X}(x) = \\begin{cases}\n",
    "    p & \\text{if } x = 1 \\\\\n",
    "    1 - p & \\text{if } x = 0\n",
    "  \\end{cases}\n",
    "\\end{equation}\n",
    "\n",
    "where $0<p<1$ is called the Bernoulli parameter. The expectation a Bernoulli random variable equals:\n",
    "\n",
    "\\begin{equation}\n",
    "\\mathbb{E}\\left[X\\right] = p\n",
    "\\end{equation}\n",
    "\n",
    "while the variance $\\text{Var}(X)$ equals:\n",
    "\n",
    "\\begin{equation}\n",
    "\\text{Var}\\left[X\\right] = p(1-p)\n",
    "\\end{equation}\n",
    "\n",
    "Bernoulli random variables model many binary events: coin flips (`H` or `T`), `true` or `false`, `yes` or `no`, `present` or `absent`, etc.\n",
    "\n",
    "In choosing between the `Tesla` and the `Odyssey`, we let `Tesla` be outcome `1`, while the `Odyssey` can be outcome `0`. If this is true, the `p` computed from the `logit` model equals the `Bernoulli parameter`.\n",
    "\n",
    "#### Implementation\n",
    "We create a `Bernoulli` distribution with parameter `p` using the function `Bernoulli(p)`, which is exported by the [Distributions.jl](https://github.com/JuliaStats/Distributions.jl) package. We store this distribution in the varaible `d`:"
   ]
  },
  {
   "cell_type": "code",
   "execution_count": 19,
   "id": "50da8668-a749-4dc4-852e-a39bdb18907c",
   "metadata": {
    "tags": []
   },
   "outputs": [],
   "source": [
    "d = Bernoulli(p);"
   ]
  },
  {
   "cell_type": "markdown",
   "id": "8a448352-ce4a-47f2-8c42-47919ed8904f",
   "metadata": {},
   "source": [
    "Next, we generate $N_{s}$ samples drawn from the Bernoulli distribution `d`:"
   ]
  },
  {
   "cell_type": "code",
   "execution_count": 17,
   "id": "ca06c4fb-b61a-4884-b602-18657ebfbfa2",
   "metadata": {
    "tags": []
   },
   "outputs": [],
   "source": [
    "Nₛ = 10000\n",
    "S = rand(d,Nₛ);"
   ]
  },
  {
   "cell_type": "code",
   "execution_count": null,
   "id": "35f6404e-cd82-450a-bc0f-5447b17a5c9c",
   "metadata": {},
   "outputs": [],
   "source": []
  },
  {
   "cell_type": "code",
   "execution_count": 18,
   "id": "1a1d88a6-5b6f-4db7-908e-dba1c851cc66",
   "metadata": {
    "tags": []
   },
   "outputs": [
    {
     "data": {
      "text/plain": [
       "0.4941"
      ]
     },
     "execution_count": 18,
     "metadata": {},
     "output_type": "execute_result"
    }
   ],
   "source": [
    "idx = findall(x-> x == 1, S) |> x-> length(x)/Nₛ"
   ]
  },
  {
   "cell_type": "markdown",
   "id": "426ae4d6-57c2-44a5-9bbb-0a20300a4131",
   "metadata": {},
   "source": [
    "### Monte-Carlo Simulation of Discrete Binary Choice"
   ]
  },
  {
   "cell_type": "code",
   "execution_count": 9,
   "id": "27cc75de-7d3f-4563-b003-a5a81bba6784",
   "metadata": {
    "tags": []
   },
   "outputs": [],
   "source": [
    "ϵ = Gumbel(0,π/6)\n",
    "N = 10000\n",
    "D₁ = V[1] .+ rand(ϵ,N);\n",
    "D₂ = V[2] .+ rand(ϵ,N);"
   ]
  },
  {
   "cell_type": "code",
   "execution_count": 10,
   "id": "690d8cee-432c-40b1-99d7-ba16411d7405",
   "metadata": {
    "tags": []
   },
   "outputs": [],
   "source": [
    "D = [D₁ D₂];\n",
    "choice_vector = Array{Int64,1}();\n",
    "for i ∈ 1:N\n",
    "    if (D[i,1] > D[i,2])\n",
    "        push!(choice_vector,0)\n",
    "    else\n",
    "        push!(choice_vector,1)\n",
    "    end\n",
    "end"
   ]
  },
  {
   "cell_type": "code",
   "execution_count": 11,
   "id": "866c3174-53db-4a95-b720-01db8698db57",
   "metadata": {
    "tags": []
   },
   "outputs": [
    {
     "data": {
      "text/plain": [
       "0.5013"
      ]
     },
     "execution_count": 11,
     "metadata": {},
     "output_type": "execute_result"
    }
   ],
   "source": [
    "findall(x-> x == 0, choice_vector) |> x-> length(x)/N"
   ]
  },
  {
   "cell_type": "code",
   "execution_count": null,
   "id": "be74bbaa-fd7d-446a-8cbe-3b5550851c5f",
   "metadata": {},
   "outputs": [],
   "source": []
  }
 ],
 "metadata": {
  "kernelspec": {
   "display_name": "Julia 1.9.3",
   "language": "julia",
   "name": "julia-1.9"
  },
  "language_info": {
   "file_extension": ".jl",
   "mimetype": "application/julia",
   "name": "julia",
   "version": "1.9.3"
  }
 },
 "nbformat": 4,
 "nbformat_minor": 5
}
