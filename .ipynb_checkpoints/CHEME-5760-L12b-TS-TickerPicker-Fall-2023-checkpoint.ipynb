{
 "cells": [
  {
   "cell_type": "markdown",
   "id": "a6fae3e1-7cf1-4e09-af80-335584918108",
   "metadata": {},
   "source": [
    "## Example: Binary Bandit Ticker Picker Agent\n",
    "Let's select which stocks we should include in the portfolio $\\mathcal{P}$ as a Multi-arm Bandit problem. The key ideas:\n",
    "* $N_{a}$ agents independently analyze daily Open High Low Close (OHLC) data and rank-order their belief that ticker `XYZ` will return at least the risk-free rate in the next step. \n",
    "* If ticker `XYZ` returns greater than or equal to the risk-free rate in the next time-step, the agent receives a reward of `+1`.\n",
    "* Each agent develops a distribution of beliefs based on experimentation using a $\\beta$-distribution\n",
    "* Each ticker is an action in the set $\\mathcal{A}=\\left\\{a_{1},a_{2},\\dots,a_{K}\\right\\}$"
   ]
  },
  {
   "cell_type": "markdown",
   "id": "fa20c791-4a0c-4881-bafc-3a0eb312234a",
   "metadata": {},
   "source": [
    "### Setup\n",
    "In this example, we'll directly load some required packages, and a the `CHEME-5760-MABP-Example-CodeLib.jl` file that contains some helper functions that we'll use for the [Thompson Sampling](https://arxiv.org/abs/1707.02038) and ϵ-greedy Thompson Sampling."
   ]
  },
  {
   "cell_type": "code",
   "execution_count": 1,
   "id": "623d1fed-bb4e-487d-9f94-ab842c3293fc",
   "metadata": {
    "tags": []
   },
   "outputs": [
    {
     "name": "stderr",
     "output_type": "stream",
     "text": [
      "\u001b[32m\u001b[1m  Activating\u001b[22m\u001b[39m project at `~/Desktop/julia_work/CHEME-5760-Examples-F23`\n",
      "\u001b[32m\u001b[1m  No Changes\u001b[22m\u001b[39m to `~/Desktop/julia_work/CHEME-5760-Examples-F23/Project.toml`\n",
      "\u001b[32m\u001b[1m  No Changes\u001b[22m\u001b[39m to `~/Desktop/julia_work/CHEME-5760-Examples-F23/Manifest.toml`\n"
     ]
    }
   ],
   "source": [
    "import Pkg; Pkg.activate(\".\"); Pkg.resolve(); Pkg.instantiate();"
   ]
  },
  {
   "cell_type": "code",
   "execution_count": 2,
   "id": "6aec61d0-209c-40e9-be6d-d97067b7f1a4",
   "metadata": {
    "tags": []
   },
   "outputs": [],
   "source": [
    "# load reqd packages -\n",
    "using Distributions\n",
    "using Plots\n",
    "using Colors\n",
    "using StatsPlots\n",
    "using PrettyTables\n",
    "using DataFrames\n",
    "using Dates\n",
    "using JLD2\n",
    "using FileIO\n",
    "\n",
    "\n",
    "# setup paths -\n",
    "const _ROOT = pwd();\n",
    "const _PATH_TO_FIGS = joinpath(_ROOT, \"figs\");\n",
    "const _PATH_TO_DATA = joinpath(_ROOT, \"data\");"
   ]
  },
  {
   "cell_type": "markdown",
   "id": "b6c5ce7b-a747-46c4-8adf-20b1adce7564",
   "metadata": {},
   "source": [
    "The `CHEME-5760-MABP-Example-CodeLib.jl` file contains several functions and types used in this example. We'll load these types and functions into the notebook using the `include(...)` function:"
   ]
  },
  {
   "cell_type": "code",
   "execution_count": 3,
   "id": "cc50c967-d66c-4997-a451-6ab49f458ff0",
   "metadata": {
    "tags": []
   },
   "outputs": [],
   "source": [
    "include(\"CHEME-5760-MABP-Example-CodeLib.jl\");"
   ]
  },
  {
   "cell_type": "markdown",
   "id": "a37ab509-902d-4797-970e-297c4698496b",
   "metadata": {
    "tags": []
   },
   "source": [
    "## Prerequisites: Load and clean the historical dataset\n",
    "We gathered a daily open-high-low-close `dataset` for each firm in the [S&P500](https://en.wikipedia.org/wiki/S%26P_500) since `01-03-2018` until `11-03-2023`, along with data for a few exchange traded funds and volatility products during that time. "
   ]
  },
  {
   "cell_type": "code",
   "execution_count": 4,
   "id": "124129be-9407-4034-8b41-1f7500cdbe29",
   "metadata": {
    "tags": []
   },
   "outputs": [],
   "source": [
    "original_dataset = load(joinpath(_PATH_TO_DATA, \n",
    "        \"SP500-Daily-OHLC-1-3-2018-to-11-03-2023.jld2\")) |> x-> x[\"dataset\"];"
   ]
  },
  {
   "cell_type": "markdown",
   "id": "a64062f0-5923-4adc-ad39-dfe4802c9faa",
   "metadata": {},
   "source": [
    "### Clean the data\n",
    "Not all of the tickers in our dataset have the maximum number of trading days for various reasons, e.g., acquistion or de-listing events. Let's collect only those tickers with the maximum number of trading days.\n",
    "\n",
    "* First, let's compute the number of records for a company that we know has a maximim value, e.g., `AAPL` and save that value in the `maximum_number_trading_days` variable:"
   ]
  },
  {
   "cell_type": "code",
   "execution_count": 5,
   "id": "61aa7713-89ed-492b-9453-cdc7d50718d9",
   "metadata": {
    "tags": []
   },
   "outputs": [],
   "source": [
    "maximum_number_trading_days = original_dataset[\"AAPL\"] |> nrow;"
   ]
  },
  {
   "cell_type": "markdown",
   "id": "46ac5911-f47e-4213-ba90-6f1886936e68",
   "metadata": {},
   "source": [
    "Now, lets iterate through our data and collect only those tickers that have `maximum_number_trading_days` records. Save that data in the `dataset::Dict{String,DataFrame}` variable:"
   ]
  },
  {
   "cell_type": "code",
   "execution_count": 6,
   "id": "582906dd-0768-4b67-99d0-214f7baf9035",
   "metadata": {
    "tags": []
   },
   "outputs": [],
   "source": [
    "dataset = Dict{String,DataFrame}();\n",
    "for (ticker,data) ∈ original_dataset\n",
    "    if (nrow(data) == maximum_number_trading_days)\n",
    "        dataset[ticker] = data;\n",
    "    end\n",
    "end\n",
    "dataset;"
   ]
  },
  {
   "cell_type": "markdown",
   "id": "7ddf29cc-5016-48b0-8957-4f89f90a1b68",
   "metadata": {},
   "source": [
    "Let's get a list of firms that we have in cleaned up `dataset`, and save it in the `all_tickers` array."
   ]
  },
  {
   "cell_type": "code",
   "execution_count": 7,
   "id": "5c001e99-6788-4913-9b85-55a6496a2540",
   "metadata": {
    "tags": []
   },
   "outputs": [
    {
     "data": {
      "text/plain": [
       "459"
      ]
     },
     "execution_count": 7,
     "metadata": {},
     "output_type": "execute_result"
    }
   ],
   "source": [
    "all_tickers = keys(dataset) |> collect |> sort;\n",
    "K = length(all_tickers)"
   ]
  },
  {
   "cell_type": "markdown",
   "id": "b93c66f1-dafd-43be-97d9-7f2ac00b07ad",
   "metadata": {},
   "source": [
    "## Main"
   ]
  },
  {
   "cell_type": "markdown",
   "id": "fcb2bce2-4d5d-4fc5-a04f-3fdd4a7c1947",
   "metadata": {},
   "source": [
    "First, let's specify the tickers that we want to examine in the `tickers` array, and store the number of tickers in the `K` variable:"
   ]
  },
  {
   "cell_type": "code",
   "execution_count": 8,
   "id": "c86933fd-eb5e-4ad6-aa12-657c83d42931",
   "metadata": {
    "tags": []
   },
   "outputs": [],
   "source": [
    "tickers = [\"MRK\", \"JNJ\", \"MET\", \"NFLX\", \"K\", \"AAPL\"];\n",
    "K = length(tickers);"
   ]
  },
  {
   "cell_type": "markdown",
   "id": "3e49cbdd-f091-4a97-9ff7-265256d56d10",
   "metadata": {},
   "source": [
    "Next, we construct the `EpsilonSamplingModel` instance which holds information about the ϵ-greedy sampling approach. The `EpsilonSamplingModel` type has one additional field, the `ϵ` field which controls the approximate fraction of `exploration` steps the algorithm takes; `exploration` steps are purely random."
   ]
  },
  {
   "cell_type": "code",
   "execution_count": 9,
   "id": "4f9ad308-a266-4731-87f3-2d7b6ee323fb",
   "metadata": {
    "tags": []
   },
   "outputs": [],
   "source": [
    "model = EpsilonSamplingModel()\n",
    "model.K = K; # tickers\n",
    "model.α = ones(K); # initialize to uniform values\n",
    "model.β = ones(K); # initialize to uniform values\n",
    "model.ϵ = 0.001;"
   ]
  },
  {
   "cell_type": "markdown",
   "id": "46d9674b-50a2-4ffc-aaea-5892527463b8",
   "metadata": {},
   "source": [
    "Before we sample multiple agents, let's look at the results for a single agent:"
   ]
  },
  {
   "cell_type": "code",
   "execution_count": 10,
   "id": "0f01737f-d5f0-4ad7-a946-0c679123097e",
   "metadata": {
    "tags": []
   },
   "outputs": [],
   "source": [
    "time_sample_results_dict_eps = sample(model, dataset, tickers; 𝒯 = (maximum_number_trading_days - 1));"
   ]
  },
  {
   "cell_type": "markdown",
   "id": "9647a6f9-9f9c-4eee-818b-25efde42044e",
   "metadata": {},
   "source": [
    "Finally, we run the simulation for each of the `ticker picker` agents and visualize the results using the [PrettyTables.jl](https://github.com/ronisbr/PrettyTables.jl.githttps://github.com/ronisbr/PrettyTables.jl.git) package:"
   ]
  },
  {
   "cell_type": "code",
   "execution_count": 17,
   "id": "a132e42d-2cdb-4a7b-a85c-0a0a01af028f",
   "metadata": {
    "tags": []
   },
   "outputs": [],
   "source": [
    "number_of_agents = 20;\n",
    "trading_day_index = 10\n",
    "\n",
    "pref_array = Array{Float64,2}(undef, K, number_of_agents);\n",
    "agent_specific_data = Array{Beta,2}(undef, K, number_of_agents);\n",
    "\n",
    "for agent_index ∈ 1:number_of_agents\n",
    "    \n",
    "    # sample -\n",
    "    time_sample_results_dict_eps = sample(model, dataset, tickers; 𝒯 = (maximum_number_trading_days - 1));\n",
    "    beta_array = build_beta_array(time_sample_results_dict_eps[trading_day_index]);\n",
    "\n",
    "    # grab data for this agent -\n",
    "    for k = 1:K\n",
    "        agent_specific_data[k,agent_index] = beta_array[k]\n",
    "    end\n",
    "    \n",
    "    # compute the preference array -\n",
    "    tmp_array =  preference(beta_array, tickers; N = 10000);\n",
    "    for k = 1:K\n",
    "       pref_array[k, agent_index] = tmp_array[k] \n",
    "    end\n",
    "end"
   ]
  },
  {
   "cell_type": "markdown",
   "id": "c8dccada-13e7-44a4-8f2b-56a554b6d058",
   "metadata": {},
   "source": [
    "### Visualize"
   ]
  },
  {
   "cell_type": "code",
   "execution_count": 18,
   "id": "d6349c06-18e2-47ac-ac0a-c05c53ad34d2",
   "metadata": {
    "tags": []
   },
   "outputs": [
    {
     "name": "stdout",
     "output_type": "stream",
     "text": [
      "┌────────┬───────┬──────┐\n",
      "│\u001b[1m ticker \u001b[0m│\u001b[1m score \u001b[0m│\u001b[1m rank \u001b[0m│\n",
      "├────────┼───────┼──────┤\n",
      "│    MRK │  0.25 │    1 │\n",
      "│    MET │   0.2 │    2 │\n",
      "│   NFLX │   0.2 │    3 │\n",
      "│    JNJ │  0.15 │    4 │\n",
      "│   AAPL │  0.15 │    5 │\n",
      "│      K │  0.05 │    6 │\n",
      "└────────┴───────┴──────┘\n"
     ]
    }
   ],
   "source": [
    "# build a pretty table -\n",
    "pref_table_data = Array{Any,2}(undef, K, 3);\n",
    "\n",
    "# count -\n",
    "count_array = Array{Int64,1}(undef, number_of_agents);\n",
    "for agent_index ∈ 1:number_of_agents\n",
    "    count_array[agent_index] = argmax(pref_array[:,agent_index]);\n",
    "end\n",
    "\n",
    "for k ∈ 1:K\n",
    "    pref_table_data[k,1] = tickers[k];\n",
    "    \n",
    "    \n",
    "    # compute the votes -\n",
    "    idx = findall(x->x==k,count_array)\n",
    "    pref_table_data[k, 2] = (length(idx)/number_of_agents);\n",
    "    pref_table_data[k, 3] = k\n",
    "end\n",
    "\n",
    "# add rank col -\n",
    "p = sortperm(pref_table_data[:,2], rev=true);\n",
    "pref_table_data[:,1] .= tickers[p]\n",
    "pref_table_data[:,2] .= pref_table_data[p,2]\n",
    "\n",
    "# header -\n",
    "pref_table_header = ([\"ticker\", \"score\", \"rank\"]);\n",
    "\n",
    "# show -\n",
    "pretty_table(pref_table_data; header=pref_table_header)"
   ]
  },
  {
   "cell_type": "markdown",
   "id": "e293bc3f-2985-4741-b4fb-100d3ed5a083",
   "metadata": {},
   "source": [
    "### Inspect an individual agent\n",
    "Let's select one of our `ticker picker` agents and see what they would do. Set the index of the lucky agent in the `lucky_agent_index` variable:"
   ]
  },
  {
   "cell_type": "code",
   "execution_count": 14,
   "id": "d9a4e991-895e-4e30-898f-fa490f5715e2",
   "metadata": {
    "tags": []
   },
   "outputs": [],
   "source": [
    "lucky_agent_index = 1;"
   ]
  },
  {
   "cell_type": "markdown",
   "id": "4a158ded-de64-48a3-8125-2f42b1c989a4",
   "metadata": {},
   "source": [
    "Next, let's inspect the data for this agent that is stored in the `agent_specific_data` variable. Let's store the data for the agent in the `data_for_lucky_agent` variable:"
   ]
  },
  {
   "cell_type": "code",
   "execution_count": 15,
   "id": "a95f0b09-8dc1-4e84-9ba4-334c32a6c666",
   "metadata": {
    "tags": []
   },
   "outputs": [],
   "source": [
    "data_for_lucky_agent = agent_specific_data[:, lucky_agent_index];"
   ]
  },
  {
   "cell_type": "markdown",
   "id": "0a55ee73-ca5c-472b-bfd0-804b3c56a7ac",
   "metadata": {},
   "source": [
    "Finally, we'll sample the preferences of this agent using the `preferences(...)` function:"
   ]
  },
  {
   "cell_type": "code",
   "execution_count": 16,
   "id": "f90c590e-69ba-4126-b0cb-230c2f67262d",
   "metadata": {
    "tags": []
   },
   "outputs": [
    {
     "data": {
      "text/plain": [
       "6×2 Matrix{Any}:\n",
       " \"MRK\"   0.0224\n",
       " \"JNJ\"   0.1577\n",
       " \"MET\"   0.394\n",
       " \"NFLX\"  0.1049\n",
       " \"K\"     0.0538\n",
       " \"AAPL\"  0.2672"
      ]
     },
     "execution_count": 16,
     "metadata": {},
     "output_type": "execute_result"
    }
   ],
   "source": [
    "tmp_array =  preference(data_for_lucky_agent, tickers; N = 10000)\n",
    "[tickers tmp_array]"
   ]
  },
  {
   "cell_type": "markdown",
   "id": "ac941a64-75ed-4533-95e3-7be6a5ba45bf",
   "metadata": {},
   "source": [
    "### Disclaimer and Risks\n",
    "__This content is offered solely for training and  informational purposes__. No offer or solicitation to buy or sell securities or derivative products, or any investment or trading advice or strategy,  is made, given, or endorsed by the teaching team. \n",
    "\n",
    "__Trading involves risk__. Carefully review your financial situation before investing in securities, futures contracts, options, or commodity interests. Past performance, whether actual or indicated by historical tests of strategies, is no guarantee of future performance or success. Trading is generally inappropriate for someone with limited resources, investment or trading experience, or a low-risk tolerance.  Only risk capital that is not required for living expenses.\n",
    "\n",
    "__You are fully responsible for any investment or trading decisions you make__. Such decisions should be based solely on your evaluation of your financial circumstances, investment or trading objectives, risk tolerance, and liquidity needs."
   ]
  },
  {
   "cell_type": "code",
   "execution_count": null,
   "id": "fba3011a-d9ff-45b7-b027-6b7822c0b046",
   "metadata": {},
   "outputs": [],
   "source": []
  }
 ],
 "metadata": {
  "kernelspec": {
   "display_name": "Julia 1.9.3",
   "language": "julia",
   "name": "julia-1.9"
  },
  "language_info": {
   "file_extension": ".jl",
   "mimetype": "application/julia",
   "name": "julia",
   "version": "1.9.3"
  }
 },
 "nbformat": 4,
 "nbformat_minor": 5
}
