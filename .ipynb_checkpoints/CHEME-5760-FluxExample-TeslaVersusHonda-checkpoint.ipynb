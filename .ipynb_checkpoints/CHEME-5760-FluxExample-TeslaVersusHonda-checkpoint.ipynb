{
 "cells": [
  {
   "cell_type": "markdown",
   "id": "e8293ef0-f3a2-41e3-b6b6-1d98291f3e17",
   "metadata": {},
   "source": [
    "# Example: Binary Discrete Choice Models as a Neural Network\n",
    "For an individual, both observable and unobservable features can influence decisions. Utility functions for individuals which consider both observable and unobservable factors take the form:\n",
    "\n",
    "\\begin{equation}\n",
    "U_{ij} = V_{ij} + \\epsilon_{ij}\n",
    "\\end{equation}\n",
    "\n",
    "The term $U_{ij}$ is the utility of alternative $j$ for individual $i$, $V_{ij}$ is the _deterministic_ component of the utility, \n",
    "i.e., the utility associated with the observable features, and $\\epsilon_{ij}$ is the random component of the utility (error model). \n",
    "\n",
    "### Logit choice model\n",
    "One of the most common choice models is the `Logit` model. Assume the random component of the utility $U_{ij}$ is _independently and identically distributed_ (IID) across $J$ alternatives, and is [Gumbel distributed](https://en.wikipedia.org/wiki/Gumbel_distribution), \n",
    "then the probability that individual $i$ chooses alternative $j$ is given by the [logit choice model](https://en.wikipedia.org/wiki/Discrete_choice):\n",
    "\n",
    "\\begin{equation}\n",
    "P_{ij} = \\frac{e^{V_{ij}/\\mu}}{\\displaystyle \\sum_{k=1}^{J}e^{V_{ik}/\\mu}}\\qquad{j=1,\\dotsc,J}\n",
    "\\end{equation}\n",
    "\n",
    "where $P_{ij}$ is the probability that individual $i$ chooses alternative $j$, $V_{ij}$ is the deterministic component of the utility, and $\\mu$ is a scale parameter.\n",
    "\n",
    "### Learning Objectives\n",
    "In this example, our goal is to calculate the probability of a binary choice between purchasing a Tesla Model S or a Honda Odyssey, using a `Artifical Neural Network (ANN)`. We will be using the `Logit` choice model to achieve to generate training data, which we'll use to train an `ANN`. \n",
    "\n",
    "- Introducing students to Random Utility Models (RUMs) and the `Logit` discrete choice model\n",
    "- Familiarizing students with `Bernoulli` random variables and how to simulate binary choices\n",
    "- Teaching students how to directly simulate Random Utility Models (RUMs) `Logit` discrete choice model by directly sampling the `Gumbel` distribution. \n",
    "\n",
    "By the end of this exercise, students should have a better understanding of these concepts and be able to apply them in real-world scenarios."
   ]
  },
  {
   "cell_type": "markdown",
   "id": "8c749cad-8469-4e12-9184-19db9298141d",
   "metadata": {},
   "source": [
    "## Setup"
   ]
  },
  {
   "cell_type": "code",
   "execution_count": 1,
   "id": "d7abcdea-5025-408e-a67d-d11af5167f1b",
   "metadata": {
    "tags": []
   },
   "outputs": [
    {
     "name": "stderr",
     "output_type": "stream",
     "text": [
      "\u001b[32m\u001b[1m    Updating\u001b[22m\u001b[39m git-repo `https://github.com/varnerlab/VLDecisionsPackage.jl.git`\n",
      "\u001b[32m\u001b[1m   Resolving\u001b[22m\u001b[39m package versions...\n",
      "\u001b[32m\u001b[1m  No Changes\u001b[22m\u001b[39m to `~/Desktop/julia_work/CHEME-5760-Examples-F23/Project.toml`\n",
      "\u001b[32m\u001b[1m  No Changes\u001b[22m\u001b[39m to `~/Desktop/julia_work/CHEME-5760-Examples-F23/Manifest.toml`\n",
      "\u001b[32m\u001b[1m  Activating\u001b[22m\u001b[39m project at `~/Desktop/julia_work/CHEME-5760-Examples-F23`\n",
      "\u001b[32m\u001b[1m    Updating\u001b[22m\u001b[39m registry at `~/.julia/registries/General.toml`\n",
      "\u001b[32m\u001b[1m    Updating\u001b[22m\u001b[39m git-repo `https://github.com/varnerlab/VLDecisionsPackage.jl.git`\n",
      "\u001b[32m\u001b[1m  No Changes\u001b[22m\u001b[39m to `~/Desktop/julia_work/CHEME-5760-Examples-F23/Project.toml`\n",
      "\u001b[32m\u001b[1m  No Changes\u001b[22m\u001b[39m to `~/Desktop/julia_work/CHEME-5760-Examples-F23/Manifest.toml`\n"
     ]
    }
   ],
   "source": [
    "include(\"Include.jl\");"
   ]
  },
  {
   "cell_type": "markdown",
   "id": "bd962cb1-1f6a-4861-88cc-936c0397b67c",
   "metadata": {},
   "source": [
    "## Data\n",
    "The dataset we explore will be random perturbations of the Tesla versus Odyssey survey presented in class (in example `L2b`). \n",
    "* We load this dataset into the notebook using the `HondaTeslaDataSet()` function. This function stores the data in the `dataset` variable, a [DataFrame type](https://dataframes.juliadata.org/stable/).\n",
    "* We'll then randomly perturb the values of the dataset to generate a `training` collection, and a `testing` collection"
   ]
  },
  {
   "cell_type": "code",
   "execution_count": 2,
   "id": "66366dd8-20ba-4e68-87d3-da0e0964b2f6",
   "metadata": {
    "tags": []
   },
   "outputs": [
    {
     "data": {
      "text/html": [
       "<div><div style = \"float: left;\"><span>7×4 DataFrame</span></div><div style = \"clear: both;\"></div></div><div class = \"data-frame\" style = \"overflow-x: scroll;\"><table class = \"data-frame\" style = \"margin-bottom: 6px;\"><thead><tr class = \"header\"><th class = \"rowNumber\" style = \"font-weight: bold; text-align: right;\">Row</th><th style = \"text-align: left;\">feature</th><th style = \"text-align: left;\">exponent</th><th style = \"text-align: left;\">Tesla</th><th style = \"text-align: left;\">Honda</th></tr><tr class = \"subheader headerLastRow\"><th class = \"rowNumber\" style = \"font-weight: bold; text-align: right;\"></th><th title = \"String15\" style = \"text-align: left;\">String15</th><th title = \"Float64\" style = \"text-align: left;\">Float64</th><th title = \"Float64\" style = \"text-align: left;\">Float64</th><th title = \"Float64\" style = \"text-align: left;\">Float64</th></tr></thead><tbody><tr><td class = \"rowNumber\" style = \"font-weight: bold; text-align: right;\">1</td><td style = \"text-align: left;\">sustainability</td><td style = \"text-align: right;\">0.2</td><td style = \"text-align: right;\">5.0</td><td style = \"text-align: right;\">3.0</td></tr><tr><td class = \"rowNumber\" style = \"font-weight: bold; text-align: right;\">2</td><td style = \"text-align: left;\">affordability</td><td style = \"text-align: right;\">0.1</td><td style = \"text-align: right;\">2.0</td><td style = \"text-align: right;\">4.0</td></tr><tr><td class = \"rowNumber\" style = \"font-weight: bold; text-align: right;\">3</td><td style = \"text-align: left;\">styling</td><td style = \"text-align: right;\">0.05</td><td style = \"text-align: right;\">5.0</td><td style = \"text-align: right;\">2.0</td></tr><tr><td class = \"rowNumber\" style = \"font-weight: bold; text-align: right;\">4</td><td style = \"text-align: left;\">usefulness</td><td style = \"text-align: right;\">0.3</td><td style = \"text-align: right;\">2.0</td><td style = \"text-align: right;\">5.0</td></tr><tr><td class = \"rowNumber\" style = \"font-weight: bold; text-align: right;\">5</td><td style = \"text-align: left;\">costownership</td><td style = \"text-align: right;\">0.1</td><td style = \"text-align: right;\">4.0</td><td style = \"text-align: right;\">2.0</td></tr><tr><td class = \"rowNumber\" style = \"font-weight: bold; text-align: right;\">6</td><td style = \"text-align: left;\">performance</td><td style = \"text-align: right;\">0.05</td><td style = \"text-align: right;\">5.0</td><td style = \"text-align: right;\">1.0</td></tr><tr><td class = \"rowNumber\" style = \"font-weight: bold; text-align: right;\">7</td><td style = \"text-align: left;\">safety</td><td style = \"text-align: right;\">0.2</td><td style = \"text-align: right;\">5.0</td><td style = \"text-align: right;\">5.0</td></tr></tbody></table></div>"
      ],
      "text/latex": [
       "\\begin{tabular}{r|cccc}\n",
       "\t& feature & exponent & Tesla & Honda\\\\\n",
       "\t\\hline\n",
       "\t& String15 & Float64 & Float64 & Float64\\\\\n",
       "\t\\hline\n",
       "\t1 & sustainability & 0.2 & 5.0 & 3.0 \\\\\n",
       "\t2 & affordability & 0.1 & 2.0 & 4.0 \\\\\n",
       "\t3 & styling & 0.05 & 5.0 & 2.0 \\\\\n",
       "\t4 & usefulness & 0.3 & 2.0 & 5.0 \\\\\n",
       "\t5 & costownership & 0.1 & 4.0 & 2.0 \\\\\n",
       "\t6 & performance & 0.05 & 5.0 & 1.0 \\\\\n",
       "\t7 & safety & 0.2 & 5.0 & 5.0 \\\\\n",
       "\\end{tabular}\n"
      ],
      "text/plain": [
       "\u001b[1m7×4 DataFrame\u001b[0m\n",
       "\u001b[1m Row \u001b[0m│\u001b[1m feature        \u001b[0m\u001b[1m exponent \u001b[0m\u001b[1m Tesla   \u001b[0m\u001b[1m Honda   \u001b[0m\n",
       "     │\u001b[90m String15       \u001b[0m\u001b[90m Float64  \u001b[0m\u001b[90m Float64 \u001b[0m\u001b[90m Float64 \u001b[0m\n",
       "─────┼────────────────────────────────────────────\n",
       "   1 │ sustainability      0.2       5.0      3.0\n",
       "   2 │ affordability       0.1       2.0      4.0\n",
       "   3 │ styling             0.05      5.0      2.0\n",
       "   4 │ usefulness          0.3       2.0      5.0\n",
       "   5 │ costownership       0.1       4.0      2.0\n",
       "   6 │ performance         0.05      5.0      1.0\n",
       "   7 │ safety              0.2       5.0      5.0"
      ]
     },
     "execution_count": 2,
     "metadata": {},
     "output_type": "execute_result"
    }
   ],
   "source": [
    "dataset = HondaTeslaDataSet()"
   ]
  },
  {
   "cell_type": "code",
   "execution_count": 3,
   "id": "8cd2995d-a784-45f4-8ac2-73fe63d26c2b",
   "metadata": {
    "tags": []
   },
   "outputs": [
    {
     "data": {
      "text/plain": [
       "Dirichlet{Float64, Vector{Float64}, Float64}(alpha=[0.2, 0.1, 0.05, 0.3, 0.1, 0.05, 0.2])"
      ]
     },
     "execution_count": 3,
     "metadata": {},
     "output_type": "execute_result"
    }
   ],
   "source": [
    "exponent_distribution = Dirichlet(dataset[!,:exponent])"
   ]
  },
  {
   "cell_type": "code",
   "execution_count": 4,
   "id": "754b0ec1-1d5e-4d51-8145-ea2595b56e57",
   "metadata": {
    "tags": []
   },
   "outputs": [],
   "source": [
    "number_of_traning_samples = 1000\n",
    "number_of_features = 7\n",
    "training_example_dictionary = Dict{Int64, DataFrame}();\n",
    "for i ∈ 1:number_of_traning_samples\n",
    "    \n",
    "    # initialize a blank DataFrame -\n",
    "    df = DataFrame();\n",
    "    \n",
    "    # generate an exponent vector -\n",
    "    α = rand(exponent_distribution) .|> x-> round(x, digits=4)\n",
    "    tesla_scores = rand(1.0:5.0,number_of_features);\n",
    "    honda_scores = rand(1.0:5.0,number_of_features);\n",
    "    \n",
    "    for j ∈ 1:number_of_features\n",
    "        row_data = (\n",
    "            feature = dataset[j,:feature],\n",
    "            exponent = α[j],\n",
    "            Tesla = tesla_scores[j],\n",
    "            Honda = honda_scores[j]\n",
    "        );\n",
    "        push!(df, row_data);\n",
    "    end\n",
    "    \n",
    "    # grab the traning example -\n",
    "    training_example_dictionary[i] = df;\n",
    "end"
   ]
  },
  {
   "cell_type": "code",
   "execution_count": 5,
   "id": "9c1f25fb-2aca-4dfc-aa8f-280cf1e643d1",
   "metadata": {
    "tags": []
   },
   "outputs": [
    {
     "data": {
      "text/html": [
       "<div><div style = \"float: left;\"><span>7×4 DataFrame</span></div><div style = \"clear: both;\"></div></div><div class = \"data-frame\" style = \"overflow-x: scroll;\"><table class = \"data-frame\" style = \"margin-bottom: 6px;\"><thead><tr class = \"header\"><th class = \"rowNumber\" style = \"font-weight: bold; text-align: right;\">Row</th><th style = \"text-align: left;\">feature</th><th style = \"text-align: left;\">exponent</th><th style = \"text-align: left;\">Tesla</th><th style = \"text-align: left;\">Honda</th></tr><tr class = \"subheader headerLastRow\"><th class = \"rowNumber\" style = \"font-weight: bold; text-align: right;\"></th><th title = \"String15\" style = \"text-align: left;\">String15</th><th title = \"Float64\" style = \"text-align: left;\">Float64</th><th title = \"Float64\" style = \"text-align: left;\">Float64</th><th title = \"Float64\" style = \"text-align: left;\">Float64</th></tr></thead><tbody><tr><td class = \"rowNumber\" style = \"font-weight: bold; text-align: right;\">1</td><td style = \"text-align: left;\">sustainability</td><td style = \"text-align: right;\">0.326</td><td style = \"text-align: right;\">4.0</td><td style = \"text-align: right;\">4.0</td></tr><tr><td class = \"rowNumber\" style = \"font-weight: bold; text-align: right;\">2</td><td style = \"text-align: left;\">affordability</td><td style = \"text-align: right;\">0.6706</td><td style = \"text-align: right;\">4.0</td><td style = \"text-align: right;\">1.0</td></tr><tr><td class = \"rowNumber\" style = \"font-weight: bold; text-align: right;\">3</td><td style = \"text-align: left;\">styling</td><td style = \"text-align: right;\">0.0031</td><td style = \"text-align: right;\">1.0</td><td style = \"text-align: right;\">1.0</td></tr><tr><td class = \"rowNumber\" style = \"font-weight: bold; text-align: right;\">4</td><td style = \"text-align: left;\">usefulness</td><td style = \"text-align: right;\">0.0</td><td style = \"text-align: right;\">4.0</td><td style = \"text-align: right;\">5.0</td></tr><tr><td class = \"rowNumber\" style = \"font-weight: bold; text-align: right;\">5</td><td style = \"text-align: left;\">costownership</td><td style = \"text-align: right;\">0.0002</td><td style = \"text-align: right;\">1.0</td><td style = \"text-align: right;\">1.0</td></tr><tr><td class = \"rowNumber\" style = \"font-weight: bold; text-align: right;\">6</td><td style = \"text-align: left;\">performance</td><td style = \"text-align: right;\">0.0</td><td style = \"text-align: right;\">2.0</td><td style = \"text-align: right;\">1.0</td></tr><tr><td class = \"rowNumber\" style = \"font-weight: bold; text-align: right;\">7</td><td style = \"text-align: left;\">safety</td><td style = \"text-align: right;\">0.0</td><td style = \"text-align: right;\">1.0</td><td style = \"text-align: right;\">5.0</td></tr></tbody></table></div>"
      ],
      "text/latex": [
       "\\begin{tabular}{r|cccc}\n",
       "\t& feature & exponent & Tesla & Honda\\\\\n",
       "\t\\hline\n",
       "\t& String15 & Float64 & Float64 & Float64\\\\\n",
       "\t\\hline\n",
       "\t1 & sustainability & 0.326 & 4.0 & 4.0 \\\\\n",
       "\t2 & affordability & 0.6706 & 4.0 & 1.0 \\\\\n",
       "\t3 & styling & 0.0031 & 1.0 & 1.0 \\\\\n",
       "\t4 & usefulness & 0.0 & 4.0 & 5.0 \\\\\n",
       "\t5 & costownership & 0.0002 & 1.0 & 1.0 \\\\\n",
       "\t6 & performance & 0.0 & 2.0 & 1.0 \\\\\n",
       "\t7 & safety & 0.0 & 1.0 & 5.0 \\\\\n",
       "\\end{tabular}\n"
      ],
      "text/plain": [
       "\u001b[1m7×4 DataFrame\u001b[0m\n",
       "\u001b[1m Row \u001b[0m│\u001b[1m feature        \u001b[0m\u001b[1m exponent \u001b[0m\u001b[1m Tesla   \u001b[0m\u001b[1m Honda   \u001b[0m\n",
       "     │\u001b[90m String15       \u001b[0m\u001b[90m Float64  \u001b[0m\u001b[90m Float64 \u001b[0m\u001b[90m Float64 \u001b[0m\n",
       "─────┼────────────────────────────────────────────\n",
       "   1 │ sustainability    0.326       4.0      4.0\n",
       "   2 │ affordability     0.6706      4.0      1.0\n",
       "   3 │ styling           0.0031      1.0      1.0\n",
       "   4 │ usefulness        0.0         4.0      5.0\n",
       "   5 │ costownership     0.0002      1.0      1.0\n",
       "   6 │ performance       0.0         2.0      1.0\n",
       "   7 │ safety            0.0         1.0      5.0"
      ]
     },
     "execution_count": 5,
     "metadata": {},
     "output_type": "execute_result"
    }
   ],
   "source": [
    "training_example_dictionary[600]"
   ]
  },
  {
   "cell_type": "code",
   "execution_count": 6,
   "id": "edacbaa3-68a7-41d1-b7ad-ab61fdc2da39",
   "metadata": {
    "tags": []
   },
   "outputs": [],
   "source": [
    "P_training_array = Array{Float64,1}();\n",
    "for i ∈ 1:number_of_traning_samples\n",
    "    dataset = training_example_dictionary[i];\n",
    "    \n",
    "    model = build(VLLogTransformedCobbDouglasUtilityFunction, (\n",
    "        α = dataset[:,:exponent], b = ℯ)\n",
    "    );\n",
    "    \n",
    "    V = zeros(2);\n",
    "    V[1] = model(dataset[:,:Tesla]);\n",
    "    V[2] = model(dataset[:,:Honda]);\n",
    "    \n",
    "    # compute P -\n",
    "    p = exp(V[1])/(exp(V[1])+exp(V[2]))\n",
    "    \n",
    "    # capture -\n",
    "    push!(P_training_array, p)\n",
    "end"
   ]
  },
  {
   "cell_type": "markdown",
   "id": "96f389aa-45e0-494f-81d6-0b27fd86a212",
   "metadata": {},
   "source": [
    "## Build/Train the ANN decision agent"
   ]
  },
  {
   "cell_type": "code",
   "execution_count": 7,
   "id": "95151f1b-3e04-4d16-971c-3f53cc74421c",
   "metadata": {
    "tags": []
   },
   "outputs": [],
   "source": [
    "# initialize storage for labeled data for training -\n",
    "training_data_vector = Vector{Tuple{Vector{Float32},Float32}}();\n",
    "for i ∈ 1:number_of_traning_samples\n",
    "    \n",
    "    # grab the dataset\n",
    "    dataset = training_example_dictionary[i];\n",
    "    \n",
    "    # pull the numerical data out, and convert to Float32\n",
    "    input_data_vector = dataset[!,[:exponent,:Tesla,:Honda]] |> Matrix |> x-> reshape(x,21) .|> x->convert(Float32,x) \n",
    "    y = P_training_array[i] |> x-> convert(Float32,x); # output\n",
    "    \n",
    "    # package -\n",
    "    data_tuple = (\n",
    "        input_data_vector, y\n",
    "    );\n",
    "    push!(training_data_vector, data_tuple);\n",
    "end"
   ]
  },
  {
   "cell_type": "code",
   "execution_count": 8,
   "id": "1defe6ed-30d6-440d-87cf-82466bca422d",
   "metadata": {
    "tags": []
   },
   "outputs": [],
   "source": [
    "# build the model -\n",
    "input_dimension = number_of_features*3;\n",
    "#FFN_binary_choice = Chain(Dense(input_dimension, 10, σ), Dense(10, 1, σ));\n",
    "FFN_binary_choice = Chain(Dense(input_dimension, 10, σ), Dense(10, 8, σ), Dense(8, 2, σ), Dense(2, 1, σ));"
   ]
  },
  {
   "cell_type": "code",
   "execution_count": 9,
   "id": "94192b86-7673-4120-8b4a-98faf0808446",
   "metadata": {
    "tags": []
   },
   "outputs": [
    {
     "data": {
      "text/plain": [
       "loss (generic function with 1 method)"
      ]
     },
     "execution_count": 9,
     "metadata": {},
     "output_type": "execute_result"
    }
   ],
   "source": [
    "# setup a loss function -\n",
    "loss(x, y) = Flux.Losses.mse(FFN_binary_choice(x), y; agg = mean)"
   ]
  },
  {
   "cell_type": "code",
   "execution_count": 10,
   "id": "f49c0ad4-0e25-4ec2-b5b9-deaa45274242",
   "metadata": {
    "tags": []
   },
   "outputs": [
    {
     "data": {
      "text/plain": [
       "Params([Float32[-0.15398169 -0.27920803 … 0.3063056 -0.25972453; -0.28658324 0.39146098 … -0.3077912 -0.16072471; … ; 0.33179227 0.29942274 … 0.07458144 0.280759; -0.106863074 -0.33519754 … 0.35353678 -0.0059852963], Float32[0.0, 0.0, 0.0, 0.0, 0.0, 0.0, 0.0, 0.0, 0.0, 0.0], Float32[0.20281586 -0.13127875 … -0.31848973 0.39112967; 0.45615515 0.17447606 … -0.025403 -0.15856344], Float32[0.0, 0.0], Float32[-0.9686101 -0.0077899178], Float32[0.0]])"
      ]
     },
     "execution_count": 10,
     "metadata": {},
     "output_type": "execute_result"
    }
   ],
   "source": [
    "# pointer to params -\n",
    "θ = Flux.params(FFN_binary_choice)"
   ]
  },
  {
   "cell_type": "markdown",
   "id": "092a9a75-7a6c-4960-a39a-eb2d7d1f0e35",
   "metadata": {},
   "source": [
    "Next, let's specify the optimization approach the we'll use to estimate the unknown model parameters $\\theta$. In particular, we'll use the [Momentum gradient descent algorithm](https://optimization.cbe.cornell.edu/index.php?title=Momentum): \n",
    "> Momentum is an extension to the gradient descent optimization algorithm that allows the search to build inertia in a direction in the search space and overcome the oscillations of noisy gradients and coast across flat spots of the search space"
   ]
  },
  {
   "cell_type": "code",
   "execution_count": 11,
   "id": "817afd79-0727-4de5-a2e9-33faa451873d",
   "metadata": {
    "tags": []
   },
   "outputs": [],
   "source": [
    "λ = 0.10;  # learning rate\n",
    "β = 0.95; # momentum parameter\n",
    "opt = Momentum(λ, β);"
   ]
  },
  {
   "cell_type": "markdown",
   "id": "e981d804-cdcc-4681-b60c-562445c5a1d7",
   "metadata": {},
   "source": [
    "We'll specify the number of times we process the data (called an `epoch`) in the `number_of_epochs` variable. To run the gradient descent estimation algorithm, we'll call the `train!(...)` function exported by the [Flux.jl](https://fluxml.ai) package:"
   ]
  },
  {
   "cell_type": "code",
   "execution_count": 12,
   "id": "f5b8a3ae-6b1c-4f18-bd53-7cc8c2ef3d45",
   "metadata": {
    "tags": []
   },
   "outputs": [],
   "source": [
    "number_of_epochs = 1000;\n",
    "for i = 1:number_of_epochs\n",
    "    Flux.train!(loss, θ, training_data_vector, opt)\n",
    "end"
   ]
  },
  {
   "cell_type": "markdown",
   "id": "3c65ffe7-d74e-4450-96ff-060cd7f6bec4",
   "metadata": {
    "tags": []
   },
   "source": [
    "### What is the correct classification rate?"
   ]
  },
  {
   "cell_type": "code",
   "execution_count": 13,
   "id": "1ed8e860-5f3b-4ec8-84dd-17ee04deed95",
   "metadata": {
    "tags": []
   },
   "outputs": [],
   "source": [
    "score_array = Array{Int,1}();\n",
    "for i ∈ 1:number_of_traning_samples\n",
    "    x = training_data_vector[i][1];\n",
    "    y = training_data_vector[i][2];\n",
    "    ŷ = FFN_binary_choice(x)[1]\n",
    "    \n",
    "    correct_choice = y > 0.50 ? 'T' : 'H'\n",
    "    predicted_choice = ŷ > 0.50 ? 'T' : 'H'\n",
    "    if (correct_choice == predicted_choice)\n",
    "        push!(score_array,1)\n",
    "    else\n",
    "        push!(score_array,0)\n",
    "    end \n",
    "end"
   ]
  },
  {
   "cell_type": "code",
   "execution_count": 14,
   "id": "8c4097a1-435a-4c37-be5b-c06e638f8ebf",
   "metadata": {
    "tags": []
   },
   "outputs": [
    {
     "data": {
      "text/plain": [
       "0.794"
      ]
     },
     "execution_count": 14,
     "metadata": {},
     "output_type": "execute_result"
    }
   ],
   "source": [
    "freq_correct = findall(x->x==1,score_array) |> length |> x-> x/number_of_traning_samples"
   ]
  }
 ],
 "metadata": {
  "kernelspec": {
   "display_name": "Julia 1.9.3",
   "language": "julia",
   "name": "julia-1.9"
  },
  "language_info": {
   "file_extension": ".jl",
   "mimetype": "application/julia",
   "name": "julia",
   "version": "1.9.3"
  }
 },
 "nbformat": 4,
 "nbformat_minor": 5
}
