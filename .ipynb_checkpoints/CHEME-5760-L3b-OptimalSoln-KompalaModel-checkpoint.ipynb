{
 "cells": [
  {
   "cell_type": "markdown",
   "id": "20ee2807-4d10-48c5-9b56-efced39ce898",
   "metadata": {},
   "source": [
    "## Utility Analysis of the Kompala Model\n",
    "The Kompala model is an early example of the cybernetic modeling framework of [Ramkrishna and coworkers](https://engineering.purdue.edu/ramkiites/) that reimmagined the outcome of [carbon catabolite repression](https://pubmed.ncbi.nlm.nih.gov/18628769/) decisions as the output of a resource allocation problem:\n",
    "\n",
    "* [Kompala DS, Ramkrishna D, Jansen NB, Tsao GT. (1986) Investigation of bacterial growth on mixed substrates: experimental evaluation of cybernetic models. Biotechnol Bioeng. 28:1044-55. doi: 10.1002/bit.260280715](https://pubmed.ncbi.nlm.nih.gov/18555426/)\n",
    "\n",
    "### Background\n",
    "Let's explore the ideas presented by Kompala et al. from the point of view of a resource allocation problem. In particular, let's assume the cell is trying to maximize the utility gained from consuming two possible sugars, glucose, which we denote with index `1`, and some other sugar we indicate with index `2`. Let's model the rate of growth experienced by the cell by consuming sugar $i$ as the [Monod](https://en.wikipedia.org/wiki/Monod_equation) like expression:\n",
    "\n",
    "\n",
    "$$\n",
    "r_{i} = \\left(\\frac{\\mu_{i}s_{i}c}{K_{i}+s_{i}}\\right)\\cdot{e_{i}(R)}\n",
    "$$\n",
    "\n",
    "where $s_{i}$ denotes the concentration of sugar $i$, $\\mu_{i}$ denotes the specific growth rate of the cell on sugar $i$, $K_{i}$ denotes the growth saturation constant for sugar $i$, and $c$ denotes the concentration of cells. Finally, $e_{i}(R)$ denotes the concentration of a pseudo enzyme responsible for the consumption of sugar $i$, where the expression of the pseudo enzyme $i$ depends upon some hypothetical scarce resource $R$. Assume the utility used by the cell is the linear utility function:\n",
    "\n",
    "$$\n",
    "\\begin{equation}\n",
    "U(e_{1},e_{2}) = \\sum_{i\\in{1,\\dotsc,n}}r_{i}\n",
    "\\end{equation}\n",
    "$$\n",
    "\n",
    "where $r_{i}$ is the growth rate obtained by consuming sugar $i$. The expression of pseudo enzyme $e_{i}(R)$ is limited by the avalability of resource $R$, thus, we write a resource constraint of the form:\n",
    "\n",
    "$$\n",
    "\\sum_{i\\in{1,\\dotsc,n}} c_{i}\\cdot{e}_{i}(R) = B\n",
    "$$\n",
    "\n",
    "where $c_{i}$ denotes the resource $R$ that is consumed by the expression of $e_{i}(R)$, and $B$ denotes the total amount of resource $R$, e.g., ATP, ribosomal capacity, etc.\n",
    "\n",
    "\n",
    "### Hypothesis\n",
    "We hypothesize that the cell solves a resource allocation problem of the form:\n",
    "\n",
    "$$\n",
    "\\begin{eqnarray}\n",
    "\\text{maximize}~\\mathcal{O} & = & \\sum_{i\\in{1,\\dotsc,n}}\\gamma_{i}\\cdot{e}_{i}(R) \\\\\n",
    "\\text{subject to}~\\sum_{i\\in{1,\\dotsc,n}}c_{i}\\cdot{e}_{i}(R) & = & B \\\\\n",
    "\\text{and}~e_{i}&\\geq&{0}\\qquad{i=1,2,\\dots,n}\n",
    "\\end{eqnarray}\n",
    "$$\n",
    "\n",
    "where the constants $\\gamma_{i}$ is defined as:\n",
    "\n",
    "$$\n",
    "\\begin{equation}\n",
    "\\gamma_{i} \\equiv \\left(\\frac{\\mu_{i}s_{i}c}{K_{i}+s_{i}}\\right)\n",
    "\\end{equation}\n",
    "$$\n",
    "\n",
    "Letting the decision variable(s) be $e_{i}(R)$ gives an interesting interpretation: this is a constrained linear utility maximization problem. Thus, we expect to see corner solutions, i.e., a distinct choice between the sugars, except when the indifference curves are exactly parallel with the resource constraint."
   ]
  },
  {
   "cell_type": "markdown",
   "id": "07d49ee7-cf6e-4a83-861a-8e574f2bb1ae",
   "metadata": {},
   "source": [
    "## Setup\n",
    "The computations in this lab (or example) are enabled by the [VLDecisionsPackage.jl](https://github.com/varnerlab/VLDecisionsPackage.jl.git) and several external `Julia` packages. To load the required packages and any custom codes the teaching team has developed to work with these packages, we [include](https://docs.julialang.org/en/v1/manual/code-loading/) the `Include.jl` file):"
   ]
  },
  {
   "cell_type": "code",
   "execution_count": 1,
   "id": "1173cf6b-6cee-4acc-a704-d02ffb358b2c",
   "metadata": {
    "tags": []
   },
   "outputs": [
    {
     "name": "stderr",
     "output_type": "stream",
     "text": [
      "\u001b[32m\u001b[1m  Activating\u001b[22m\u001b[39m project at `~/Desktop/julia_work/CHEME-5760-Examples-F23`\n",
      "\u001b[32m\u001b[1m    Updating\u001b[22m\u001b[39m registry at `~/.julia/registries/General.toml`\n",
      "\u001b[32m\u001b[1m    Updating\u001b[22m\u001b[39m git-repo `https://github.com/varnerlab/VLDecisionsPackage.jl.git`\n",
      "\u001b[32m\u001b[1m  No Changes\u001b[22m\u001b[39m to `~/Desktop/julia_work/CHEME-5760-Examples-F23/Project.toml`\n",
      "\u001b[32m\u001b[1m  No Changes\u001b[22m\u001b[39m to `~/Desktop/julia_work/CHEME-5760-Examples-F23/Manifest.toml`\n"
     ]
    }
   ],
   "source": [
    "include(\"Include.jl\");"
   ]
  },
  {
   "cell_type": "markdown",
   "id": "ef2b02af-2f70-440b-8e6d-8bead6c2c540",
   "metadata": {},
   "source": [
    "## Parameters\n",
    "Let's consider the case of glucose (index `1`) and xylose (index `2`):"
   ]
  },
  {
   "cell_type": "code",
   "execution_count": 23,
   "id": "52eb3d9e-d35d-49ab-ba2d-11f658301870",
   "metadata": {
    "tags": []
   },
   "outputs": [],
   "source": [
    "s₁,s₂ = 0.5, 2.5;\n",
    "K₁,K₂,μ₁,μ₂ = 0.01, 0.2, 1.08, 1.82;\n",
    "β₁,β₂ = 0.05,0.05;\n",
    "c = 0.35;\n",
    "α₁,α₂ = 0.001, 0.001;\n",
    "total_budget = 0.00010760669000000001;  # g ATP/L culture"
   ]
  },
  {
   "cell_type": "code",
   "execution_count": 24,
   "id": "ff37f772-d0f9-4ae4-9786-857dba04c43e",
   "metadata": {
    "tags": []
   },
   "outputs": [
    {
     "data": {
      "text/plain": [
       "0.37058823529411766"
      ]
     },
     "execution_count": 24,
     "metadata": {},
     "output_type": "execute_result"
    }
   ],
   "source": [
    "γ₁ = (μ₁*s₁*c)/(K₁+s₁)"
   ]
  },
  {
   "cell_type": "code",
   "execution_count": 25,
   "id": "89c167ff-1425-4a93-bc98-934485dc7ea7",
   "metadata": {
    "tags": []
   },
   "outputs": [
    {
     "data": {
      "text/plain": [
       "0.5898148148148147"
      ]
     },
     "execution_count": 25,
     "metadata": {},
     "output_type": "execute_result"
    }
   ],
   "source": [
    "γ₂ = (μ₂*s₂*c)/(K₂+s₂)"
   ]
  },
  {
   "cell_type": "code",
   "execution_count": 26,
   "id": "19d45fe5-acea-429d-bcae-22b0db6df2dc",
   "metadata": {
    "tags": []
   },
   "outputs": [
    {
     "data": {
      "text/plain": [
       "0.0003036612875238591"
      ]
     },
     "execution_count": 26,
     "metadata": {},
     "output_type": "execute_result"
    }
   ],
   "source": [
    "c₁ = (1/(μ₁+β₁))*((α₁*s₁*c)/(K₁+s₁))"
   ]
  },
  {
   "cell_type": "code",
   "execution_count": 27,
   "id": "df23ef0c-1455-4305-98ff-6ea52372f3ba",
   "metadata": {
    "tags": []
   },
   "outputs": [
    {
     "data": {
      "text/plain": [
       "0.00017330164388987913"
      ]
     },
     "execution_count": 27,
     "metadata": {},
     "output_type": "execute_result"
    }
   ],
   "source": [
    "c₂ = (1/(μ₂+β₂))*((α₁*s₂*c)/(K₂+s₂))"
   ]
  },
  {
   "cell_type": "markdown",
   "id": "91ce784d-43e9-4198-aa22-cd2661f52512",
   "metadata": {},
   "source": [
    "## Which case should we see?"
   ]
  },
  {
   "cell_type": "code",
   "execution_count": 28,
   "id": "4aa5b02a-59d9-493a-9da1-5fcb4de58519",
   "metadata": {
    "tags": []
   },
   "outputs": [
    {
     "data": {
      "text/plain": [
       "-1.7522123893805315"
      ]
     },
     "execution_count": 28,
     "metadata": {},
     "output_type": "execute_result"
    }
   ],
   "source": [
    "m_resource_line = -1*(c₁/c₂)"
   ]
  },
  {
   "cell_type": "code",
   "execution_count": 29,
   "id": "8e09c940-ca16-41fa-b39a-ed1bebe6c65b",
   "metadata": {
    "tags": []
   },
   "outputs": [
    {
     "data": {
      "text/plain": [
       "-0.6283128636069815"
      ]
     },
     "execution_count": 29,
     "metadata": {},
     "output_type": "execute_result"
    }
   ],
   "source": [
    "m_indifference = -1*(γ₁/γ₂)"
   ]
  },
  {
   "cell_type": "code",
   "execution_count": 30,
   "id": "845e3ff9-81b7-4a0b-b10b-f55e77dd4ad0",
   "metadata": {
    "tags": []
   },
   "outputs": [
    {
     "data": {
      "text/plain": [
       "0.5770285714285717"
      ]
     },
     "execution_count": 30,
     "metadata": {},
     "output_type": "execute_result"
    }
   ],
   "source": [
    "ê₁ = (0.0001)/c₂"
   ]
  },
  {
   "cell_type": "code",
   "execution_count": 31,
   "id": "e20be7cc-57a4-4565-8b7d-0f2cc37461f3",
   "metadata": {
    "tags": []
   },
   "outputs": [
    {
     "name": "stdout",
     "output_type": "stream",
     "text": [
      "Case B: Solution should be the y-intercept corner point\n"
     ]
    }
   ],
   "source": [
    "if (abs(m_resource_line) < abs(m_indifference))\n",
    "    println(\"Case A: Solution should be the x-intercept corner point\")\n",
    "elseif (abs(m_resource_line) > abs(m_indifference))\n",
    "    println(\"Case B: Solution should be the y-intercept corner point\")\n",
    "else (abs(m_resource_line) == abs(m_indifference))\n",
    "    println(\"Case C: We will have an infinite number of solutions\")\n",
    "end"
   ]
  },
  {
   "cell_type": "markdown",
   "id": "be2d17ad-88ac-454a-b832-651483656892",
   "metadata": {},
   "source": [
    "### Compute the optimal allocation of $e_{i}(R)$:\n",
    "Analysis of the slopes of the resource budget line, and the indifference curves, suggest that the x-intercept will be the optimal solution:\n",
    "\n",
    "$$\n",
    "\\hat{e}_{1} = \\frac{B}{c_{1}}\n",
    "$$"
   ]
  },
  {
   "cell_type": "code",
   "execution_count": 11,
   "id": "3bd327c4-f364-4365-aef6-d7630b884561",
   "metadata": {
    "tags": []
   },
   "outputs": [
    {
     "data": {
      "text/plain": [
       "0.35436420255428575"
      ]
     },
     "execution_count": 11,
     "metadata": {},
     "output_type": "execute_result"
    }
   ],
   "source": [
    "ê₁ = total_budget/c₁"
   ]
  },
  {
   "cell_type": "markdown",
   "id": "224c3286-baaf-4065-8a43-276199aa0a76",
   "metadata": {},
   "source": [
    "#### Solve the linear utility problem"
   ]
  },
  {
   "cell_type": "code",
   "execution_count": 32,
   "id": "091fee9e-6f45-4a67-878b-715b931d617e",
   "metadata": {
    "tags": []
   },
   "outputs": [],
   "source": [
    "# initialize -\n",
    "γ = [γ₁, γ₂]; # coefficients for case A\n",
    "cvector = [c₁, c₂]; # price of x1 and x2\n",
    "\n",
    "# bounds on the choice variables -\n",
    "bounds = [\n",
    "    0.0 1.0; # L U\n",
    "    0.0 1.0; # L U\n",
    "]\n",
    "\n",
    "# build my problem object -\n",
    "problem = build(MySimpleLinearChoiceProblem, (\n",
    "    \n",
    "    initial = 0.1*ones(2), # initial guess\n",
    "    α = γ, # coefficients\n",
    "    c = cvector, # price of x1 and x2\n",
    "    I = total_budget, # income\n",
    "    \n",
    "    # how much of x₁ and x₂ can be we buy?\n",
    "    bounds = bounds\n",
    "));\n",
    "\n",
    "# call tghe solve function. This will return a dictionary -\n",
    "solution = solve(problem);"
   ]
  },
  {
   "cell_type": "code",
   "execution_count": 33,
   "id": "12f27ef3-a884-4e42-9162-7a72de2b1021",
   "metadata": {
    "tags": []
   },
   "outputs": [
    {
     "data": {
      "text/plain": [
       "Dict{String, Any} with 3 entries:\n",
       "  \"argmax\"          => [0.0, 0.620921]\n",
       "  \"budget\"          => 0.000107607\n",
       "  \"objective_value\" => 0.366229"
      ]
     },
     "execution_count": 33,
     "metadata": {},
     "output_type": "execute_result"
    }
   ],
   "source": [
    "solution"
   ]
  },
  {
   "cell_type": "code",
   "execution_count": null,
   "id": "821c1633-dcfd-4953-8e70-538234315de0",
   "metadata": {},
   "outputs": [],
   "source": []
  }
 ],
 "metadata": {
  "kernelspec": {
   "display_name": "Julia 1.9.3",
   "language": "julia",
   "name": "julia-1.9"
  },
  "language_info": {
   "file_extension": ".jl",
   "mimetype": "application/julia",
   "name": "julia",
   "version": "1.9.3"
  }
 },
 "nbformat": 4,
 "nbformat_minor": 5
}
