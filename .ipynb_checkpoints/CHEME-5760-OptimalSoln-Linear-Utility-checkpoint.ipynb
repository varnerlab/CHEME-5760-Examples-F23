{
 "cells": [
  {
   "cell_type": "markdown",
   "id": "2f6d69dd-fb67-4d2e-b87c-5aa8b6bc3c50",
   "metadata": {},
   "source": [
    "## Solution: Grocery Fruit Problem using a Linear Utility\n",
    "Consider a utility maximization problem with the Cobb-Douglas utility function, $U(x_{1},x_{2}) = x_{1}^{\\alpha}x_{2}^{1-\\alpha}$, subject to a budget constraint. \n",
    "The Lagrangian for this system is given by:\n",
    "\n",
    "$$\n",
    "\\begin{equation*}\n",
    "\\mathcal{L}(x,\\lambda) = x_{1}^{\\alpha}x_{2}^{1-\\alpha} + \\lambda\\cdot\\left(I-c_{1}x_{1}-c_{2}x_{2}\\right)\n",
    "\\end{equation*}\n",
    "$$\n",
    "\n",
    "which gives the first-order optimality conditions:\n",
    "\n",
    "$$\n",
    "\\begin{eqnarray*}\n",
    "\\frac{\\partial\\mathcal{L}}{\\partial{x_{1}}} & = & \\alpha\\cdot{x_{1}^{\\alpha-1}}x_{2}^{1-\\alpha} - \\lambda\\cdot{c_{1}} = 0 \\\\\n",
    "\\frac{\\partial\\mathcal{L}}{\\partial{x_{2}}} & = & (1-\\alpha)\\cdot{x_{1}^{\\alpha}x_{2}^{-\\alpha}} - \\lambda\\cdot{c_{2}} = 0 \\\\\n",
    "\\frac{\\partial\\mathcal{L}}{\\partial\\lambda} & = & I - c_{1}x_{1} - c_{2}x_{2} = 0\n",
    "\\end{eqnarray*}\n",
    "$$\n",
    "\n",
    "This system of first-order optimality conditions can be solved for the optimal consumption levels of $x_{1}$ and $x_{2}$. However, it is non-linear. Thus, we often need to use numerical methods to find the optimal values of $x_{1}$ and $x_{2}$."
   ]
  },
  {
   "cell_type": "code",
   "execution_count": null,
   "id": "8daf66c3-ff51-42e2-bec1-261daed6f4cf",
   "metadata": {},
   "outputs": [],
   "source": []
  }
 ],
 "metadata": {
  "kernelspec": {
   "display_name": "Julia 1.9.3",
   "language": "julia",
   "name": "julia-1.9"
  },
  "language_info": {
   "file_extension": ".jl",
   "mimetype": "application/julia",
   "name": "julia",
   "version": "1.9.3"
  }
 },
 "nbformat": 4,
 "nbformat_minor": 5
}
