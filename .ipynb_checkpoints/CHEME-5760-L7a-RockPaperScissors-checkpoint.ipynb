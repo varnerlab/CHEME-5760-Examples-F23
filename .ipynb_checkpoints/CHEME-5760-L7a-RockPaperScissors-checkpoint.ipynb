{
 "cells": [
  {
   "cell_type": "markdown",
   "id": "f603e8eb-aefb-43d8-866e-9b857f8ca864",
   "metadata": {},
   "source": [
    "# Example: Rock Paper Scissors Game Simulation\n",
    "Fill me in"
   ]
  },
  {
   "cell_type": "markdown",
   "id": "eb9292d8-b661-46fa-912c-db8697a8a0db",
   "metadata": {},
   "source": [
    "## Setup"
   ]
  },
  {
   "cell_type": "code",
   "execution_count": 1,
   "id": "5470aa8d-a3f0-41d3-a910-1a7b84a2b32a",
   "metadata": {
    "tags": []
   },
   "outputs": [
    {
     "name": "stderr",
     "output_type": "stream",
     "text": [
      "\u001b[32m\u001b[1m    Updating\u001b[22m\u001b[39m git-repo `https://github.com/varnerlab/VLDecisionsPackage.jl.git`\n",
      "\u001b[32m\u001b[1m   Resolving\u001b[22m\u001b[39m package versions...\n",
      "\u001b[32m\u001b[1m  No Changes\u001b[22m\u001b[39m to `~/Desktop/julia_work/CHEME-5760-Examples-F23/Project.toml`\n",
      "\u001b[32m\u001b[1m  No Changes\u001b[22m\u001b[39m to `~/Desktop/julia_work/CHEME-5760-Examples-F23/Manifest.toml`\n",
      "\u001b[32m\u001b[1m  Activating\u001b[22m\u001b[39m project at `~/Desktop/julia_work/CHEME-5760-Examples-F23`\n",
      "\u001b[32m\u001b[1m    Updating\u001b[22m\u001b[39m registry at `~/.julia/registries/General.toml`\n",
      "\u001b[32m\u001b[1m    Updating\u001b[22m\u001b[39m git-repo `https://github.com/varnerlab/VLDecisionsPackage.jl.git`\n",
      "\u001b[32m\u001b[1m   Installed\u001b[22m\u001b[39m FilePathsBase ─ v0.9.21\n",
      "\u001b[32m\u001b[1m   Installed\u001b[22m\u001b[39m PDMats ──────── v0.11.21\n",
      "\u001b[32m\u001b[1m  No Changes\u001b[22m\u001b[39m to `~/Desktop/julia_work/CHEME-5760-Examples-F23/Project.toml`\n",
      "\u001b[32m\u001b[1m    Updating\u001b[22m\u001b[39m `~/Desktop/julia_work/CHEME-5760-Examples-F23/Manifest.toml`\n",
      "  \u001b[90m[48062228] \u001b[39m\u001b[93m↑ FilePathsBase v0.9.20 ⇒ v0.9.21\u001b[39m\n",
      "  \u001b[90m[90014a1f] \u001b[39m\u001b[93m↑ PDMats v0.11.19 ⇒ v0.11.21\u001b[39m\n",
      "\u001b[32m\u001b[1mPrecompiling\u001b[22m\u001b[39m project...\n",
      "\u001b[32m  ✓ \u001b[39m\u001b[90mPDMats\u001b[39m\n",
      "\u001b[32m  ✓ \u001b[39m\u001b[90mFilePathsBase\u001b[39m\n",
      "\u001b[32m  ✓ \u001b[39mDistributions\n",
      "\u001b[32m  ✓ \u001b[39mVLDecisionsPackage\n",
      "\u001b[32m  ✓ \u001b[39mCSV\n",
      "  5 dependencies successfully precompiled in 10 seconds. 222 already precompiled.\n"
     ]
    }
   ],
   "source": [
    "include(\"Include.jl\");"
   ]
  },
  {
   "cell_type": "markdown",
   "id": "80c46a76-7674-4dc8-b01b-4b5048bb4f59",
   "metadata": {},
   "source": [
    "### Helper functions"
   ]
  },
  {
   "cell_type": "code",
   "execution_count": 2,
   "id": "0404fd8b-0fdb-49a7-8b7d-ff68e1cdc8d8",
   "metadata": {
    "tags": []
   },
   "outputs": [
    {
     "data": {
      "text/plain": [
       "number_of_agents (generic function with 1 method)"
      ]
     },
     "execution_count": 2,
     "metadata": {},
     "output_type": "execute_result"
    }
   ],
   "source": [
    "number_of_agents(simpleGame::MySimpleGameModel) = 2"
   ]
  },
  {
   "cell_type": "code",
   "execution_count": 3,
   "id": "b3cab815-2e18-414b-88b5-f4f9ca16c842",
   "metadata": {
    "tags": []
   },
   "outputs": [
    {
     "data": {
      "text/plain": [
       "ordered_actions (generic function with 1 method)"
      ]
     },
     "execution_count": 3,
     "metadata": {},
     "output_type": "execute_result"
    }
   ],
   "source": [
    "ordered_actions(simpleGame::MySimpleGameModel, i::Int) = [:rock, :paper, :scissors]"
   ]
  },
  {
   "cell_type": "code",
   "execution_count": null,
   "id": "23deeedd-9082-4482-99db-b03bbb4cde48",
   "metadata": {},
   "outputs": [],
   "source": [
    "function reward(simpleGame::MySimpleGameModel, i::Int, a)\n",
    "    if i == 1\n",
    "        noti = 2\n",
    "    else\n",
    "        noti = 1\n",
    "    end\n",
    "\n",
    "    if a[i] == a[noti]\n",
    "        r = 0.0\n",
    "    elseif a[i] == :rock && a[noti] == :paper\n",
    "        r = -1.0\n",
    "    elseif a[i] == :rock && a[noti] == :scissors\n",
    "        r = 1.0\n",
    "    elseif a[i] == :paper && a[noti] == :rock\n",
    "        r = 1.0\n",
    "    elseif a[i] == :paper && a[noti] == :scissors\n",
    "        r = -1.0\n",
    "    elseif a[i] == :scissors && a[noti] == :rock\n",
    "        r = -1.0\n",
    "    elseif a[i] == :scissors && a[noti] == :paper\n",
    "        r = 1.0\n",
    "    end\n",
    "\n",
    "    return r\n",
    "end"
   ]
  }
 ],
 "metadata": {
  "kernelspec": {
   "display_name": "Julia 1.9.3",
   "language": "julia",
   "name": "julia-1.9"
  },
  "language_info": {
   "file_extension": ".jl",
   "mimetype": "application/julia",
   "name": "julia",
   "version": "1.9.3"
  }
 },
 "nbformat": 4,
 "nbformat_minor": 5
}
