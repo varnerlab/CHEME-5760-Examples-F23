{
 "cells": [
  {
   "cell_type": "markdown",
   "id": "7ef110f1-5bca-4c61-a783-bbd948bc2a4f",
   "metadata": {},
   "source": [
    "# Evaluating the Utility of a Tesla Model S versus the Honda Odyssey"
   ]
  },
  {
   "cell_type": "markdown",
   "id": "22589507-b367-452f-90cb-e3d6cae89ee4",
   "metadata": {
    "jp-MarkdownHeadingCollapsed": true,
    "tags": []
   },
   "source": [
    "## Introduction\n",
    "An individual decision-maker (agent) is given a set of $X_{1},\\dotsc,X_{n}$ objects \n",
    "where each object has $m$ possible features $X_{i}=\\left\\{x_{1,i},\\dotsc,x_{m,i}\\right\\}$.\n",
    "A utility function ranks the agent's preference for combinations of features for each object $i$:\n",
    "\n",
    "\\begin{equation}\n",
    "U_{i}(x_{1,i},x_{2,i},\\dots,x_{m,i}) = u_{i}\n",
    "\\end{equation}\n",
    "\n",
    "where $u_{i}$ is a real number called the \\texttt{utility} for object $i$. Utility has units of \\texttt{utils}. \n",
    "\n",
    "* The utility function $U:X\\rightarrow\\mathbb{R}$ is unique only up to an order-preserving transformation.\n",
    "* Utility functions are \\texttt{ordinal}, i.e., they rank-order bundles but do not measure differences between bundles.\n",
    "\n",
    "### Cobb-Douglas Utility\n",
    "The \\texttt{Cobb-Douglas} utility function is the product of the $m$ feature variables, thus, \n",
    "it models situations where features occur simultaneously. Each feature variable is raised to a non-negative exponent:\n",
    "\n",
    "\\begin{equation}\n",
    "U(x_{1},\\dots,x_{m}) = \\prod_{i\\in{1\\dots{m}}}{x_{i}^{\\alpha_{i}}}\n",
    "\\end{equation}\n",
    "\n",
    "In our realization of the \\texttt{Cobb-Douglas} utility, the exponents must sum to unity $\\sum_{i\\in{1\\dots{m}}}\\alpha_{i} = 1$, $x_{i}\\geq{0}$,\n",
    "and $\\alpha_{i}\\geq{0}$. "
   ]
  },
  {
   "cell_type": "markdown",
   "id": "f48d3582-ac69-43c8-9e02-c5b819fc6e8d",
   "metadata": {},
   "source": [
    "## Setup"
   ]
  },
  {
   "cell_type": "code",
   "execution_count": 1,
   "id": "f6d5a05c-1eb9-4929-9852-8cd23a85e8f7",
   "metadata": {
    "tags": []
   },
   "outputs": [
    {
     "name": "stderr",
     "output_type": "stream",
     "text": [
      "\u001b[32m\u001b[1m  Activating\u001b[22m\u001b[39m project at `~/Desktop/julia_work/CHEME-5760-Examples-F23`\n",
      "\u001b[32m\u001b[1m    Updating\u001b[22m\u001b[39m registry at `~/.julia/registries/General.toml`\n",
      "\u001b[32m\u001b[1m    Updating\u001b[22m\u001b[39m git-repo `https://github.com/varnerlab/VLDecisionsPackage.jl.git`\n",
      "\u001b[32m\u001b[1m  No Changes\u001b[22m\u001b[39m to `~/Desktop/julia_work/CHEME-5760-Examples-F23/Project.toml`\n",
      "\u001b[32m\u001b[1m  No Changes\u001b[22m\u001b[39m to `~/Desktop/julia_work/CHEME-5760-Examples-F23/Manifest.toml`\n"
     ]
    }
   ],
   "source": [
    "include(\"Include.jl\");"
   ]
  },
  {
   "cell_type": "code",
   "execution_count": 15,
   "id": "49a37f36-fd1b-4b15-bf7e-4dc458722d77",
   "metadata": {
    "tags": []
   },
   "outputs": [
    {
     "data": {
      "text/plain": [
       "UCD (generic function with 1 method)"
      ]
     },
     "execution_count": 15,
     "metadata": {},
     "output_type": "execute_result"
    }
   ],
   "source": [
    "function UCD(x)\n",
    "    \n",
    "    # load data -\n",
    "    dataset = HondaTeslaDataSet();\n",
    "    α = dataset[:,:exponent];\n",
    "    \n",
    "    number_of_features = length(x);\n",
    "    solution = 1.0;\n",
    "\n",
    "    # build the solution -\n",
    "    for i ∈ 1:number_of_features\n",
    "        solution *= x[i]^α[i];\n",
    "    end\n",
    "\n",
    "    # return - \n",
    "    return solution;\n",
    "end"
   ]
  },
  {
   "cell_type": "markdown",
   "id": "6b7c88da-7703-4d47-a120-a00ede742765",
   "metadata": {},
   "source": [
    "## Data"
   ]
  },
  {
   "cell_type": "code",
   "execution_count": 3,
   "id": "5bdc4591-c1b8-4f34-ac63-eac013aaa155",
   "metadata": {
    "tags": []
   },
   "outputs": [
    {
     "data": {
      "text/html": [
       "<div><div style = \"float: left;\"><span>7×4 DataFrame</span></div><div style = \"clear: both;\"></div></div><div class = \"data-frame\" style = \"overflow-x: scroll;\"><table class = \"data-frame\" style = \"margin-bottom: 6px;\"><thead><tr class = \"header\"><th class = \"rowNumber\" style = \"font-weight: bold; text-align: right;\">Row</th><th style = \"text-align: left;\">feature</th><th style = \"text-align: left;\">exponent</th><th style = \"text-align: left;\">Tesla</th><th style = \"text-align: left;\">Honda</th></tr><tr class = \"subheader headerLastRow\"><th class = \"rowNumber\" style = \"font-weight: bold; text-align: right;\"></th><th title = \"String15\" style = \"text-align: left;\">String15</th><th title = \"Float64\" style = \"text-align: left;\">Float64</th><th title = \"Float64\" style = \"text-align: left;\">Float64</th><th title = \"Float64\" style = \"text-align: left;\">Float64</th></tr></thead><tbody><tr><td class = \"rowNumber\" style = \"font-weight: bold; text-align: right;\">1</td><td style = \"text-align: left;\">sustainability</td><td style = \"text-align: right;\">0.2</td><td style = \"text-align: right;\">5.0</td><td style = \"text-align: right;\">3.0</td></tr><tr><td class = \"rowNumber\" style = \"font-weight: bold; text-align: right;\">2</td><td style = \"text-align: left;\">affordability</td><td style = \"text-align: right;\">0.1</td><td style = \"text-align: right;\">2.0</td><td style = \"text-align: right;\">4.0</td></tr><tr><td class = \"rowNumber\" style = \"font-weight: bold; text-align: right;\">3</td><td style = \"text-align: left;\">styling</td><td style = \"text-align: right;\">0.05</td><td style = \"text-align: right;\">5.0</td><td style = \"text-align: right;\">2.0</td></tr><tr><td class = \"rowNumber\" style = \"font-weight: bold; text-align: right;\">4</td><td style = \"text-align: left;\">usefulness</td><td style = \"text-align: right;\">0.3</td><td style = \"text-align: right;\">2.0</td><td style = \"text-align: right;\">5.0</td></tr><tr><td class = \"rowNumber\" style = \"font-weight: bold; text-align: right;\">5</td><td style = \"text-align: left;\">costownership</td><td style = \"text-align: right;\">0.1</td><td style = \"text-align: right;\">4.0</td><td style = \"text-align: right;\">2.0</td></tr><tr><td class = \"rowNumber\" style = \"font-weight: bold; text-align: right;\">6</td><td style = \"text-align: left;\">performance</td><td style = \"text-align: right;\">0.05</td><td style = \"text-align: right;\">5.0</td><td style = \"text-align: right;\">1.0</td></tr><tr><td class = \"rowNumber\" style = \"font-weight: bold; text-align: right;\">7</td><td style = \"text-align: left;\">safety</td><td style = \"text-align: right;\">0.2</td><td style = \"text-align: right;\">3.0</td><td style = \"text-align: right;\">5.0</td></tr></tbody></table></div>"
      ],
      "text/latex": [
       "\\begin{tabular}{r|cccc}\n",
       "\t& feature & exponent & Tesla & Honda\\\\\n",
       "\t\\hline\n",
       "\t& String15 & Float64 & Float64 & Float64\\\\\n",
       "\t\\hline\n",
       "\t1 & sustainability & 0.2 & 5.0 & 3.0 \\\\\n",
       "\t2 & affordability & 0.1 & 2.0 & 4.0 \\\\\n",
       "\t3 & styling & 0.05 & 5.0 & 2.0 \\\\\n",
       "\t4 & usefulness & 0.3 & 2.0 & 5.0 \\\\\n",
       "\t5 & costownership & 0.1 & 4.0 & 2.0 \\\\\n",
       "\t6 & performance & 0.05 & 5.0 & 1.0 \\\\\n",
       "\t7 & safety & 0.2 & 3.0 & 5.0 \\\\\n",
       "\\end{tabular}\n"
      ],
      "text/plain": [
       "\u001b[1m7×4 DataFrame\u001b[0m\n",
       "\u001b[1m Row \u001b[0m│\u001b[1m feature        \u001b[0m\u001b[1m exponent \u001b[0m\u001b[1m Tesla   \u001b[0m\u001b[1m Honda   \u001b[0m\n",
       "     │\u001b[90m String15       \u001b[0m\u001b[90m Float64  \u001b[0m\u001b[90m Float64 \u001b[0m\u001b[90m Float64 \u001b[0m\n",
       "─────┼────────────────────────────────────────────\n",
       "   1 │ sustainability      0.2       5.0      3.0\n",
       "   2 │ affordability       0.1       2.0      4.0\n",
       "   3 │ styling             0.05      5.0      2.0\n",
       "   4 │ usefulness          0.3       2.0      5.0\n",
       "   5 │ costownership       0.1       4.0      2.0\n",
       "   6 │ performance         0.05      5.0      1.0\n",
       "   7 │ safety              0.2       3.0      5.0"
      ]
     },
     "execution_count": 3,
     "metadata": {},
     "output_type": "execute_result"
    }
   ],
   "source": [
    "dataset = HondaTeslaDataSet()"
   ]
  },
  {
   "cell_type": "code",
   "execution_count": 4,
   "id": "fc59c38b-d45b-4189-92be-b2678a3cf996",
   "metadata": {
    "tags": []
   },
   "outputs": [],
   "source": [
    "@assert(sum(dataset[:,:exponent]) == 1.0)"
   ]
  },
  {
   "cell_type": "markdown",
   "id": "2a96deef-c9e4-4bce-8608-402cd5131e9d",
   "metadata": {},
   "source": [
    "### Build the Cobb-Douglas model"
   ]
  },
  {
   "cell_type": "code",
   "execution_count": 5,
   "id": "1f68623c-e230-47c3-a7e1-b73a918400cb",
   "metadata": {
    "tags": []
   },
   "outputs": [],
   "source": [
    "model = build(VLCobbDouglasUtilityFunction, (\n",
    "        α = dataset[:,:exponent],)\n",
    ");"
   ]
  },
  {
   "cell_type": "code",
   "execution_count": 6,
   "id": "e487f006-fcee-416d-8c41-d9be5f81daab",
   "metadata": {
    "tags": []
   },
   "outputs": [
    {
     "name": "stdout",
     "output_type": "stream",
     "text": [
      "The utility of Tesla = 3.0600833060706716 while the utility of the Honda = 3.550338415119845\n"
     ]
    }
   ],
   "source": [
    "utility_tesla = model(dataset[:,:Tesla]);\n",
    "utility_honda = model(dataset[:,:Honda]);\n",
    "println(\"The utility of Tesla = $(utility_tesla) while the utility of the Honda = $(utility_honda)\")"
   ]
  },
  {
   "cell_type": "code",
   "execution_count": 18,
   "id": "cd6f2cd4-0388-49eb-9e5f-6eef116dd338",
   "metadata": {},
   "outputs": [
    {
     "ename": "LoadError",
     "evalue": "syntax: missing comma or ) in argument list",
     "output_type": "error",
     "traceback": [
      "syntax: missing comma or ) in argument list",
      "",
      "Stacktrace:",
      " [1] top-level scope",
      "   @ In[18]:13"
     ]
    }
   ],
   "source": [
    "Ū_tesla = ForwardDiff.gradient(UCD, dataset[:,:Tesla]);\n",
    "Ū_honda = ForwardDiff.gradient(UCD, dataset[:,:Honda]);\n",
    "\n",
    "mu_table_df = DataFrame();\n",
    "for i ∈ eachindex(Ū_tesla)\n",
    "    \n",
    "    row_tuple = (\n",
    "        feature = dataset[i,:feature],\n",
    "        MU_Tesla = Ū_tesla[i],\n",
    "        MU_Honda = Ū_honda[i]\n",
    "    );\n",
    "\n",
    "    push!(mu_table_dfm row_tuple);\n",
    "end"
   ]
  },
  {
   "cell_type": "code",
   "execution_count": 12,
   "id": "2d7457f6-1232-41fe-a322-334fc47b0470",
   "metadata": {
    "tags": []
   },
   "outputs": [
    {
     "data": {
      "text/plain": [
       "7-element Vector{Float64}:\n",
       " 0.2366892276746563\n",
       " 0.08875846037799612\n",
       " 0.08875846037799612\n",
       " 0.2130203049071907\n",
       " 0.17751692075599226\n",
       " 0.17751692075599226\n",
       " 0.1420135366047938"
      ]
     },
     "execution_count": 12,
     "metadata": {},
     "output_type": "execute_result"
    }
   ],
   "source": []
  },
  {
   "cell_type": "code",
   "execution_count": null,
   "id": "3e6bb299-4730-48ef-94ed-2cc9b16e43ab",
   "metadata": {},
   "outputs": [],
   "source": []
  }
 ],
 "metadata": {
  "kernelspec": {
   "display_name": "Julia 1.9.3",
   "language": "julia",
   "name": "julia-1.9"
  },
  "language_info": {
   "file_extension": ".jl",
   "mimetype": "application/julia",
   "name": "julia",
   "version": "1.9.3"
  }
 },
 "nbformat": 4,
 "nbformat_minor": 5
}
