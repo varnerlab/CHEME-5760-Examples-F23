{
 "cells": [
  {
   "cell_type": "markdown",
   "id": "84cde366-e417-4e53-bfc8-20a18fcf23ad",
   "metadata": {},
   "source": [
    "## CHEME 1800/4800 The Tiger Problem as a Markov Decision Problem"
   ]
  },
  {
   "cell_type": "markdown",
   "id": "429b6c77-55bd-434c-9f74-8dc59a75631f",
   "metadata": {},
   "source": [
    "<center>\n",
    "    <img src=\"figs/Fig-Linear-MDP-Schematic.png\" style=\"align:right; width:80%\">\n",
    "</center>"
   ]
  },
  {
   "cell_type": "markdown",
   "id": "e1051985-7e86-4c66-bb83-994e1c0ad0d6",
   "metadata": {},
   "source": [
    "### Introduction\n",
    "\n",
    "An agent trapped in a long hallway with two doors at either end. Behind the red door is a tiger (and certain death), while behind the green door is freedom. If the agent opens the red door, the agent is eaten (and receives a large negative reward). However, if the agent opens the green door, it escapes and gets a positive reward. \n",
    "\n",
    "For this problem, the MDP has the tuple components:\n",
    "* $\\mathcal{S} = \\left\\{1,2,\\dots,N\\right\\}$ while the action set is $\\mathcal{A} = \\left\\{a_{1},a_{2}\\right\\}$; action $a_{1}$ moves the agent one state to the right, action $a_{2}$ moves the agent one state to the left.\n",
    "* The agent receives a reward of +10 for entering state 1 (escapes). However, the agent is penalized -100 for entering state N (eaten by the tiger).  Finally, the agent is not charged to move to adjacent locations.\n",
    "* Let the probability of correctly executing the action $a_{j}$ be $\\alpha$\n",
    "\n",
    "Let's compute $U^{\\pi}(s)$ for different choices for the policy function $\\pi$."
   ]
  },
  {
   "cell_type": "markdown",
   "id": "ed3dbaee-739d-4e02-a3e2-8721fb8c636f",
   "metadata": {},
   "source": [
    "### Example setup"
   ]
  },
  {
   "cell_type": "code",
   "execution_count": 1,
   "id": "d6aa8155-d399-4482-904f-c3edaa65244c",
   "metadata": {},
   "outputs": [
    {
     "name": "stderr",
     "output_type": "stream",
     "text": [
      "\u001b[32m\u001b[1m  Activating\u001b[22m\u001b[39m project at `~/Desktop/course_repos/CHEME-1800-4800-Course-Repository-S23/examples/unit-4-examples/mdp-tiger-problem`\n",
      "\u001b[32m\u001b[1m  No Changes\u001b[22m\u001b[39m to `~/Desktop/course_repos/CHEME-1800-4800-Course-Repository-S23/examples/unit-4-examples/mdp-tiger-problem/Project.toml`\n",
      "\u001b[32m\u001b[1m  No Changes\u001b[22m\u001b[39m to `~/Desktop/course_repos/CHEME-1800-4800-Course-Repository-S23/examples/unit-4-examples/mdp-tiger-problem/Manifest.toml`\n"
     ]
    }
   ],
   "source": [
    "import Pkg; Pkg.activate(\".\"); Pkg.resolve(); Pkg.instantiate();"
   ]
  },
  {
   "cell_type": "code",
   "execution_count": 2,
   "id": "f6e5ee87-0372-43b4-97a2-02225ae37f17",
   "metadata": {},
   "outputs": [],
   "source": [
    "using Distributions\n",
    "using Plots"
   ]
  },
  {
   "cell_type": "code",
   "execution_count": 3,
   "id": "4362776a-ce7d-40c8-ac18-2f5ef8ca3ceb",
   "metadata": {},
   "outputs": [],
   "source": [
    "include(\"CHEME-1800-Tiger-MDP-CodeLib.jl\");"
   ]
  },
  {
   "cell_type": "code",
   "execution_count": 4,
   "id": "074882e6-d1d5-461b-81ac-2de90d471721",
   "metadata": {},
   "outputs": [],
   "source": [
    "# setup some global constants -\n",
    "α = 0.75; # probability of moving the direction we are expect"
   ]
  },
  {
   "cell_type": "markdown",
   "id": "99b31d94-e11c-4fd9-9871-d22104f22a88",
   "metadata": {},
   "source": [
    "#### States and actions"
   ]
  },
  {
   "cell_type": "code",
   "execution_count": 5,
   "id": "b9a687bf-4977-4346-8665-8de40248baf8",
   "metadata": {},
   "outputs": [],
   "source": [
    "# setup the states and actions -\n",
    "safety = 1;\n",
    "tiger = 10;\n",
    "\n",
    "# Setup the states -\n",
    "states = range(safety,stop=tiger, step=1) |> collect;\n",
    "\n",
    "# Setup the actions\n",
    "actions = [1,2,3]; # a₁ = move left, a₂ = move right, a₃ = stand still\n",
    "\n",
    "# Discount factor\n",
    "γ = 0.95; # discount factor"
   ]
  },
  {
   "cell_type": "markdown",
   "id": "e118e9ab-4dd3-4f17-8421-ac56a4cdc710",
   "metadata": {},
   "source": [
    "#### Rewards"
   ]
  },
  {
   "cell_type": "code",
   "execution_count": 6,
   "id": "988a7ae7-5352-480b-aa9a-4286a9b279df",
   "metadata": {},
   "outputs": [],
   "source": [
    "# setup the rewards -\n",
    "R = Array{Float64,2}(undef,length(states), length(actions));\n",
    "fill!(R,0.0) # fill R w/zeros\n",
    "\n",
    "# set the rewards for the ends -\n",
    "R[safety + 1,1] = 10;\n",
    "R[tiger-1, 2] = -100;\n",
    "R[1:length(states), 3] .= -1;"
   ]
  },
  {
   "cell_type": "code",
   "execution_count": 7,
   "id": "63ef0b8e-336b-4240-b745-d6d231f2b60e",
   "metadata": {},
   "outputs": [
    {
     "data": {
      "text/plain": [
       "10×3 Matrix{Float64}:\n",
       "  0.0     0.0  -1.0\n",
       " 10.0     0.0  -1.0\n",
       "  0.0     0.0  -1.0\n",
       "  0.0     0.0  -1.0\n",
       "  0.0     0.0  -1.0\n",
       "  0.0     0.0  -1.0\n",
       "  0.0     0.0  -1.0\n",
       "  0.0     0.0  -1.0\n",
       "  0.0  -100.0  -1.0\n",
       "  0.0     0.0  -1.0"
      ]
     },
     "execution_count": 7,
     "metadata": {},
     "output_type": "execute_result"
    }
   ],
   "source": [
    "R"
   ]
  },
  {
   "cell_type": "markdown",
   "id": "033d0171-216f-4a53-a2ac-e11f30605ce8",
   "metadata": {},
   "source": [
    "#### Transitions"
   ]
  },
  {
   "cell_type": "code",
   "execution_count": 8,
   "id": "35205b5f-517c-4bd4-be65-7fe9daad3235",
   "metadata": {},
   "outputs": [],
   "source": [
    "# Setup the transitions\n",
    "T = Array{Float64,3}(undef, length(states), length(states), length(actions));\n",
    "fill!(T,0.0);\n",
    "\n",
    "# We need to put values into the transition array (these are probabilities, so eah row much sum to 1)\n",
    "T[safety, 1, 1:length(actions)] .= 1.0; # if we are in state 1, we stay in state 1 ∀a ∈ 𝒜\n",
    "T[tiger, tiger, 1:length(actions)] .= 1.0; # if we are in state 5, we stay in state 5 "
   ]
  },
  {
   "cell_type": "markdown",
   "id": "d33bf93f-8f45-4657-84f4-efd81e0a7a7b",
   "metadata": {},
   "source": [
    "##### Left, Right and Listen Actions"
   ]
  },
  {
   "cell_type": "code",
   "execution_count": 9,
   "id": "24ab3482-3840-4156-b51f-8d32ca7b9e6b",
   "metadata": {},
   "outputs": [],
   "source": [
    "# left actions -\n",
    "for s ∈ 2:(tiger - 1)\n",
    "    T[s,s-1,1] = α;\n",
    "    T[s,s+1,1] = (1-α);\n",
    "end\n",
    "\n",
    "# right actions -\n",
    "for s ∈ 2:(tiger - 1)\n",
    "    T[s,s-1,2] = (1-α);\n",
    "    T[s,s+1,2] = α; \n",
    "end\n",
    "\n",
    "# listen action (we don't move to a new state)\n",
    "for s ∈ 2:(tiger-1)\n",
    "    T[s,s,3] = 1.0;\n",
    "end"
   ]
  },
  {
   "cell_type": "code",
   "execution_count": 10,
   "id": "1d064507-f9da-406d-9275-6455e22fe899",
   "metadata": {},
   "outputs": [
    {
     "data": {
      "text/plain": [
       "10×10 Matrix{Float64}:\n",
       " 1.0  0.0  0.0  0.0  0.0  0.0  0.0  0.0  0.0  0.0\n",
       " 0.0  1.0  0.0  0.0  0.0  0.0  0.0  0.0  0.0  0.0\n",
       " 0.0  0.0  1.0  0.0  0.0  0.0  0.0  0.0  0.0  0.0\n",
       " 0.0  0.0  0.0  1.0  0.0  0.0  0.0  0.0  0.0  0.0\n",
       " 0.0  0.0  0.0  0.0  1.0  0.0  0.0  0.0  0.0  0.0\n",
       " 0.0  0.0  0.0  0.0  0.0  1.0  0.0  0.0  0.0  0.0\n",
       " 0.0  0.0  0.0  0.0  0.0  0.0  1.0  0.0  0.0  0.0\n",
       " 0.0  0.0  0.0  0.0  0.0  0.0  0.0  1.0  0.0  0.0\n",
       " 0.0  0.0  0.0  0.0  0.0  0.0  0.0  0.0  1.0  0.0\n",
       " 0.0  0.0  0.0  0.0  0.0  0.0  0.0  0.0  0.0  1.0"
      ]
     },
     "execution_count": 10,
     "metadata": {},
     "output_type": "execute_result"
    }
   ],
   "source": [
    "T[:,:,3] # probability matrix for taking action aᵢ"
   ]
  },
  {
   "cell_type": "markdown",
   "id": "f5a7cfca-fe0e-4d4c-aefc-d53a4f4fd745",
   "metadata": {},
   "source": [
    "### Build the MDP problem object and estimate the utility $U^{\\pi}(s)$ "
   ]
  },
  {
   "cell_type": "code",
   "execution_count": 11,
   "id": "4bfa4d95-a158-41c7-b178-a71b7cc54c8f",
   "metadata": {},
   "outputs": [],
   "source": [
    "m = build(MDP; 𝒮 = states, 𝒜 = actions, T = T, R = R, γ = γ);"
   ]
  },
  {
   "cell_type": "code",
   "execution_count": 12,
   "id": "b4376ec9-db21-4b15-ac68-14c00662707b",
   "metadata": {},
   "outputs": [],
   "source": [
    "# build a always right policy -\n",
    "always_move_right(s) = 2;\n",
    "always_move_left(s) = 1;"
   ]
  },
  {
   "cell_type": "code",
   "execution_count": 19,
   "id": "d0c66f86-93e4-4a70-9e04-dfde6e449383",
   "metadata": {},
   "outputs": [],
   "source": [
    "U = iterative_policy_evaluation(m, always_move_right, 50*length(states));"
   ]
  },
  {
   "cell_type": "code",
   "execution_count": 20,
   "id": "0f67d27f-c1b9-4b8b-929d-f206fffc9c79",
   "metadata": {},
   "outputs": [
    {
     "data": {
      "text/plain": [
       "10-element Vector{Float64}:\n",
       "    0.0\n",
       "  -47.23239230918141\n",
       "  -66.29107692516689\n",
       "  -77.2959771954194\n",
       "  -86.3885563869365\n",
       "  -95.48177095161319\n",
       " -105.21331762767126\n",
       " -115.8405572304044\n",
       " -127.51213234222104\n",
       "    0.0"
      ]
     },
     "execution_count": 20,
     "metadata": {},
     "output_type": "execute_result"
    }
   ],
   "source": [
    "U"
   ]
  },
  {
   "cell_type": "markdown",
   "id": "78ca09a4-642f-4b37-939d-91aa26c1b630",
   "metadata": {},
   "source": [
    "### Estimate the Q-Array"
   ]
  },
  {
   "cell_type": "code",
   "execution_count": 21,
   "id": "499f1032-207a-4a4e-8578-e21e0e11fa61",
   "metadata": {},
   "outputs": [
    {
     "data": {
      "text/plain": [
       "8×3 Matrix{Float64}:\n",
       "   -5.74413   -47.2324   -45.8708\n",
       "  -52.0109    -66.2911   -63.9765\n",
       "  -67.7497    -77.296    -74.4312\n",
       "  -77.7503    -86.3886   -83.0691\n",
       "  -86.54      -95.4818   -91.7077\n",
       "  -95.5429   -105.213   -100.953\n",
       " -105.249    -115.841   -111.049\n",
       "  -82.5364   -127.512   -122.137"
      ]
     },
     "execution_count": 21,
     "metadata": {},
     "output_type": "execute_result"
    }
   ],
   "source": [
    "Q_array = Q(m, U)[2:end-1,:]"
   ]
  },
  {
   "cell_type": "code",
   "execution_count": 22,
   "id": "102ae6c8-f546-4e7c-ba97-97030588d022",
   "metadata": {},
   "outputs": [
    {
     "data": {
      "text/plain": [
       "8-element Vector{Int64}:\n",
       " 1\n",
       " 1\n",
       " 1\n",
       " 1\n",
       " 1\n",
       " 1\n",
       " 1\n",
       " 1"
      ]
     },
     "execution_count": 22,
     "metadata": {},
     "output_type": "execute_result"
    }
   ],
   "source": [
    "best_policy = π(Q_array)"
   ]
  },
  {
   "cell_type": "code",
   "execution_count": null,
   "id": "74b3f8a3-1ac6-4ea9-b964-97542e711b62",
   "metadata": {},
   "outputs": [],
   "source": []
  }
 ],
 "metadata": {
  "kernelspec": {
   "display_name": "Julia 1.8.5",
   "language": "julia",
   "name": "julia-1.8"
  },
  "language_info": {
   "file_extension": ".jl",
   "mimetype": "application/julia",
   "name": "julia",
   "version": "1.8.5"
  }
 },
 "nbformat": 4,
 "nbformat_minor": 5
}
