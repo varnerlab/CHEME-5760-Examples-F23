{
 "cells": [
  {
   "cell_type": "markdown",
   "id": "f603e8eb-aefb-43d8-866e-9b857f8ca864",
   "metadata": {},
   "source": [
    "# Example: Rock Paper Scissors Game Simulation\n",
    "Fill me in"
   ]
  },
  {
   "cell_type": "markdown",
   "id": "eb9292d8-b661-46fa-912c-db8697a8a0db",
   "metadata": {},
   "source": [
    "## Setup"
   ]
  },
  {
   "cell_type": "code",
   "execution_count": 1,
   "id": "5470aa8d-a3f0-41d3-a910-1a7b84a2b32a",
   "metadata": {
    "tags": []
   },
   "outputs": [
    {
     "name": "stderr",
     "output_type": "stream",
     "text": [
      "\u001b[32m\u001b[1m    Updating\u001b[22m\u001b[39m git-repo `https://github.com/varnerlab/VLDecisionsPackage.jl.git`\n",
      "\u001b[32m\u001b[1m   Resolving\u001b[22m\u001b[39m package versions...\n",
      "\u001b[32m\u001b[1m  No Changes\u001b[22m\u001b[39m to `~/Desktop/julia_work/CHEME-5760-Examples-F23/Project.toml`\n",
      "\u001b[32m\u001b[1m  No Changes\u001b[22m\u001b[39m to `~/Desktop/julia_work/CHEME-5760-Examples-F23/Manifest.toml`\n",
      "\u001b[32m\u001b[1m  Activating\u001b[22m\u001b[39m project at `~/Desktop/julia_work/CHEME-5760-Examples-F23`\n",
      "\u001b[32m\u001b[1m    Updating\u001b[22m\u001b[39m registry at `~/.julia/registries/General.toml`\n",
      "\u001b[32m\u001b[1m    Updating\u001b[22m\u001b[39m git-repo `https://github.com/varnerlab/VLDecisionsPackage.jl.git`\n",
      "\u001b[32m\u001b[1m   Installed\u001b[22m\u001b[39m FilePathsBase ─ v0.9.21\n",
      "\u001b[32m\u001b[1m   Installed\u001b[22m\u001b[39m PDMats ──────── v0.11.21\n",
      "\u001b[32m\u001b[1m  No Changes\u001b[22m\u001b[39m to `~/Desktop/julia_work/CHEME-5760-Examples-F23/Project.toml`\n",
      "\u001b[32m\u001b[1m    Updating\u001b[22m\u001b[39m `~/Desktop/julia_work/CHEME-5760-Examples-F23/Manifest.toml`\n",
      "  \u001b[90m[48062228] \u001b[39m\u001b[93m↑ FilePathsBase v0.9.20 ⇒ v0.9.21\u001b[39m\n",
      "  \u001b[90m[90014a1f] \u001b[39m\u001b[93m↑ PDMats v0.11.19 ⇒ v0.11.21\u001b[39m\n",
      "\u001b[32m\u001b[1mPrecompiling\u001b[22m\u001b[39m project...\n",
      "\u001b[32m  ✓ \u001b[39m\u001b[90mPDMats\u001b[39m\n",
      "\u001b[32m  ✓ \u001b[39m\u001b[90mFilePathsBase\u001b[39m\n",
      "\u001b[32m  ✓ \u001b[39mDistributions\n",
      "\u001b[32m  ✓ \u001b[39mVLDecisionsPackage\n",
      "\u001b[32m  ✓ \u001b[39mCSV\n",
      "  5 dependencies successfully precompiled in 10 seconds. 222 already precompiled.\n"
     ]
    }
   ],
   "source": [
    "include(\"Include.jl\");"
   ]
  },
  {
   "cell_type": "markdown",
   "id": "80c46a76-7674-4dc8-b01b-4b5048bb4f59",
   "metadata": {},
   "source": [
    "### Helper functions"
   ]
  },
  {
   "cell_type": "code",
   "execution_count": 2,
   "id": "0404fd8b-0fdb-49a7-8b7d-ff68e1cdc8d8",
   "metadata": {
    "tags": []
   },
   "outputs": [
    {
     "data": {
      "text/plain": [
       "number_of_agents (generic function with 1 method)"
      ]
     },
     "execution_count": 2,
     "metadata": {},
     "output_type": "execute_result"
    }
   ],
   "source": [
    "number_of_agents(simpleGame::MySimpleGameModel) = 2"
   ]
  },
  {
   "cell_type": "code",
   "execution_count": 3,
   "id": "b3cab815-2e18-414b-88b5-f4f9ca16c842",
   "metadata": {
    "tags": []
   },
   "outputs": [
    {
     "data": {
      "text/plain": [
       "ordered_actions (generic function with 1 method)"
      ]
     },
     "execution_count": 3,
     "metadata": {},
     "output_type": "execute_result"
    }
   ],
   "source": [
    "ordered_actions(simpleGame::MySimpleGameModel, i::Int) = [:rock, :paper, :scissors]"
   ]
  },
  {
   "cell_type": "code",
   "execution_count": 4,
   "id": "23deeedd-9082-4482-99db-b03bbb4cde48",
   "metadata": {
    "tags": []
   },
   "outputs": [
    {
     "data": {
      "text/plain": [
       "reward (generic function with 1 method)"
      ]
     },
     "execution_count": 4,
     "metadata": {},
     "output_type": "execute_result"
    }
   ],
   "source": [
    "function reward(simpleGame::MySimpleGameModel, i::Int, a)\n",
    "    if i == 1\n",
    "        noti = 2\n",
    "    else\n",
    "        noti = 1\n",
    "    end\n",
    "\n",
    "    if a[i] == a[noti]\n",
    "        r = 0.0\n",
    "    elseif a[i] == :rock && a[noti] == :paper\n",
    "        r = -1.0\n",
    "    elseif a[i] == :rock && a[noti] == :scissors\n",
    "        r = 1.0\n",
    "    elseif a[i] == :paper && a[noti] == :rock\n",
    "        r = 1.0\n",
    "    elseif a[i] == :paper && a[noti] == :scissors\n",
    "        r = -1.0\n",
    "    elseif a[i] == :scissors && a[noti] == :rock\n",
    "        r = -1.0\n",
    "    elseif a[i] == :scissors && a[noti] == :paper\n",
    "        r = 1.0\n",
    "    end\n",
    "\n",
    "    return r\n",
    "end"
   ]
  },
  {
   "cell_type": "code",
   "execution_count": 6,
   "id": "b93e6a58-0ad1-4baf-8fd6-85ad0ce6e99d",
   "metadata": {
    "tags": []
   },
   "outputs": [
    {
     "data": {
      "text/plain": [
       "joint_reward (generic function with 1 method)"
      ]
     },
     "execution_count": 6,
     "metadata": {},
     "output_type": "execute_result"
    }
   ],
   "source": [
    "function joint_reward(simpleGame::MySimpleGameModel, a)\n",
    "    return [reward(simpleGame, i, a) for i in 1:number_of_agents(simpleGame)]\n",
    "end"
   ]
  },
  {
   "cell_type": "markdown",
   "id": "79a191b7-808e-44f2-87d9-86200407511f",
   "metadata": {},
   "source": [
    "## Rock, paper and Scissors Game setup"
   ]
  },
  {
   "cell_type": "code",
   "execution_count": 9,
   "id": "cce67d43-cede-4f4a-9939-f9084845f06e",
   "metadata": {
    "tags": []
   },
   "outputs": [],
   "source": [
    "mysimplegame = MySimpleGameModel();\n",
    "mysimplegame.γ = 0.9;\n",
    "mysimplegame.ℐ = [1,2];\n",
    "mysimplegame.𝒜 = [ordered_actions(mysimplegame, i) for i in 1:number_of_agents(mysimplegame)]\n",
    "mysimplegame.R = (a) -> joint_reward(mysimplegame, a);"
   ]
  },
  {
   "cell_type": "markdown",
   "id": "fa42eba9-0b96-43de-8206-0eec7098f946",
   "metadata": {},
   "source": [
    "Next, we setup our policies"
   ]
  },
  {
   "cell_type": "code",
   "execution_count": 10,
   "id": "9ee2884b-a581-4800-a0fa-06696d1f07bf",
   "metadata": {
    "tags": []
   },
   "outputs": [],
   "source": [
    "π₁ = MySimpleGamePolicy(Dict(:rock => 0.6, :paper => 0.2, :scissors => 0.2))\n",
    "π₂ = MySimpleGamePolicy(Dict(:rock => 0.2, :paper => 0.7, :scissors => 0.1))\n",
    "π = [π₁, π₂];"
   ]
  },
  {
   "cell_type": "markdown",
   "id": "c4e93a6a-bbc7-44a0-b371-2efd3c3f23a0",
   "metadata": {},
   "source": [
    "### Compute the Best Response"
   ]
  },
  {
   "cell_type": "code",
   "execution_count": 12,
   "id": "c3ec44d2-0e17-4825-87ca-2cf91fb5cede",
   "metadata": {
    "tags": []
   },
   "outputs": [
    {
     "data": {
      "text/plain": [
       "2-element Vector{MySimpleGamePolicy}:\n",
       " MySimpleGamePolicy(Dict(:scissors => 1.0))\n",
       " MySimpleGamePolicy(Dict(:paper => 1.0))"
      ]
     },
     "execution_count": 12,
     "metadata": {},
     "output_type": "execute_result"
    }
   ],
   "source": [
    "best_response_array = Array{Dict{Symbol,Float64},1}()\n",
    "for i ∈ 1:number_of_agents(mysimplegame)\n",
    "    play\n",
    "end"
   ]
  },
  {
   "cell_type": "code",
   "execution_count": null,
   "id": "3090ac26-4b74-4f0b-9e5a-29e53080a77f",
   "metadata": {},
   "outputs": [],
   "source": []
  }
 ],
 "metadata": {
  "kernelspec": {
   "display_name": "Julia 1.9.3",
   "language": "julia",
   "name": "julia-1.9"
  },
  "language_info": {
   "file_extension": ".jl",
   "mimetype": "application/julia",
   "name": "julia",
   "version": "1.9.3"
  }
 },
 "nbformat": 4,
 "nbformat_minor": 5
}
