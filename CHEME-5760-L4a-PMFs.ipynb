{
 "cells": [
  {
   "cell_type": "markdown",
   "id": "4b17bf4a-a963-4c06-9c9f-361d192086e4",
   "metadata": {},
   "source": [
    "# Sampling Common Probability Mass Functions (PMFs)\n",
    "The probability mass function (PMF) of a discrete random variable $X$ is a function that specifies the probability of obtaining $X = x$, where $x$ is a particular event in the set of possible events we're interested in $\\mathcal{F}\\subseteq{X\\left(\\Omega\\right)}$:\n",
    "\n",
    "$$\n",
    "\\begin{equation*}\n",
    "p_{X}(x) = P\\left(X=x\\right)\n",
    "\\end{equation*}\n",
    "$$\n",
    "\n",
    "where $\\mathcal{F}$ is the event space, and $\\Omega$ is the sample space. \n",
    "A probability mass function must satisfy the condition: \n",
    "\n",
    "$$\n",
    "\\begin{equation*}\n",
    "\\sum_{x\\in{X(\\Omega)}}p_{X}(x)=1\n",
    "\\end{equation*}\n",
    "$$\n",
    "\n",
    "### Learning objectives\n",
    "In this example, we'll use the `Distributions.jl` package to sample various probability mass functions. In particular, we'll look at the PMFs and properties of: [Bernoulli distributed random variables](https://en.wikipedia.org/wiki/Bernoulli_distribution), [Geometric random variables](https://en.wikipedia.org/wiki/Geometric_distribution), [Binomial random variables](https://en.wikipedia.org/wiki/Binomial_distribution) and [Poisson random variables](https://en.wikipedia.org/wiki/Poisson_distribution)"
   ]
  },
  {
   "cell_type": "markdown",
   "id": "03f544db-addf-4809-92e8-a304275091fd",
   "metadata": {},
   "source": [
    "### Setup"
   ]
  },
  {
   "cell_type": "code",
   "execution_count": 1,
   "id": "3552be6f-26f7-4ad5-be1f-8fb07a5d0516",
   "metadata": {
    "tags": []
   },
   "outputs": [
    {
     "name": "stderr",
     "output_type": "stream",
     "text": [
      "\u001b[32m\u001b[1m  Activating\u001b[22m\u001b[39m project at `~/Desktop/julia_work/CHEME-5760-Examples-F23`\n",
      "\u001b[32m\u001b[1m    Updating\u001b[22m\u001b[39m registry at `~/.julia/registries/General.toml`\n",
      "\u001b[32m\u001b[1m    Updating\u001b[22m\u001b[39m git-repo `https://github.com/varnerlab/VLDecisionsPackage.jl.git`\n",
      "\u001b[32m\u001b[1m   Installed\u001b[22m\u001b[39m HTTP ─ v1.9.15\n",
      "\u001b[32m\u001b[1m  No Changes\u001b[22m\u001b[39m to `~/Desktop/julia_work/CHEME-5760-Examples-F23/Project.toml`\n",
      "\u001b[32m\u001b[1m    Updating\u001b[22m\u001b[39m `~/Desktop/julia_work/CHEME-5760-Examples-F23/Manifest.toml`\n",
      "  \u001b[90m[cd3eb016] \u001b[39m\u001b[93m↑ HTTP v1.9.14 ⇒ v1.9.15\u001b[39m\n",
      "\u001b[32m\u001b[1mPrecompiling\u001b[22m\u001b[39m project...\n",
      "\u001b[32m  ✓ \u001b[39m\u001b[90mHTTP\u001b[39m\n",
      "\u001b[32m  ✓ \u001b[39m\u001b[90mGR\u001b[39m\n",
      "\u001b[32m  ✓ \u001b[39mPlots\n",
      "\u001b[32m  ✓ \u001b[39m\u001b[90mPlots → UnitfulExt\u001b[39m\n",
      "\u001b[32m  ✓ \u001b[39mVLDecisionsPackage\n",
      "  5 dependencies successfully precompiled in 45 seconds. 202 already precompiled.\n",
      "\u001b[36m\u001b[1m[ \u001b[22m\u001b[39m\u001b[36m\u001b[1mInfo: \u001b[22m\u001b[39mWe haven't cleaned this depot up for a bit, running Pkg.gc()...\n",
      "\u001b[32m\u001b[1m      Active\u001b[22m\u001b[39m manifest files: 9 found\n",
      "\u001b[32m\u001b[1m      Active\u001b[22m\u001b[39m artifact files: 80 found\n",
      "\u001b[32m\u001b[1m      Active\u001b[22m\u001b[39m scratchspaces: 3 found\n",
      "\u001b[32m\u001b[1m     Deleted\u001b[22m\u001b[39m 41 package installations (30.470 MiB)\n",
      "\u001b[36m\u001b[1m[ \u001b[22m\u001b[39m\u001b[36m\u001b[1mInfo: \u001b[22m\u001b[39mPrecompiling IJuliaExt [2f4121a4-3b3a-5ce6-9c5e-1f2673ce168a]\n"
     ]
    }
   ],
   "source": [
    "include(\"Include.jl\");"
   ]
  },
  {
   "cell_type": "code",
   "execution_count": 19,
   "id": "ac2c06d6-257a-42ca-a26d-1be7ad90dcec",
   "metadata": {
    "tags": []
   },
   "outputs": [],
   "source": [
    "p = 0.64;\n",
    "number_of_samples = 100;\n",
    "number_of_trials = 100;"
   ]
  },
  {
   "cell_type": "markdown",
   "id": "74706eb2-c1d8-4b5b-bf58-2394096d6706",
   "metadata": {
    "tags": []
   },
   "source": [
    "### Bernoulli random variables\n",
    "A Bernoulli random variable $X$ models a binary outcome: either \\texttt{1} or \\texttt{0}, \n",
    "where \\texttt{1} occurs with probability $p$ and \\texttt{0} occurs with probability $1-p$. \n",
    "The probability mass function (pmf) of the Bernoulli random variable $X$ is:\n",
    "\n",
    "$$\n",
    "\\begin{equation}\n",
    "p_{X}(x) = \\begin{cases}\n",
    "    p & \\text{if } x = 1 \\\\\n",
    "    1 - p & \\text{if } x = 0\n",
    "  \\end{cases}\n",
    "\\end{equation}\n",
    "$$\n",
    "\n",
    "where $0<p<1$ is called the Bernoulli parameter. The expectation a Bernoulli random variable equals:\n",
    "\n",
    "$$\n",
    "\\begin{equation}\n",
    "\\mathbb{E}\\left[X\\right] = p\n",
    "\\end{equation}\n",
    "$$\n",
    "\n",
    "while the variance $\\text{Var}(X)$ equals:\n",
    "\n",
    "$$\n",
    "\\begin{equation}\n",
    "\\text{Var}\\left[X\\right] = p\\cdot{(1-p)}\n",
    "\\end{equation}\n",
    "$$"
   ]
  },
  {
   "cell_type": "code",
   "execution_count": 18,
   "id": "b10ae314-babd-4a16-96a9-0d414ac90a03",
   "metadata": {
    "tags": []
   },
   "outputs": [
    {
     "name": "stdout",
     "output_type": "stream",
     "text": [
      "┌─────────┬───────┬──────────┐\n",
      "│\u001b[1m         \u001b[0m│\u001b[1m  E(X) \u001b[0m│\u001b[1m   Var(X) \u001b[0m│\n",
      "├─────────┼───────┼──────────┤\n",
      "│   model │  0.64 │   0.2304 │\n",
      "│ samples │ 0.622 │ 0.235351 │\n",
      "└─────────┴───────┴──────────┘\n"
     ]
    }
   ],
   "source": [
    "let p = p, number_of_samples = number_of_samples\n",
    "\n",
    "    # build a Bernoulli distribution\n",
    "    d = Bernoulli(p)\n",
    "\n",
    "    # sample (check expectation, and variance)\n",
    "    samples = rand(d, number_of_samples);\n",
    "\n",
    "    # build a table -\n",
    "    data_for_table = Array{Any,2}(undef, 2, 3)\n",
    "    table_header = [\"\", \"E(X)\", \"Var(X)\"]\n",
    "\n",
    "    # row 1: model\n",
    "    data_for_table[1,1] = \"model\"\n",
    "    data_for_table[1,2] = mean(d);\n",
    "    data_for_table[1,3] = var(d);\n",
    "\n",
    "    # row 2: samples\n",
    "    data_for_table[2,1] = \"samples\"\n",
    "    data_for_table[2,2] = mean(samples);\n",
    "    data_for_table[2,3] = var(samples);\n",
    "    pretty_table(data_for_table, header=table_header);\n",
    "end"
   ]
  },
  {
   "cell_type": "code",
   "execution_count": 23,
   "id": "b971442b-3da1-424f-9c8f-810fc75629a4",
   "metadata": {
    "tags": []
   },
   "outputs": [
    {
     "data": {
      "text/plain": [
       "10-element Vector{Bool}:\n",
       " 1\n",
       " 1\n",
       " 0\n",
       " 1\n",
       " 1\n",
       " 1\n",
       " 1\n",
       " 1\n",
       " 1\n",
       " 0"
      ]
     },
     "execution_count": 23,
     "metadata": {},
     "output_type": "execute_result"
    }
   ],
   "source": [
    "d = Bernoulli(p);\n",
    "rand(d,10)"
   ]
  },
  {
   "cell_type": "markdown",
   "id": "ce80c1b3-36ed-4484-8f60-28f8e732da45",
   "metadata": {
    "tags": []
   },
   "source": [
    "### Geometric random variables\n",
    "Geometric random variables model the number of trials required \n",
    "to obtain the first success in a sequence of independent Bernoulli trials.  The probability mass function for a geometric random variable is given by:\n",
    "\n",
    "$$\n",
    "\\begin{equation*}\n",
    "p_{X}(k) = (1-p)^{(k-1)}p\\qquad{k=1,2,\\dots}\n",
    "\\end{equation*}\n",
    "$$\n",
    "\n",
    "where $p$ denotes the geometric parameter $0<p<1$. The expectation and variance of a geometric random variable $X$ is given by:\n",
    "\n",
    "$$\n",
    "\\begin{equation*}\n",
    "\\mathbb{E}\\left[X\\right] = \\frac{1}{p}\n",
    "\\end{equation*}\n",
    "$$\n",
    "\n",
    "while the variance $\\text{Var}(X)$ is given by:\n",
    "\n",
    "$$\n",
    "\\begin{equation*}\n",
    "\\text{Var}\\left[X\\right] = \\frac{1-p}{p^2}\n",
    "\\end{equation*}\n",
    "$$"
   ]
  },
  {
   "cell_type": "code",
   "execution_count": 28,
   "id": "f2647ec0-00b1-45dd-abcb-44c1b35338b4",
   "metadata": {
    "tags": []
   },
   "outputs": [
    {
     "name": "stdout",
     "output_type": "stream",
     "text": [
      "┌─────────┬──────┬──────────┐\n",
      "│\u001b[1m         \u001b[0m│\u001b[1m E(X) \u001b[0m│\u001b[1m   Var(X) \u001b[0m│\n",
      "├─────────┼──────┼──────────┤\n",
      "│   model │ 0.64 │ 0.878906 │\n",
      "│ samples │ 0.45 │ 0.714646 │\n",
      "└─────────┴──────┴──────────┘\n"
     ]
    }
   ],
   "source": [
    "let p = p, number_of_samples = number_of_samples\n",
    "   \n",
    "    # build a Geometric distribution\n",
    "    d = Geometric(p)\n",
    "\n",
    "    # sample (check expectation, and variance)\n",
    "    samples = rand(d, number_of_samples);\n",
    "\n",
    "    # build a table -\n",
    "    data_for_table = Array{Any,2}(undef, 2, 3)\n",
    "    table_header = [\"\", \"E(X)\", \"Var(X)\"]\n",
    "\n",
    "    # row 1: model\n",
    "    data_for_table[1,1] = \"model\"\n",
    "    data_for_table[1,2] = succprob(d);\n",
    "    data_for_table[1,3] = var(d);\n",
    "\n",
    "    # row 2: samples\n",
    "    data_for_table[2,1] = \"samples\"\n",
    "    data_for_table[2,2] = mean(samples);\n",
    "    data_for_table[2,3] = var(samples);\n",
    "    pretty_table(data_for_table, header=table_header);\n",
    "end"
   ]
  },
  {
   "cell_type": "code",
   "execution_count": 35,
   "id": "b4d6bdb9-3270-47bd-9944-80ddd8171754",
   "metadata": {
    "tags": []
   },
   "outputs": [
    {
     "data": {
      "text/plain": [
       "10-element Vector{Int64}:\n",
       " 0\n",
       " 1\n",
       " 0\n",
       " 0\n",
       " 1\n",
       " 0\n",
       " 4\n",
       " 2\n",
       " 0\n",
       " 1"
      ]
     },
     "execution_count": 35,
     "metadata": {},
     "output_type": "execute_result"
    }
   ],
   "source": [
    "d = Geometric(p);\n",
    "rand(d,10)"
   ]
  },
  {
   "cell_type": "markdown",
   "id": "25c68ef4-1e25-470d-b6ea-9b019f1173ee",
   "metadata": {
    "tags": []
   },
   "source": [
    "### Binomial random variables\n",
    "The binomial distribution, the probability of $k$ successes in $n$ independent Bernoulli trials, has the \n",
    "probability mass function:\n",
    "\n",
    "$$\n",
    "\\begin{equation*}\n",
    "p_{X}(k) = \\binom{n}{k}p^{k}\\left(1-p\\right)^{n-k}\\qquad{k=0,1,\\dots,n}\n",
    "\\end{equation*}\n",
    "$$\n",
    "\n",
    "where $k$ denotes the number of successes in $n$ independent experiments, the binomial parameter $0<p<1$ is the probability \n",
    "of a successful trial and:\n",
    "\n",
    "$$\n",
    "\\begin{equation*}\n",
    "\\binom{n}{k} = \\frac{n!}{k!\\left(n-k\\right)!}\n",
    "\\end{equation*}\n",
    "$$\n",
    "\n",
    "is the binomial coefficient. The expectation and variance of a binomial random variable is given by:\n",
    "\n",
    "$$\n",
    "\\begin{eqnarray*}\n",
    "\\mathbb{E}\\left[X\\right] &=& np\\\\\n",
    "\\text{Var}\\left[X\\right] &=& np(1-p)\n",
    "\\end{eqnarray*}\n",
    "$$"
   ]
  },
  {
   "cell_type": "code",
   "execution_count": 33,
   "id": "69bfde18-460a-4a49-86c5-0c92504cd5f0",
   "metadata": {
    "tags": []
   },
   "outputs": [
    {
     "name": "stdout",
     "output_type": "stream",
     "text": [
      "┌─────────┬───────┬─────────┐\n",
      "│\u001b[1m         \u001b[0m│\u001b[1m  E(X) \u001b[0m│\u001b[1m  Var(X) \u001b[0m│\n",
      "├─────────┼───────┼─────────┤\n",
      "│   model │  64.0 │   23.04 │\n",
      "│ samples │ 63.38 │ 25.0461 │\n",
      "└─────────┴───────┴─────────┘\n"
     ]
    }
   ],
   "source": [
    "let p = p, number_of_samples = number_of_samples, number_of_trials = number_of_trials\n",
    "\n",
    "    # build a Binomial distribution\n",
    "    d = Binomial(number_of_trials,p)\n",
    "\n",
    "    # sample (check expectation, and variance)\n",
    "    samples = rand(d,number_of_samples);\n",
    "\n",
    "    # build a table -\n",
    "    data_for_table = Array{Any,2}(undef, 2, 3)\n",
    "    table_header = [\"\", \"E(X)\", \"Var(X)\"]\n",
    "\n",
    "    # row 1: model\n",
    "    data_for_table[1,1] = \"model\"\n",
    "    data_for_table[1,2] = mean(d);\n",
    "    data_for_table[1,3] = var(d);\n",
    "\n",
    "    # row 2: samples\n",
    "    data_for_table[2,1] = \"samples\"\n",
    "    data_for_table[2,2] = mean(samples);\n",
    "    data_for_table[2,3] = var(samples);\n",
    "    pretty_table(data_for_table, header=table_header);\n",
    "end"
   ]
  },
  {
   "cell_type": "code",
   "execution_count": 34,
   "id": "78ef6ae1-9e8b-4c11-bfc7-698a102698f7",
   "metadata": {
    "tags": []
   },
   "outputs": [
    {
     "data": {
      "text/plain": [
       "100-element Vector{Int64}:\n",
       " 64\n",
       " 58\n",
       " 70\n",
       " 71\n",
       " 67\n",
       " 59\n",
       " 56\n",
       " 64\n",
       " 68\n",
       " 59\n",
       " 59\n",
       " 59\n",
       " 62\n",
       "  ⋮\n",
       " 64\n",
       " 72\n",
       " 59\n",
       " 65\n",
       " 62\n",
       " 63\n",
       " 56\n",
       " 66\n",
       " 61\n",
       " 63\n",
       " 65\n",
       " 66"
      ]
     },
     "execution_count": 34,
     "metadata": {},
     "output_type": "execute_result"
    }
   ],
   "source": [
    "d = Binomial(number_of_trials,p)\n",
    "rand(d, 100)"
   ]
  },
  {
   "cell_type": "markdown",
   "id": "345f3700-312e-4772-9cf7-4d0ebc36437b",
   "metadata": {
    "tags": []
   },
   "source": [
    "### Poisson random variables\n",
    "Poisson random variables model the number of occurrences of an event in a fixed interval of time or space.\n",
    "The probability mass function for a Poisson random variable is given by:\n",
    "\n",
    "$$\n",
    "\\begin{equation*}\n",
    "p_{X}(x) = \\frac{\\lambda^{x}}{x!}\\exp\\left(-\\lambda\\right)\n",
    "\\end{equation*}\n",
    "$$\n",
    "\n",
    "where $\\lambda>0$ denotes the Poisson parameter, and $!$ denotes the factorial function. The expectation of a Poisson random variable $X$ is given by:\n",
    "\n",
    "$$\n",
    "\\begin{equation*}\n",
    "\\mathbb{E}\\left[X\\right] = \\lambda\n",
    "\\end{equation*}\n",
    "$$\n",
    "\n",
    "while the variance $\\text{Var}(X)$ is given by:\n",
    "\n",
    "$$\n",
    "\\begin{equation*}\n",
    "\\text{Var}\\left[X\\right] = \\lambda\n",
    "\\end{equation*}\n",
    "$$"
   ]
  },
  {
   "cell_type": "code",
   "execution_count": 40,
   "id": "18aab525-8fed-4e88-8390-cbc0dd1a1f9e",
   "metadata": {
    "tags": []
   },
   "outputs": [
    {
     "name": "stdout",
     "output_type": "stream",
     "text": [
      "┌─────────┬──────┬──────────┐\n",
      "│\u001b[1m         \u001b[0m│\u001b[1m E(X) \u001b[0m│\u001b[1m   Var(X) \u001b[0m│\n",
      "├─────────┼──────┼──────────┤\n",
      "│   model │ 0.64 │     0.64 │\n",
      "│ samples │  0.6 │ 0.505051 │\n",
      "└─────────┴──────┴──────────┘\n"
     ]
    }
   ],
   "source": [
    "let λ = p, number_of_samples = number_of_samples\n",
    "\n",
    "    # build a Poisson distribution\n",
    "    d = Poisson(p)\n",
    "\n",
    "    # sample (check expectation, and variance)\n",
    "    samples = rand(d, number_of_samples);\n",
    "\n",
    "    # build a table -\n",
    "    data_for_table = Array{Any,2}(undef, 2, 3)\n",
    "    table_header = [\"\", \"E(X)\", \"Var(X)\"]\n",
    "\n",
    "    # row 1: model\n",
    "    data_for_table[1,1] = \"model\"\n",
    "    data_for_table[1,2] = mean(d);\n",
    "    data_for_table[1,3] = var(d);\n",
    "\n",
    "    # row 2: samples\n",
    "    data_for_table[2,1] = \"samples\"\n",
    "    data_for_table[2,2] = mean(samples);\n",
    "    data_for_table[2,3] = var(samples);\n",
    "    pretty_table(data_for_table, header=table_header);\n",
    "end"
   ]
  },
  {
   "cell_type": "code",
   "execution_count": 43,
   "id": "30ab5641-7517-4c69-a34d-a55a25956ba4",
   "metadata": {},
   "outputs": [],
   "source": [
    "# build a Poisson distribution\n",
    "d = Poisson(p)\n",
    "\n",
    "# sample (check expectation, and variance)\n",
    "samples = rand(d, number_of_samples);"
   ]
  },
  {
   "cell_type": "code",
   "execution_count": 44,
   "id": "c097d4e6-4e62-4cb2-9d02-7c586f7342bc",
   "metadata": {
    "tags": []
   },
   "outputs": [
    {
     "data": {
      "text/plain": [
       "100-element Vector{Int64}:\n",
       " 2\n",
       " 0\n",
       " 0\n",
       " 1\n",
       " 1\n",
       " 1\n",
       " 1\n",
       " 1\n",
       " 0\n",
       " 0\n",
       " 0\n",
       " 0\n",
       " 1\n",
       " ⋮\n",
       " 0\n",
       " 0\n",
       " 1\n",
       " 1\n",
       " 0\n",
       " 1\n",
       " 2\n",
       " 0\n",
       " 0\n",
       " 1\n",
       " 0\n",
       " 0"
      ]
     },
     "execution_count": 44,
     "metadata": {},
     "output_type": "execute_result"
    }
   ],
   "source": [
    "samples"
   ]
  },
  {
   "cell_type": "code",
   "execution_count": null,
   "id": "158bd245-53d2-440a-af1b-8ada08b2e2e3",
   "metadata": {},
   "outputs": [],
   "source": []
  }
 ],
 "metadata": {
  "kernelspec": {
   "display_name": "Julia 1.9.3",
   "language": "julia",
   "name": "julia-1.9"
  },
  "language_info": {
   "file_extension": ".jl",
   "mimetype": "application/julia",
   "name": "julia",
   "version": "1.9.3"
  }
 },
 "nbformat": 4,
 "nbformat_minor": 5
}
