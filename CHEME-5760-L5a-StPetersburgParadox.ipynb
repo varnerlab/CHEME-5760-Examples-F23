{
 "cells": [
  {
   "cell_type": "markdown",
   "id": "01fe8268-dc44-40ca-8557-399289127438",
   "metadata": {},
   "source": [
    "## Example: Simulating the St. Petersburg Paradox"
   ]
  },
  {
   "cell_type": "markdown",
   "id": "19eb2ad5-d8dc-4cb9-a607-91d357c58458",
   "metadata": {},
   "source": [
    "The [St. Petersburg Paradox](https://en.wikipedia.org/wiki/St._Petersburg_paradox) is a hypothetical coin flipping game where the expected payoff of the game approaches infinity, but the game _seems to be worth less_ to the participants. A `casino` offers a single-player game in which a fair coin is tossed multiple times. The rules of the game:\n",
    "\n",
    "* The `casino` charges you a fee to enter, once inside you can play the game as many times as you like \n",
    "* The first time a tail (`T`) appears, the game ends, and the player wins the current stake.\n",
    "* If the number of times the coin is tossed until this point is $k$, you win $2^{k-1}$ USD\n",
    "\n",
    "Given the rules of the game, and an infinite number of games, the `expected payoff` is given by:\n",
    "\n",
    "$$\n",
    "\\begin{equation}\n",
    "\\sum_{k=1}^{\\infty} p_{k}\\cdot{x}_{k} \\rightarrow \\sum_{k=1}^{\\infty} \\left(\\frac{1}{2}\\right)^{k}\\cdot\\left(2^{k-1}\\right) \\rightarrow \\sum_{k=1}^{\\infty} \\left(\\frac{1}{2}\\right) = \\infty\n",
    "\\end{equation}\n",
    "$$\n",
    "\n",
    "How much would you be willing to pay to enter this game?"
   ]
  },
  {
   "cell_type": "markdown",
   "id": "a89fdd54-7f95-4b42-bb41-ad864ff57ad3",
   "metadata": {},
   "source": [
    "### Setup"
   ]
  },
  {
   "cell_type": "code",
   "execution_count": 1,
   "id": "17de35f6-8201-45cf-bedb-ab668fcdc12d",
   "metadata": {
    "tags": []
   },
   "outputs": [],
   "source": [
    "include(\"Include.jl\");"
   ]
  },
  {
   "cell_type": "code",
   "execution_count": 37,
   "id": "4f1fef28-9582-4ca9-b489-94eb8b3bde22",
   "metadata": {
    "tags": []
   },
   "outputs": [],
   "source": [
    "number_of_games = 100000;\n",
    "p = 0.50; # fair coin\n",
    "payoff(k) = 2^(k-1);"
   ]
  },
  {
   "cell_type": "markdown",
   "id": "0428283e-94d2-4528-8c8f-113a128acb28",
   "metadata": {},
   "source": [
    "### Simulation\n",
    "Let's model the outcome of each iteration of the game as a `Bernoulli` random variable with success probability `p`:"
   ]
  },
  {
   "cell_type": "code",
   "execution_count": 3,
   "id": "b31576f6-acaa-45d0-9df7-1e33619ae56d",
   "metadata": {
    "tags": []
   },
   "outputs": [],
   "source": [
    "d = Bernoulli(p); # to get a sample from this distribution, call rand(d)"
   ]
  },
  {
   "cell_type": "markdown",
   "id": "6961c4d9-c2c6-4471-9ff9-3ade68ef96eb",
   "metadata": {},
   "source": [
    "We play `number_of_games` and record what happened in each game in the `games` dictionary. During each game, we:\n",
    "* Initialize an empty `sample_path` dictionary, which holds what happened in a particular game\n",
    "* Play the game using a `while-loop`, which continues until we roll a `0` (represents a `T`). In this case, we set the `should_flip_again` flag to `false`, exit the `while-loop`, and store the results of the game in the `games` dictionary:"
   ]
  },
  {
   "cell_type": "code",
   "execution_count": 48,
   "id": "7d9cede2-670d-49f6-8579-25ab7847cc54",
   "metadata": {},
   "outputs": [],
   "source": [
    "games = Dict{Int64, Dict{Int64,Float64}}();\n",
    "for i ∈ 1:number_of_games\n",
    "    \n",
    "    sample_path = Dict{Int64,Float64}();\n",
    "    should_flip_again = true;\n",
    "    flip_counter = 0;\n",
    "    while (should_flip_again == true)\n",
    "    \n",
    "        flip_result = rand(d);\n",
    "        flip_counter += 1;\n",
    "        sample_path[flip_counter] = payoff(flip_counter);\n",
    "        \n",
    "        if (flip_result == 0)        \n",
    "           should_flip_again = false; \n",
    "        end\n",
    "    end\n",
    "    games[i] = sample_path;\n",
    "end"
   ]
  },
  {
   "cell_type": "markdown",
   "id": "5f13b503-dd48-4604-9e53-3df8e6987ce2",
   "metadata": {},
   "source": [
    "Collect the payoffs from each game in the `results` array:"
   ]
  },
  {
   "cell_type": "code",
   "execution_count": 49,
   "id": "b3e7ae2d-47c0-4b06-b937-bbded5b2103b",
   "metadata": {
    "tags": []
   },
   "outputs": [],
   "source": [
    "results = Array{Float64, 1}(undef, number_of_games)\n",
    "for i ∈ 1:number_of_games\n",
    "    results[i] = maximum(games[i]).second\n",
    "end"
   ]
  },
  {
   "cell_type": "code",
   "execution_count": 50,
   "id": "65d11124-56b7-443a-997f-b41142cbe1e6",
   "metadata": {
    "tags": []
   },
   "outputs": [
    {
     "data": {
      "text/plain": [
       "7.37781"
      ]
     },
     "execution_count": 50,
     "metadata": {},
     "output_type": "execute_result"
    }
   ],
   "source": [
    "mean(results)"
   ]
  },
  {
   "cell_type": "markdown",
   "id": "167dfa0f-d74d-45de-8313-66cba3087af9",
   "metadata": {},
   "source": [
    "Find the index of the `best_game` from the `results` array, and then analyze that `game`:"
   ]
  },
  {
   "cell_type": "code",
   "execution_count": 9,
   "id": "3e096ed3-8985-4f4e-b607-ee5085958d1d",
   "metadata": {
    "tags": []
   },
   "outputs": [
    {
     "data": {
      "text/plain": [
       "Dict{Int64, Float64} with 18 entries:\n",
       "  5  => 16.0\n",
       "  16 => 32768.0\n",
       "  12 => 2048.0\n",
       "  8  => 128.0\n",
       "  17 => 65536.0\n",
       "  1  => 1.0\n",
       "  6  => 32.0\n",
       "  11 => 1024.0\n",
       "  9  => 256.0\n",
       "  14 => 8192.0\n",
       "  3  => 4.0\n",
       "  7  => 64.0\n",
       "  4  => 8.0\n",
       "  13 => 4096.0\n",
       "  15 => 16384.0\n",
       "  2  => 2.0\n",
       "  10 => 512.0\n",
       "  18 => 131072.0"
      ]
     },
     "execution_count": 9,
     "metadata": {},
     "output_type": "execute_result"
    }
   ],
   "source": [
    "best_game = argmax(results) |> x -> games[x]"
   ]
  },
  {
   "cell_type": "code",
   "execution_count": 14,
   "id": "07dc0ac9-7147-489c-8799-c69209f56986",
   "metadata": {},
   "outputs": [
    {
     "data": {
      "text/plain": [
       "Dict{Int64, Dict{Int64, Float64}} with 50000 entries:\n",
       "  45120 => Dict(2=>2.0, 3=>4.0, 1=>1.0)\n",
       "  1703  => Dict(2=>2.0, 3=>4.0, 1=>1.0)\n",
       "  37100 => Dict(1=>1.0)\n",
       "  3406  => Dict(1=>1.0)\n",
       "  28804 => Dict(2=>2.0, 1=>1.0)\n",
       "  40691 => Dict(1=>1.0)\n",
       "  3220  => Dict(1=>1.0)\n",
       "  11251 => Dict(1=>1.0)\n",
       "  422   => Dict(2=>2.0, 1=>1.0)\n",
       "  15370 => Dict(1=>1.0)\n",
       "  46806 => Dict(1=>1.0)\n",
       "  4030  => Dict(1=>1.0)\n",
       "  8060  => Dict(1=>1.0)\n",
       "  3163  => Dict(2=>2.0, 1=>1.0)\n",
       "  22241 => Dict(1=>1.0)\n",
       "  23265 => Dict(2=>2.0, 1=>1.0)\n",
       "  35395 => Dict(2=>2.0, 3=>4.0, 1=>1.0)\n",
       "  27851 => Dict(2=>2.0, 1=>1.0)\n",
       "  23690 => Dict(2=>2.0, 1=>1.0)\n",
       "  44399 => Dict(1=>1.0)\n",
       "  844   => Dict(1=>1.0)\n",
       "  24859 => Dict(1=>1.0)\n",
       "  20571 => Dict(1=>1.0)\n",
       "  2920  => Dict(4=>8.0, 2=>2.0, 3=>4.0, 1=>1.0)\n",
       "  2783  => Dict(1=>1.0)\n",
       "  ⋮     => ⋮"
      ]
     },
     "execution_count": 14,
     "metadata": {},
     "output_type": "execute_result"
    }
   ],
   "source": [
    "games"
   ]
  },
  {
   "cell_type": "code",
   "execution_count": null,
   "id": "73c7436f-e1b4-44d5-8469-e5bb1a137ce2",
   "metadata": {},
   "outputs": [],
   "source": []
  }
 ],
 "metadata": {
  "kernelspec": {
   "display_name": "Julia 1.9.3",
   "language": "julia",
   "name": "julia-1.9"
  },
  "language_info": {
   "file_extension": ".jl",
   "mimetype": "application/julia",
   "name": "julia",
   "version": "1.9.3"
  }
 },
 "nbformat": 4,
 "nbformat_minor": 5
}
