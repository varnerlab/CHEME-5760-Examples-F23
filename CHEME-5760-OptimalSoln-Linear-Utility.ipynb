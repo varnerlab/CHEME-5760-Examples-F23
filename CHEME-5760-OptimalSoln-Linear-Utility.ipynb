{
 "cells": [
  {
   "cell_type": "markdown",
   "id": "2f6d69dd-fb67-4d2e-b87c-5aa8b6bc3c50",
   "metadata": {},
   "source": [
    "## Solution: Grocery Fruit Problem using a Linear Utility"
   ]
  },
  {
   "cell_type": "markdown",
   "id": "d67c8632-7d55-4318-bb52-b7576d32e6a1",
   "metadata": {},
   "source": [
    "## Setup"
   ]
  },
  {
   "cell_type": "code",
   "execution_count": 1,
   "id": "5881ff1f-768f-4170-81d9-33eb82844429",
   "metadata": {
    "tags": []
   },
   "outputs": [
    {
     "name": "stderr",
     "output_type": "stream",
     "text": [
      "\u001b[32m\u001b[1m  Activating\u001b[22m\u001b[39m project at `~/Desktop/julia_work/CHEME-5760-Examples-F23`\n",
      "\u001b[32m\u001b[1m    Updating\u001b[22m\u001b[39m registry at `~/.julia/registries/General.toml`\n",
      "\u001b[32m\u001b[1m    Updating\u001b[22m\u001b[39m git-repo `https://github.com/varnerlab/VLDecisionsPackage.jl.git`\n",
      "\u001b[32m\u001b[1m    Updating\u001b[22m\u001b[39m `~/Desktop/julia_work/CHEME-5760-Examples-F23/Project.toml`\n",
      "  \u001b[90m[10f378ab] \u001b[39m\u001b[93m~ VLDecisionsPackage v0.1.0 `https://github.com/varnerlab/VLDecisionsPackage.jl.git#main` ⇒ v0.1.0 `https://github.com/varnerlab/VLDecisionsPackage.jl.git#main`\u001b[39m\n",
      "\u001b[32m\u001b[1m    Updating\u001b[22m\u001b[39m `~/Desktop/julia_work/CHEME-5760-Examples-F23/Manifest.toml`\n",
      "  \u001b[90m[10f378ab] \u001b[39m\u001b[93m~ VLDecisionsPackage v0.1.0 `https://github.com/varnerlab/VLDecisionsPackage.jl.git#main` ⇒ v0.1.0 `https://github.com/varnerlab/VLDecisionsPackage.jl.git#main`\u001b[39m\n",
      "  \u001b[90m[94ce4f54] \u001b[39m\u001b[93m↑ Libiconv_jll v1.16.1+2 ⇒ v1.17.0+0\u001b[39m\n"
     ]
    },
    {
     "data": {
      "text/plain": [
       "TravelChoiceSurveyDataSet (generic function with 1 method)"
      ]
     },
     "execution_count": 1,
     "metadata": {},
     "output_type": "execute_result"
    }
   ],
   "source": [
    "include(\"Include.jl\")"
   ]
  },
  {
   "cell_type": "code",
   "execution_count": null,
   "id": "9075cab0-dbfd-4e05-98cd-5ba7db85d898",
   "metadata": {},
   "outputs": [],
   "source": []
  }
 ],
 "metadata": {
  "kernelspec": {
   "display_name": "Julia 1.9.3",
   "language": "julia",
   "name": "julia-1.9"
  },
  "language_info": {
   "file_extension": ".jl",
   "mimetype": "application/julia",
   "name": "julia",
   "version": "1.9.3"
  }
 },
 "nbformat": 4,
 "nbformat_minor": 5
}
