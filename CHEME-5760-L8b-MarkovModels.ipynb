{
 "cells": [
  {
   "cell_type": "markdown",
   "id": "0a6f6388-ace0-4bc1-a58c-bc1470936d88",
   "metadata": {
    "tags": []
   },
   "source": [
    "## Example: Properties of Markov Models and Stationary Distributions\n",
    "A discrete-time Markov chain is a sequence of random variables $X_{1},\\dotsc,X_{n}$ with \n",
    "the [Markov property](https://en.wikipedia.org/wiki/Markov_property), \n",
    "i.e., the probability of moving to the next state depends only on the present and not past states:\n",
    "\n",
    "$$\n",
    "\\begin{equation*}\n",
    "P(X_{n+1} = x | X_{1}=x_{1}, \\dots, X_{n}=x_{n}) = P(X_{n+1} = x | X_{n}=y)\n",
    "\\end{equation*}\n",
    "$$\n",
    "\n",
    "For finite state spaces $\\mathcal{S}$, the probability of moving from the state(s) $i\\rightarrow{j}$ in the next step, \n",
    "is encoded in the transition matrix $p_{ij}\\in\\mathbf{P}$: \n",
    "\n",
    "$$\n",
    "\\begin{equation*}\n",
    "p_{ij} = P(X_{n+1}~=~j~|~X_{n}~=~i)\n",
    "\\end{equation*}\n",
    "$$\n",
    "\n",
    "The transition matrix $\\mathbf{P}$ has interesting properties: \n",
    "* First, the rows of transition matrix $\\mathbf{P}$ sum to unity, i.e., each row encodes the probability of all possible outcomes. \n",
    "Thus, it must sum to one.\n",
    "* Second, if the transition matrix  $\\mathbf{P}$ is invariant, $p_{ij}$ doesn't change as $n\\rightarrow{n+1}~\\forall{n}$.\n",
    "\n",
    "### Two-state example\n",
    "Let's make these ideas more concrete by looking at a simple two-state example:\n",
    "\n",
    "<div>\n",
    "    <center>\n",
    "        <img src=\"figs/Fig-Discrete-MarkovChain-Schematic.svg\" width=\"380\"/>\n",
    "    </center>\n",
    "</div>\n",
    "\n",
    "In this example, $\\mathcal{S}=\\left\\{1,2\\right\\}$ and the probability of moving between state $i\\rightarrow{j}$, denoted as $p_{ij}$, are elements of the matrix $\\mathbf{P}$.\n",
    "\n",
    "#### Learning objectives\n",
    "The objective of this example is to familiarize students with Markov models and components of Markov models, in particular the transition matrix $\\mathbf{P}$, computing the stationary distribution $\\pi$, and finally sampling the stationary distribution using categorical distribution."
   ]
  },
  {
   "cell_type": "markdown",
   "id": "25e972a9-2b8c-4982-9828-b573467e571b",
   "metadata": {},
   "source": [
    "### Setup\n",
    "Let's load some packages that are required for the example by calling the `include(...)` function on our initialization file `Include.jl`:"
   ]
  },
  {
   "cell_type": "code",
   "execution_count": 2,
   "id": "d638f1eb-54e7-4c80-bd59-bd85e02af8f8",
   "metadata": {
    "tags": []
   },
   "outputs": [
    {
     "name": "stderr",
     "output_type": "stream",
     "text": [
      "\u001b[32m\u001b[1m    Updating\u001b[22m\u001b[39m git-repo `https://github.com/varnerlab/VLDecisionsPackage.jl.git`\n",
      "\u001b[32m\u001b[1m   Resolving\u001b[22m\u001b[39m package versions...\n",
      "\u001b[32m\u001b[1m  No Changes\u001b[22m\u001b[39m to `~/Desktop/julia_work/CHEME-5760-Examples-F23/Project.toml`\n",
      "\u001b[32m\u001b[1m  No Changes\u001b[22m\u001b[39m to `~/Desktop/julia_work/CHEME-5760-Examples-F23/Manifest.toml`\n",
      "\u001b[32m\u001b[1m  Activating\u001b[22m\u001b[39m project at `~/Desktop/julia_work/CHEME-5760-Examples-F23`\n",
      "\u001b[32m\u001b[1m    Updating\u001b[22m\u001b[39m registry at `~/.julia/registries/General.toml`\n",
      "\u001b[32m\u001b[1m    Updating\u001b[22m\u001b[39m git-repo `https://github.com/varnerlab/VLDecisionsPackage.jl.git`\n",
      "\u001b[32m\u001b[1m  No Changes\u001b[22m\u001b[39m to `~/Desktop/julia_work/CHEME-5760-Examples-F23/Project.toml`\n",
      "\u001b[32m\u001b[1m  No Changes\u001b[22m\u001b[39m to `~/Desktop/julia_work/CHEME-5760-Examples-F23/Manifest.toml`\n"
     ]
    }
   ],
   "source": [
    "include(\"Include.jl\");"
   ]
  },
  {
   "cell_type": "markdown",
   "id": "1287049b-a2e0-4ecd-a002-b064d39494e3",
   "metadata": {},
   "source": [
    "\n",
    "```julia\n",
    "iterate(P::Array{Float64,2}, counter::Int; \n",
    "        maxcount::Int = 100, ϵ::Float64 = 0.1) -> Array{Float64,2}\n",
    "```\n",
    "> Recursively computes a stationary distribution. Computation stops if ||P_new - P|| < ϵ or the max number of iterations is hit. "
   ]
  },
  {
   "cell_type": "code",
   "execution_count": 34,
   "id": "295be0ce-0194-4408-8bb0-51bd667ec3cb",
   "metadata": {
    "tags": []
   },
   "outputs": [],
   "source": [
    "function iterate(P::Array{Float64,2}, counter::Int; maxcount::Int = 100, ϵ::Float64 = 0.1)::Array{Float64,2}\n",
    "\n",
    "    # base case -\n",
    "    if (counter == maxcount)\n",
    "        return P\n",
    "    else\n",
    "        # generate a new P -\n",
    "        P_new = P^(counter+1)\n",
    "        err = P_new - P;\n",
    "        if (norm(err)<=ϵ)\n",
    "            return P_new\n",
    "        else\n",
    "            # we have NOT hit the error target, or the max iterations\n",
    "            iterate(P_new, (counter+1), maxcount=maxcount, ϵ = ϵ)\n",
    "        end\n",
    "    end\n",
    "end;"
   ]
  },
  {
   "cell_type": "markdown",
   "id": "a916996a-d6fa-44dc-9749-654745ecc073",
   "metadata": {},
   "source": [
    "#### Constants "
   ]
  },
  {
   "cell_type": "code",
   "execution_count": 23,
   "id": "63086f21-0e27-4306-9e1a-6ba544eb6f84",
   "metadata": {
    "tags": []
   },
   "outputs": [],
   "source": [
    "number_of_states = 2;\n",
    "number_of_samples = 10000;"
   ]
  },
  {
   "cell_type": "markdown",
   "id": "9c2bd82d-cf07-4204-98d2-6fedb456c3df",
   "metadata": {},
   "source": [
    "### 1. Setup transition matrix $\\mathbf{P}$:"
   ]
  },
  {
   "cell_type": "code",
   "execution_count": 3,
   "id": "c0600f0f-977d-419f-992e-dbb0f9044bee",
   "metadata": {
    "tags": []
   },
   "outputs": [],
   "source": [
    "P = [\n",
    "    0.9 0.1;\n",
    "    0.6 0.4;\n",
    "];"
   ]
  },
  {
   "cell_type": "markdown",
   "id": "274f76e3-9e30-4e92-bbfc-b24a1f646288",
   "metadata": {},
   "source": [
    "##### Check: do the rows sum to `1`?"
   ]
  },
  {
   "cell_type": "code",
   "execution_count": 5,
   "id": "56b4a181-0930-4a1e-8349-250e9b015f9a",
   "metadata": {
    "tags": []
   },
   "outputs": [
    {
     "name": "stdout",
     "output_type": "stream",
     "text": [
      "The sum of row = 1 equals = 1.0\n",
      "The sum of row = 2 equals = 1.0\n"
     ]
    }
   ],
   "source": [
    "for i ∈ 1:number_of_states\n",
    "    value = sum(P[i,:]);\n",
    "    println(\"The sum of row = $(i) equals = $(value)\")\n",
    "end"
   ]
  },
  {
   "cell_type": "markdown",
   "id": "f52d67b5-6857-43f9-8a1c-6cf8fc595221",
   "metadata": {},
   "source": [
    "### 2. Compute the stationary distribution\n",
    "\n",
    "For a non-periodic Markov chain with a finite state space $\\mathcal{S}$ and an invariant state transition matrix $\\mathbf{P}$,\n",
    "the state vector at time $j$, denoted by $\\mathbf{\\pi}_{j}$, has the property:\n",
    "\n",
    "$$\n",
    "\\begin{equation*}\n",
    "\\sum_{s\\in\\mathcal{S}}\\pi_{sj} = 1\\qquad\\forall{j}\n",
    "\\end{equation*}\n",
    "$$\n",
    "\n",
    "where $\\pi_{sj}\\geq{0},\\forall{s}\\in\\mathcal{S}$. The state of the Markov chain at time step $n+1$, denoted by $\\mathbf{\\pi}_{n+1}$, is given by:\n",
    "\n",
    "$$\n",
    "\\begin{equation*}\n",
    "\\mathbf{\\pi}_{n+1} = \\mathbf{\\pi}_{n}\\cdot\\left(\\mathbf{P}\\right)^n\n",
    "\\end{equation*}\n",
    "$$\n",
    "\n",
    "where $\\mathbf{\\pi}_{n}$ is the state vector at time step $n$ and $\\left(\\mathbf{P}\\right)^n$ is the transition matrix raised to the $n$th power.\n",
    "Finally, a unique stationary distribution $\\pi$ exists, where $\\mathbf{P}^{k}$ converges to a rank-one matrix in which each row is the stationary distribution $\\pi$:\n",
    "\n",
    "$$\n",
    "\\begin{equation*}\n",
    "\\lim_{k\\rightarrow\\infty} \\mathbf{P}^{k} = \\mathbf{1}\\pi\n",
    "\\end{equation*} \n",
    "$$\n",
    "\n",
    "where $\\mathbf{1}$ is a column vector of all 1s."
   ]
  },
  {
   "cell_type": "markdown",
   "id": "ac90d702-8b38-4569-ba5d-4c26b9f0450b",
   "metadata": {},
   "source": [
    "#### Implementation\n",
    "We'll compute the stationary distribution $\\pi$ using the recursive `iterate(...)` method:\n",
    "\n",
    "```julia\n",
    "function iterate(P::Array{Float64,2}, counter::Int; maxcount::Int = 100, ϵ::Float64 = 0.1)::Array{Float64,2}\n",
    "\n",
    "    # base case -\n",
    "    if (counter == maxcount)\n",
    "        return P\n",
    "    else\n",
    "        # generate a new P -\n",
    "        P_new = P^(counter+1)\n",
    "        err = P_new - P;\n",
    "        if (norm(err)<=ϵ)\n",
    "            return P_new\n",
    "        else\n",
    "            # We have NOT hit the error target or the max iterations\n",
    "            iterate(P_new, (counter+1), maxcount=maxcount, ϵ = ϵ)\n",
    "        end\n",
    "    end\n",
    "end\n",
    "```\n",
    "\n",
    "During each call to the `iterate(...)` method, we compute the matrix power of transition matrix $\\mathbf{P}$. We continue to call the `iterate(...)` method until we hit one of two possible conditions:\n",
    "\n",
    "* The `base case` for the recursion occurs when the `counter == maxcount`, at this point the recursion stops, and the matrix $\\mathbf{P}$ is returned\n",
    "* The recursion also stops when the difference between subsequent powers of the matrix $\\mathbf{P}$ is smaller than a specified threshold"
   ]
  },
  {
   "cell_type": "code",
   "execution_count": 16,
   "id": "ae5bf7b7-7127-4738-ba90-bca8f745bca8",
   "metadata": {
    "tags": []
   },
   "outputs": [
    {
     "data": {
      "text/plain": [
       "2×2 Matrix{Float64}:\n",
       " 0.857143  0.142857\n",
       " 0.857143  0.142857"
      ]
     },
     "execution_count": 16,
     "metadata": {},
     "output_type": "execute_result"
    }
   ],
   "source": [
    "π̄ = iterate(P,1,ϵ = 0.000001)"
   ]
  },
  {
   "cell_type": "code",
   "execution_count": 17,
   "id": "40a7ff4b-9877-4c9f-a38e-1fbb4953c7c6",
   "metadata": {
    "tags": []
   },
   "outputs": [
    {
     "data": {
      "text/plain": [
       "1"
      ]
     },
     "execution_count": 17,
     "metadata": {},
     "output_type": "execute_result"
    }
   ],
   "source": [
    "rank(π̄)"
   ]
  },
  {
   "cell_type": "markdown",
   "id": "5d5e8924-3194-4648-9515-e71f1c6a53ec",
   "metadata": {},
   "source": [
    "### 3. Construct and Sample Categorical Distributions\n",
    "Let's create a [categorical distribution](https://en.wikipedia.org/wiki/Categorical_distribution) using the stationary probability of our Markov chain using the [Distributions.jl](https://github.com/JuliaStats/Distributions.jl) package, save this distribution in the variable `d`:"
   ]
  },
  {
   "cell_type": "code",
   "execution_count": 31,
   "id": "8f095b12-c59e-4624-b1e1-77da19c67d24",
   "metadata": {
    "tags": []
   },
   "outputs": [],
   "source": [
    "d = Categorical(π̄[1,:]);"
   ]
  },
  {
   "cell_type": "markdown",
   "id": "25d99c66-0915-41f6-8cfa-11f79567d7cf",
   "metadata": {},
   "source": [
    "Next, let's sample the distribution `d` to recover the stationary distribution $\\pi$. We'll compute `number_of_samples` from the distribution `d` and then calculate the frequency of `1` and `2` values. These should converge to the stationary probability as the `number_of_samples` becomes large:"
   ]
  },
  {
   "cell_type": "code",
   "execution_count": 25,
   "id": "d8ba781f-abce-430f-97ad-c8adf29df75c",
   "metadata": {
    "tags": []
   },
   "outputs": [],
   "source": [
    "samples = rand(d,number_of_samples);"
   ]
  },
  {
   "cell_type": "markdown",
   "id": "27658628-57d5-46ce-915f-d88d7c9328bc",
   "metadata": {},
   "source": [
    "Compute the counts of the states `s = 1` and `s = 2` from the `samples` array:"
   ]
  },
  {
   "cell_type": "code",
   "execution_count": 27,
   "id": "a456febd-b82b-431f-9b40-9dcb252137ea",
   "metadata": {
    "tags": []
   },
   "outputs": [],
   "source": [
    "N₁ = findall(x-> x == 1, samples) |> length;\n",
    "N₂ = findall(x-> x == 2, samples) |> length;"
   ]
  },
  {
   "cell_type": "markdown",
   "id": "6b2a9746-9fa0-4770-a003-a822a9a22dc6",
   "metadata": {
    "tags": []
   },
   "source": [
    "Finally, we can compute the relative frequency (probability) of the states `s = 1` and `s = 2`:"
   ]
  },
  {
   "cell_type": "code",
   "execution_count": 30,
   "id": "56f883f1-1a3b-4f10-94b6-56821c32401b",
   "metadata": {
    "tags": []
   },
   "outputs": [
    {
     "name": "stdout",
     "output_type": "stream",
     "text": [
      "The sampled probability (p₁,p₂) = (0.8589, 0.1411)\n"
     ]
    }
   ],
   "source": [
    "p̂₁ = N₁/number_of_samples;\n",
    "p̂₂ = N₂/number_of_samples;\n",
    "println(\"The sampled probability (p₁,p₂) = ($(p̂₁), $(p̂₂))\")"
   ]
  }
 ],
 "metadata": {
  "kernelspec": {
   "display_name": "Julia 1.9.3",
   "language": "julia",
   "name": "julia-1.9"
  },
  "language_info": {
   "file_extension": ".jl",
   "mimetype": "application/julia",
   "name": "julia",
   "version": "1.9.3"
  }
 },
 "nbformat": 4,
 "nbformat_minor": 5
}
