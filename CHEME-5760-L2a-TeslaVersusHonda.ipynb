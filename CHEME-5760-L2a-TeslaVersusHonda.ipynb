{
 "cells": [
  {
   "cell_type": "markdown",
   "id": "7ef110f1-5bca-4c61-a783-bbd948bc2a4f",
   "metadata": {},
   "source": [
    "# Evaluating the Utility of a Tesla Model S versus the Honda Odyssey"
   ]
  },
  {
   "cell_type": "markdown",
   "id": "22589507-b367-452f-90cb-e3d6cae89ee4",
   "metadata": {
    "jp-MarkdownHeadingCollapsed": true,
    "tags": []
   },
   "source": [
    "## Introduction\n",
    "An individual decision-maker (agent) is given a set of $X_{1},\\dotsc,X_{n}$ objects \n",
    "where each object has $m$ possible features $X_{i}=\\left\\{x_{1,i},\\dotsc,x_{m,i}\\right\\}$.\n",
    "A utility function ranks the agent's preference for combinations of features for each object $i$:\n",
    "\n",
    "\\begin{equation}\n",
    "U_{i}(x_{1,i},x_{2,i},\\dots,x_{m,i}) = u_{i}\n",
    "\\end{equation}\n",
    "\n",
    "where $u_{i}$ is a real number called the `utility` for object $i$. Utility has units of `utils`. The utility function $U:X\\rightarrow\\mathbb{R}$ is unique only up to an order-preserving transformation. Utility functions are `ordinal`, i.e., they rank-order bundles but do not measure differences between bundles.\n",
    "\n",
    "### Learning objectives\n",
    "Fill me in"
   ]
  },
  {
   "cell_type": "markdown",
   "id": "f48d3582-ac69-43c8-9e02-c5b819fc6e8d",
   "metadata": {
    "jp-MarkdownHeadingCollapsed": true,
    "tags": []
   },
   "source": [
    "## Setup"
   ]
  },
  {
   "cell_type": "code",
   "execution_count": 1,
   "id": "f6d5a05c-1eb9-4929-9852-8cd23a85e8f7",
   "metadata": {
    "tags": []
   },
   "outputs": [
    {
     "name": "stderr",
     "output_type": "stream",
     "text": [
      "\u001b[32m\u001b[1m  Activating\u001b[22m\u001b[39m project at `~/Desktop/julia_work/CHEME-5760-Examples-F23`\n",
      "\u001b[32m\u001b[1m    Updating\u001b[22m\u001b[39m registry at `~/.julia/registries/General.toml`\n",
      "\u001b[32m\u001b[1m    Updating\u001b[22m\u001b[39m git-repo `https://github.com/varnerlab/VLDecisionsPackage.jl.git`\n",
      "\u001b[32m\u001b[1m  No Changes\u001b[22m\u001b[39m to `~/Desktop/julia_work/CHEME-5760-Examples-F23/Project.toml`\n",
      "\u001b[32m\u001b[1m  No Changes\u001b[22m\u001b[39m to `~/Desktop/julia_work/CHEME-5760-Examples-F23/Manifest.toml`\n"
     ]
    }
   ],
   "source": [
    "include(\"Include.jl\");"
   ]
  },
  {
   "cell_type": "code",
   "execution_count": 2,
   "id": "49a37f36-fd1b-4b15-bf7e-4dc458722d77",
   "metadata": {
    "tags": []
   },
   "outputs": [
    {
     "data": {
      "text/plain": [
       "UCD (generic function with 1 method)"
      ]
     },
     "execution_count": 2,
     "metadata": {},
     "output_type": "execute_result"
    }
   ],
   "source": [
    "function UCD(x)\n",
    "    \n",
    "    # load data -\n",
    "    dataset = HondaTeslaDataSet();\n",
    "    α = dataset[:,:exponent];\n",
    "    \n",
    "    number_of_features = length(x);\n",
    "    solution = 1.0;\n",
    "\n",
    "    # build the solution -\n",
    "    for i ∈ 1:number_of_features\n",
    "        solution *= x[i]^α[i];\n",
    "    end\n",
    "\n",
    "    # return - \n",
    "    return solution;\n",
    "end"
   ]
  },
  {
   "cell_type": "code",
   "execution_count": 34,
   "id": "6f1dabd2-c475-4d80-8034-80f0e0af9bf5",
   "metadata": {
    "tags": []
   },
   "outputs": [
    {
     "data": {
      "text/plain": [
       "MUCD (generic function with 1 method)"
      ]
     },
     "execution_count": 34,
     "metadata": {},
     "output_type": "execute_result"
    }
   ],
   "source": [
    "function MUCD(model::VLCobbDouglasUtilityFunction, features::Array{Float64,1})::Array{Float64,1}\n",
    "    \n",
    "    # initialize -\n",
    "    number_of_features = length(features);\n",
    "    values = zeros(number_of_features);\n",
    "    α = model.α;\n",
    "    \n",
    "    for i ∈ 1:number_of_features\n",
    "        tmp = prod(features[1:end .!=i].^(α[1:end .!=i]));\n",
    "        values[i] = tmp*(α[i]*features[i]^(α[i]-1))\n",
    "    end\n",
    "    \n",
    "    # return -\n",
    "    return values\n",
    "end"
   ]
  },
  {
   "cell_type": "markdown",
   "id": "6b7c88da-7703-4d47-a120-a00ede742765",
   "metadata": {},
   "source": [
    "## Data"
   ]
  },
  {
   "cell_type": "code",
   "execution_count": 21,
   "id": "5bdc4591-c1b8-4f34-ac63-eac013aaa155",
   "metadata": {
    "tags": []
   },
   "outputs": [
    {
     "data": {
      "text/html": [
       "<div><div style = \"float: left;\"><span>7×4 DataFrame</span></div><div style = \"clear: both;\"></div></div><div class = \"data-frame\" style = \"overflow-x: scroll;\"><table class = \"data-frame\" style = \"margin-bottom: 6px;\"><thead><tr class = \"header\"><th class = \"rowNumber\" style = \"font-weight: bold; text-align: right;\">Row</th><th style = \"text-align: left;\">feature</th><th style = \"text-align: left;\">exponent</th><th style = \"text-align: left;\">Tesla</th><th style = \"text-align: left;\">Honda</th></tr><tr class = \"subheader headerLastRow\"><th class = \"rowNumber\" style = \"font-weight: bold; text-align: right;\"></th><th title = \"String15\" style = \"text-align: left;\">String15</th><th title = \"Float64\" style = \"text-align: left;\">Float64</th><th title = \"Float64\" style = \"text-align: left;\">Float64</th><th title = \"Float64\" style = \"text-align: left;\">Float64</th></tr></thead><tbody><tr><td class = \"rowNumber\" style = \"font-weight: bold; text-align: right;\">1</td><td style = \"text-align: left;\">sustainability</td><td style = \"text-align: right;\">0.2</td><td style = \"text-align: right;\">5.0</td><td style = \"text-align: right;\">3.0</td></tr><tr><td class = \"rowNumber\" style = \"font-weight: bold; text-align: right;\">2</td><td style = \"text-align: left;\">affordability</td><td style = \"text-align: right;\">0.1</td><td style = \"text-align: right;\">2.0</td><td style = \"text-align: right;\">4.0</td></tr><tr><td class = \"rowNumber\" style = \"font-weight: bold; text-align: right;\">3</td><td style = \"text-align: left;\">styling</td><td style = \"text-align: right;\">0.05</td><td style = \"text-align: right;\">5.0</td><td style = \"text-align: right;\">2.0</td></tr><tr><td class = \"rowNumber\" style = \"font-weight: bold; text-align: right;\">4</td><td style = \"text-align: left;\">usefulness</td><td style = \"text-align: right;\">0.3</td><td style = \"text-align: right;\">2.0</td><td style = \"text-align: right;\">5.0</td></tr><tr><td class = \"rowNumber\" style = \"font-weight: bold; text-align: right;\">5</td><td style = \"text-align: left;\">costownership</td><td style = \"text-align: right;\">0.1</td><td style = \"text-align: right;\">4.0</td><td style = \"text-align: right;\">2.0</td></tr><tr><td class = \"rowNumber\" style = \"font-weight: bold; text-align: right;\">6</td><td style = \"text-align: left;\">performance</td><td style = \"text-align: right;\">0.05</td><td style = \"text-align: right;\">5.0</td><td style = \"text-align: right;\">1.0</td></tr><tr><td class = \"rowNumber\" style = \"font-weight: bold; text-align: right;\">7</td><td style = \"text-align: left;\">safety</td><td style = \"text-align: right;\">0.2</td><td style = \"text-align: right;\">5.0</td><td style = \"text-align: right;\">5.0</td></tr></tbody></table></div>"
      ],
      "text/latex": [
       "\\begin{tabular}{r|cccc}\n",
       "\t& feature & exponent & Tesla & Honda\\\\\n",
       "\t\\hline\n",
       "\t& String15 & Float64 & Float64 & Float64\\\\\n",
       "\t\\hline\n",
       "\t1 & sustainability & 0.2 & 5.0 & 3.0 \\\\\n",
       "\t2 & affordability & 0.1 & 2.0 & 4.0 \\\\\n",
       "\t3 & styling & 0.05 & 5.0 & 2.0 \\\\\n",
       "\t4 & usefulness & 0.3 & 2.0 & 5.0 \\\\\n",
       "\t5 & costownership & 0.1 & 4.0 & 2.0 \\\\\n",
       "\t6 & performance & 0.05 & 5.0 & 1.0 \\\\\n",
       "\t7 & safety & 0.2 & 5.0 & 5.0 \\\\\n",
       "\\end{tabular}\n"
      ],
      "text/plain": [
       "\u001b[1m7×4 DataFrame\u001b[0m\n",
       "\u001b[1m Row \u001b[0m│\u001b[1m feature        \u001b[0m\u001b[1m exponent \u001b[0m\u001b[1m Tesla   \u001b[0m\u001b[1m Honda   \u001b[0m\n",
       "     │\u001b[90m String15       \u001b[0m\u001b[90m Float64  \u001b[0m\u001b[90m Float64 \u001b[0m\u001b[90m Float64 \u001b[0m\n",
       "─────┼────────────────────────────────────────────\n",
       "   1 │ sustainability      0.2       5.0      3.0\n",
       "   2 │ affordability       0.1       2.0      4.0\n",
       "   3 │ styling             0.05      5.0      2.0\n",
       "   4 │ usefulness          0.3       2.0      5.0\n",
       "   5 │ costownership       0.1       4.0      2.0\n",
       "   6 │ performance         0.05      5.0      1.0\n",
       "   7 │ safety              0.2       5.0      5.0"
      ]
     },
     "execution_count": 21,
     "metadata": {},
     "output_type": "execute_result"
    }
   ],
   "source": [
    "dataset = HondaTeslaDataSet()\n",
    "dataset[4,:Tesla] = 2.0;\n",
    "\n",
    "dataset"
   ]
  },
  {
   "cell_type": "code",
   "execution_count": 4,
   "id": "fc59c38b-d45b-4189-92be-b2678a3cf996",
   "metadata": {
    "tags": []
   },
   "outputs": [],
   "source": [
    "@assert(sum(dataset[:,:exponent]) == 1.0)"
   ]
  },
  {
   "cell_type": "markdown",
   "id": "2a96deef-c9e4-4bce-8608-402cd5131e9d",
   "metadata": {
    "jp-MarkdownHeadingCollapsed": true,
    "tags": []
   },
   "source": [
    "### Build the Cobb-Douglas model\n",
    "The `Cobb-Douglas` utility function is the product of the $m$ feature variables.  Thus, \n",
    "it models situations where we consider features simultaneously. Each feature variable is raised to a non-negative exponent:\n",
    "\n",
    "\\begin{equation}\n",
    "U(x_{1},\\dots,x_{m}) = \\prod_{i\\in{1\\dots{m}}}{x_{i}^{\\alpha_{i}}}\n",
    "\\end{equation}\n",
    "\n",
    "In our realization of the `Cobb-Douglas` utility, the exponents must sum to unity $\\sum_{i\\in{1\\dots{m}}}\\alpha_{i} = 1$, $x_{i}\\geq{0}$,\n",
    "and $\\alpha_{i}\\geq{0}$. "
   ]
  },
  {
   "cell_type": "code",
   "execution_count": 5,
   "id": "1f68623c-e230-47c3-a7e1-b73a918400cb",
   "metadata": {
    "tags": []
   },
   "outputs": [],
   "source": [
    "model = build(VLCobbDouglasUtilityFunction, (\n",
    "        α = dataset[:,:exponent],)\n",
    ");"
   ]
  },
  {
   "cell_type": "code",
   "execution_count": 22,
   "id": "e487f006-fcee-416d-8c41-d9be5f81daab",
   "metadata": {
    "tags": []
   },
   "outputs": [
    {
     "name": "stdout",
     "output_type": "stream",
     "text": [
      "The utility of Tesla = 3.389245277339831 while the utility of the Honda = 3.550338415119845\n"
     ]
    }
   ],
   "source": [
    "utility_tesla = model(dataset[:,:Tesla]);\n",
    "utility_honda = model(dataset[:,:Honda]);\n",
    "println(\"The utility of Tesla = $(utility_tesla) while the utility of the Honda = $(utility_honda)\")"
   ]
  },
  {
   "cell_type": "code",
   "execution_count": 23,
   "id": "00b2c31f-4f7b-4cfc-9133-dd7d9849528f",
   "metadata": {
    "tags": []
   },
   "outputs": [
    {
     "data": {
      "text/plain": [
       "4.753068149333053"
      ]
     },
     "execution_count": 23,
     "metadata": {},
     "output_type": "execute_result"
    }
   ],
   "source": [
    "Δ = ((max(utility_tesla,utility_honda) - min(utility_tesla,utility_honda))/min(utility_tesla,utility_honda))*100"
   ]
  },
  {
   "cell_type": "code",
   "execution_count": 24,
   "id": "cd6f2cd4-0388-49eb-9e5f-6eef116dd338",
   "metadata": {},
   "outputs": [
    {
     "data": {
      "text/html": [
       "<div><div style = \"float: left;\"><span>7×5 DataFrame</span></div><div style = \"clear: both;\"></div></div><div class = \"data-frame\" style = \"overflow-x: scroll;\"><table class = \"data-frame\" style = \"margin-bottom: 6px;\"><thead><tr class = \"header\"><th class = \"rowNumber\" style = \"font-weight: bold; text-align: right;\">Row</th><th style = \"text-align: left;\">feature</th><th style = \"text-align: left;\">S_Tesla</th><th style = \"text-align: left;\">MU_Tesla</th><th style = \"text-align: left;\">S_Honda</th><th style = \"text-align: left;\">MU_Honda</th></tr><tr class = \"subheader headerLastRow\"><th class = \"rowNumber\" style = \"font-weight: bold; text-align: right;\"></th><th title = \"String15\" style = \"text-align: left;\">String15</th><th title = \"Float64\" style = \"text-align: left;\">Float64</th><th title = \"Float64\" style = \"text-align: left;\">Float64</th><th title = \"Float64\" style = \"text-align: left;\">Float64</th><th title = \"Float64\" style = \"text-align: left;\">Float64</th></tr></thead><tbody><tr><td class = \"rowNumber\" style = \"font-weight: bold; text-align: right;\">1</td><td style = \"text-align: left;\">sustainability</td><td style = \"text-align: right;\">5.0</td><td style = \"text-align: right;\">0.13557</td><td style = \"text-align: right;\">3.0</td><td style = \"text-align: right;\">0.236689</td></tr><tr><td class = \"rowNumber\" style = \"font-weight: bold; text-align: right;\">2</td><td style = \"text-align: left;\">affordability</td><td style = \"text-align: right;\">2.0</td><td style = \"text-align: right;\">0.169462</td><td style = \"text-align: right;\">4.0</td><td style = \"text-align: right;\">0.0887585</td></tr><tr><td class = \"rowNumber\" style = \"font-weight: bold; text-align: right;\">3</td><td style = \"text-align: left;\">styling</td><td style = \"text-align: right;\">5.0</td><td style = \"text-align: right;\">0.0338925</td><td style = \"text-align: right;\">2.0</td><td style = \"text-align: right;\">0.0887585</td></tr><tr><td class = \"rowNumber\" style = \"font-weight: bold; text-align: right;\">4</td><td style = \"text-align: left;\">usefulness</td><td style = \"text-align: right;\">2.0</td><td style = \"text-align: right;\">0.508387</td><td style = \"text-align: right;\">5.0</td><td style = \"text-align: right;\">0.21302</td></tr><tr><td class = \"rowNumber\" style = \"font-weight: bold; text-align: right;\">5</td><td style = \"text-align: left;\">costownership</td><td style = \"text-align: right;\">4.0</td><td style = \"text-align: right;\">0.0847311</td><td style = \"text-align: right;\">2.0</td><td style = \"text-align: right;\">0.177517</td></tr><tr><td class = \"rowNumber\" style = \"font-weight: bold; text-align: right;\">6</td><td style = \"text-align: left;\">performance</td><td style = \"text-align: right;\">5.0</td><td style = \"text-align: right;\">0.0338925</td><td style = \"text-align: right;\">1.0</td><td style = \"text-align: right;\">0.177517</td></tr><tr><td class = \"rowNumber\" style = \"font-weight: bold; text-align: right;\">7</td><td style = \"text-align: left;\">safety</td><td style = \"text-align: right;\">5.0</td><td style = \"text-align: right;\">0.13557</td><td style = \"text-align: right;\">5.0</td><td style = \"text-align: right;\">0.142014</td></tr></tbody></table></div>"
      ],
      "text/latex": [
       "\\begin{tabular}{r|ccccc}\n",
       "\t& feature & S\\_Tesla & MU\\_Tesla & S\\_Honda & MU\\_Honda\\\\\n",
       "\t\\hline\n",
       "\t& String15 & Float64 & Float64 & Float64 & Float64\\\\\n",
       "\t\\hline\n",
       "\t1 & sustainability & 5.0 & 0.13557 & 3.0 & 0.236689 \\\\\n",
       "\t2 & affordability & 2.0 & 0.169462 & 4.0 & 0.0887585 \\\\\n",
       "\t3 & styling & 5.0 & 0.0338925 & 2.0 & 0.0887585 \\\\\n",
       "\t4 & usefulness & 2.0 & 0.508387 & 5.0 & 0.21302 \\\\\n",
       "\t5 & costownership & 4.0 & 0.0847311 & 2.0 & 0.177517 \\\\\n",
       "\t6 & performance & 5.0 & 0.0338925 & 1.0 & 0.177517 \\\\\n",
       "\t7 & safety & 5.0 & 0.13557 & 5.0 & 0.142014 \\\\\n",
       "\\end{tabular}\n"
      ],
      "text/plain": [
       "\u001b[1m7×5 DataFrame\u001b[0m\n",
       "\u001b[1m Row \u001b[0m│\u001b[1m feature        \u001b[0m\u001b[1m S_Tesla \u001b[0m\u001b[1m MU_Tesla  \u001b[0m\u001b[1m S_Honda \u001b[0m\u001b[1m MU_Honda  \u001b[0m\n",
       "     │\u001b[90m String15       \u001b[0m\u001b[90m Float64 \u001b[0m\u001b[90m Float64   \u001b[0m\u001b[90m Float64 \u001b[0m\u001b[90m Float64   \u001b[0m\n",
       "─────┼────────────────────────────────────────────────────────\n",
       "   1 │ sustainability      5.0  0.13557        3.0  0.236689\n",
       "   2 │ affordability       2.0  0.169462       4.0  0.0887585\n",
       "   3 │ styling             5.0  0.0338925      2.0  0.0887585\n",
       "   4 │ usefulness          2.0  0.508387       5.0  0.21302\n",
       "   5 │ costownership       4.0  0.0847311      2.0  0.177517\n",
       "   6 │ performance         5.0  0.0338925      1.0  0.177517\n",
       "   7 │ safety              5.0  0.13557        5.0  0.142014"
      ]
     },
     "execution_count": 24,
     "metadata": {},
     "output_type": "execute_result"
    }
   ],
   "source": [
    "Ū_tesla = ForwardDiff.gradient(UCD, dataset[:,:Tesla]);\n",
    "Ū_honda = ForwardDiff.gradient(UCD, dataset[:,:Honda]);\n",
    "\n",
    "mu_table_df = DataFrame();\n",
    "for i ∈ eachindex(Ū_tesla)\n",
    "    \n",
    "    row_tuple = (\n",
    "        feature = dataset[i,:feature],\n",
    "        S_Tesla = dataset[i,:Tesla],\n",
    "        MU_Tesla = Ū_tesla[i],\n",
    "        S_Honda = dataset[i,:Honda],\n",
    "        MU_Honda = Ū_honda[i]\n",
    "    );\n",
    "\n",
    "    push!(mu_table_df, row_tuple);\n",
    "end\n",
    "mu_table_df"
   ]
  },
  {
   "cell_type": "markdown",
   "id": "4e15ce68-a04a-49c5-9bdf-aabfde0bdba3",
   "metadata": {
    "jp-MarkdownHeadingCollapsed": true,
    "tags": []
   },
   "source": [
    "### Check: How good is the numerical estimate of the marginal utlity?"
   ]
  },
  {
   "cell_type": "code",
   "execution_count": 37,
   "id": "e87fd629-eb47-4579-84da-a08b43081032",
   "metadata": {
    "tags": []
   },
   "outputs": [
    {
     "data": {
      "text/html": [
       "<div><div style = \"float: left;\"><span>7×4 DataFrame</span></div><div style = \"clear: both;\"></div></div><div class = \"data-frame\" style = \"overflow-x: scroll;\"><table class = \"data-frame\" style = \"margin-bottom: 6px;\"><thead><tr class = \"header\"><th class = \"rowNumber\" style = \"font-weight: bold; text-align: right;\">Row</th><th style = \"text-align: left;\">feature</th><th style = \"text-align: left;\">S_Tesla</th><th style = \"text-align: left;\">MU_N_Tesla</th><th style = \"text-align: left;\">MU_A_Tesla</th></tr><tr class = \"subheader headerLastRow\"><th class = \"rowNumber\" style = \"font-weight: bold; text-align: right;\"></th><th title = \"String15\" style = \"text-align: left;\">String15</th><th title = \"Float64\" style = \"text-align: left;\">Float64</th><th title = \"Float64\" style = \"text-align: left;\">Float64</th><th title = \"Float64\" style = \"text-align: left;\">Float64</th></tr></thead><tbody><tr><td class = \"rowNumber\" style = \"font-weight: bold; text-align: right;\">1</td><td style = \"text-align: left;\">sustainability</td><td style = \"text-align: right;\">5.0</td><td style = \"text-align: right;\">0.13557</td><td style = \"text-align: right;\">0.13557</td></tr><tr><td class = \"rowNumber\" style = \"font-weight: bold; text-align: right;\">2</td><td style = \"text-align: left;\">affordability</td><td style = \"text-align: right;\">2.0</td><td style = \"text-align: right;\">0.169462</td><td style = \"text-align: right;\">0.169462</td></tr><tr><td class = \"rowNumber\" style = \"font-weight: bold; text-align: right;\">3</td><td style = \"text-align: left;\">styling</td><td style = \"text-align: right;\">5.0</td><td style = \"text-align: right;\">0.0338925</td><td style = \"text-align: right;\">0.0338925</td></tr><tr><td class = \"rowNumber\" style = \"font-weight: bold; text-align: right;\">4</td><td style = \"text-align: left;\">usefulness</td><td style = \"text-align: right;\">2.0</td><td style = \"text-align: right;\">0.508387</td><td style = \"text-align: right;\">0.508387</td></tr><tr><td class = \"rowNumber\" style = \"font-weight: bold; text-align: right;\">5</td><td style = \"text-align: left;\">costownership</td><td style = \"text-align: right;\">4.0</td><td style = \"text-align: right;\">0.0847311</td><td style = \"text-align: right;\">0.0847311</td></tr><tr><td class = \"rowNumber\" style = \"font-weight: bold; text-align: right;\">6</td><td style = \"text-align: left;\">performance</td><td style = \"text-align: right;\">5.0</td><td style = \"text-align: right;\">0.0338925</td><td style = \"text-align: right;\">0.0338925</td></tr><tr><td class = \"rowNumber\" style = \"font-weight: bold; text-align: right;\">7</td><td style = \"text-align: left;\">safety</td><td style = \"text-align: right;\">5.0</td><td style = \"text-align: right;\">0.13557</td><td style = \"text-align: right;\">0.13557</td></tr></tbody></table></div>"
      ],
      "text/latex": [
       "\\begin{tabular}{r|cccc}\n",
       "\t& feature & S\\_Tesla & MU\\_N\\_Tesla & MU\\_A\\_Tesla\\\\\n",
       "\t\\hline\n",
       "\t& String15 & Float64 & Float64 & Float64\\\\\n",
       "\t\\hline\n",
       "\t1 & sustainability & 5.0 & 0.13557 & 0.13557 \\\\\n",
       "\t2 & affordability & 2.0 & 0.169462 & 0.169462 \\\\\n",
       "\t3 & styling & 5.0 & 0.0338925 & 0.0338925 \\\\\n",
       "\t4 & usefulness & 2.0 & 0.508387 & 0.508387 \\\\\n",
       "\t5 & costownership & 4.0 & 0.0847311 & 0.0847311 \\\\\n",
       "\t6 & performance & 5.0 & 0.0338925 & 0.0338925 \\\\\n",
       "\t7 & safety & 5.0 & 0.13557 & 0.13557 \\\\\n",
       "\\end{tabular}\n"
      ],
      "text/plain": [
       "\u001b[1m7×4 DataFrame\u001b[0m\n",
       "\u001b[1m Row \u001b[0m│\u001b[1m feature        \u001b[0m\u001b[1m S_Tesla \u001b[0m\u001b[1m MU_N_Tesla \u001b[0m\u001b[1m MU_A_Tesla \u001b[0m\n",
       "     │\u001b[90m String15       \u001b[0m\u001b[90m Float64 \u001b[0m\u001b[90m Float64    \u001b[0m\u001b[90m Float64    \u001b[0m\n",
       "─────┼─────────────────────────────────────────────────\n",
       "   1 │ sustainability      5.0   0.13557     0.13557\n",
       "   2 │ affordability       2.0   0.169462    0.169462\n",
       "   3 │ styling             5.0   0.0338925   0.0338925\n",
       "   4 │ usefulness          2.0   0.508387    0.508387\n",
       "   5 │ costownership       4.0   0.0847311   0.0847311\n",
       "   6 │ performance         5.0   0.0338925   0.0338925\n",
       "   7 │ safety              5.0   0.13557     0.13557"
      ]
     },
     "execution_count": 37,
     "metadata": {},
     "output_type": "execute_result"
    }
   ],
   "source": [
    "analytical_MU = MUCD(model,dataset[:,:Tesla]);\n",
    "numerical_versus_analytical_df = DataFrame();\n",
    "for i ∈ eachindex(Ū_tesla)\n",
    "    \n",
    "    row_tuple = (\n",
    "        feature = dataset[i,:feature],\n",
    "        S_Tesla = dataset[i,:Tesla],\n",
    "        MU_N_Tesla = Ū_tesla[i],\n",
    "        MU_A_Tesla = analytical_MU[i],\n",
    "    );\n",
    "\n",
    "    push!(numerical_versus_analytical_df, row_tuple);\n",
    "end\n",
    "numerical_versus_analytical_df"
   ]
  },
  {
   "cell_type": "markdown",
   "id": "6835316a-e6a5-4276-ae89-0ec11c61416e",
   "metadata": {},
   "source": [
    "### Predicting Utility from feature changes\n",
    "An individual decision-maker (agent) is given a set of $X_{1},\\dotsc, X_{n}$ objects \n",
    "where each object has $m$ possible features $X_{i}=\\left\\{x_{1,i} \\dotsc ,x_{m,i}\\right\\}$.\n",
    "The _local change_ in the utility $U(\\dots)$ near a point $x^{\\star}\\in{X}$ can be computed \n",
    "using the _total differential_ of the utility function $U(\\dots)$:\n",
    "\n",
    "\\begin{equation}\n",
    "dU = \\sum_{i\\in{1\\dots{m}}}\\bar{U}_{x_{i}}\\cdot{dx_{i}}\n",
    "\\end{equation}\n",
    "\n",
    "where $dU\\approx\\left(U - U^{\\star}\\right)$ denotes the local change in utility, \n",
    "$\\bar{U}_{x_{i}}$ denotes the marginal utility of $x_{i}$ evaluated at the point $x^{\\star}\\in{X}$, \n",
    "and $dx_{i}\\approx(x_{i}-x^{\\star}_{i})$ is the change in the feature $x_{i}$. \n",
    "\n",
    "#### Application\n",
    "In this example, the `usefulness` feature has the largest marginal utility for Tesla. What would happen to the Model S utility if Tesla were to increase the `usefulness` feature by `+1`? If all else was held constant (`omnibus paribus`), then the change of `dx` in a single feature `i` gives the new utility:\n",
    "\n",
    "$$\n",
    "\\begin{equation}\n",
    "U = U^{\\star} + \\bar{U}_{i}\\cdot{dx_{i}}\n",
    "\\end{equation}\n",
    "$$"
   ]
  },
  {
   "cell_type": "code",
   "execution_count": 31,
   "id": "6e29482e-7d6b-4562-a989-38b49c50eaaf",
   "metadata": {
    "tags": []
   },
   "outputs": [
    {
     "data": {
      "text/plain": [
       "3.431610843306579"
      ]
     },
     "execution_count": 31,
     "metadata": {},
     "output_type": "execute_result"
    }
   ],
   "source": [
    "dx = zeros(length(Ū_tesla));\n",
    "dx[5] = 0.5;\n",
    "U = utility_tesla + sum(Ū_tesla.*dx)"
   ]
  },
  {
   "cell_type": "code",
   "execution_count": null,
   "id": "74a54b8f-94bb-4f3b-8a52-4b56dafba0be",
   "metadata": {},
   "outputs": [],
   "source": []
  }
 ],
 "metadata": {
  "kernelspec": {
   "display_name": "Julia 1.9.3",
   "language": "julia",
   "name": "julia-1.9"
  },
  "language_info": {
   "file_extension": ".jl",
   "mimetype": "application/julia",
   "name": "julia",
   "version": "1.9.3"
  }
 },
 "nbformat": 4,
 "nbformat_minor": 5
}
