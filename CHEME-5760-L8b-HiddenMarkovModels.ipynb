{
 "cells": [
  {
   "cell_type": "markdown",
   "id": "fbbfc7c9-f794-4e1c-9bf3-e121bcaf6fd8",
   "metadata": {},
   "source": [
    "## Example: Properties of Hidden Markov Models\n",
    "\n",
    "Hidden Markov models (HMMs) are Markov models with unobservable states $s\\in\\mathcal{S}$ but observable outcomes $o\\in\\mathcal{O}$. Each hidden state in an HMM emits an observable single $o_{t}$ at time $t$, with the emission probability:\n",
    "\n",
    "$$\n",
    "\\begin{equation*}\n",
    "P(Y = o_{t}\\,|\\,X = s_{t})\n",
    "\\end{equation*}\n",
    "$$\n",
    "\n",
    "where $Y$ is the observable outcome and $X$ is the hidden state. Similar to the transition probability, the emission probability must sum to unity:\n",
    "\n",
    "$$\n",
    "\\begin{equation*}\n",
    "\\sum_{o\\in\\mathcal{O}} P(Y = o\\,|\\,X = s) = 1\\qquad\\forall{s\\in\\mathcal{S}}\n",
    "\\end{equation*}\n",
    "$$\n",
    "\n",
    "The emission probability plays a crucial role in HMMs, as it is used to calculate the likelihood of a sequence of observed symbols, \n",
    "given the current state of the hidden Markov chain. To explore these ideas, let's construct a two-state, three outpout Hidden Markov Models (HMMs). \n",
    "\n",
    "<div>\n",
    "    <center>\n",
    "        <img src=\"figs/Fig-HMM-Schematic-23.svg\" width=\"380\"/>\n",
    "    </center>\n",
    "</div>\n",
    "\n",
    "#### Learning objectives\n",
    "The objective of this example is to familiarize students with Hidden Markov models (HMMs) and the components of Hidden Markov models, in particular the transition matrix $\\mathbf{P}$, computing the stationary distribution $\\pi$, the emission probability matrix $\\mathbf{E}$, and finally sampling the stationary distribution using categorical distribution."
   ]
  },
  {
   "cell_type": "markdown",
   "id": "ccdaa6c4-797c-496c-82a0-7b3702acc022",
   "metadata": {},
   "source": [
    "## Setup\n",
    "Let's load some packages that are required for the example by calling the `include(...)` function on our initialization file `Include.jl`:"
   ]
  },
  {
   "cell_type": "code",
   "execution_count": 1,
   "id": "3e1ed4f5-4cf6-4963-8720-07745a640d04",
   "metadata": {
    "tags": []
   },
   "outputs": [
    {
     "name": "stderr",
     "output_type": "stream",
     "text": [
      "\u001b[32m\u001b[1m    Updating\u001b[22m\u001b[39m git-repo `https://github.com/varnerlab/VLDecisionsPackage.jl.git`\n",
      "\u001b[32m\u001b[1m   Resolving\u001b[22m\u001b[39m package versions...\n",
      "\u001b[32m\u001b[1m  No Changes\u001b[22m\u001b[39m to `~/Desktop/julia_work/CHEME-5760-Examples-F23/Project.toml`\n",
      "\u001b[32m\u001b[1m  No Changes\u001b[22m\u001b[39m to `~/Desktop/julia_work/CHEME-5760-Examples-F23/Manifest.toml`\n",
      "\u001b[32m\u001b[1m  Activating\u001b[22m\u001b[39m project at `~/Desktop/julia_work/CHEME-5760-Examples-F23`\n",
      "\u001b[32m\u001b[1m    Updating\u001b[22m\u001b[39m registry at `~/.julia/registries/General.toml`\n",
      "\u001b[32m\u001b[1m    Updating\u001b[22m\u001b[39m git-repo `https://github.com/varnerlab/VLDecisionsPackage.jl.git`\n",
      "\u001b[32m\u001b[1m  No Changes\u001b[22m\u001b[39m to `~/Desktop/julia_work/CHEME-5760-Examples-F23/Project.toml`\n",
      "\u001b[32m\u001b[1m  No Changes\u001b[22m\u001b[39m to `~/Desktop/julia_work/CHEME-5760-Examples-F23/Manifest.toml`\n"
     ]
    }
   ],
   "source": [
    "include(\"Include.jl\");"
   ]
  },
  {
   "cell_type": "markdown",
   "id": "a52ba3d8-992f-4eea-8c3f-f920562ebbef",
   "metadata": {},
   "source": [
    "```julia\n",
    "iterate(P::Array{Float64,2}, counter::Int; \n",
    "        maxcount::Int = 100, ϵ::Float64 = 0.1) -> Array{Float64,2}\n",
    "```\n",
    "> Recursively computes a stationary distribution. Computation stops if ||P_new - P|| < ϵ or the max number of iterations is hit. "
   ]
  },
  {
   "cell_type": "code",
   "execution_count": 2,
   "id": "8d6931b9-4f24-45a2-b83a-217b87768c64",
   "metadata": {
    "tags": []
   },
   "outputs": [],
   "source": [
    "function iterate(P::Array{Float64,2}, counter::Int; maxcount::Int = 100, ϵ::Float64 = 0.1)::Array{Float64,2}\n",
    "\n",
    "    # base case -\n",
    "    if (counter == maxcount)\n",
    "        return P\n",
    "    else\n",
    "        # generate a new P -\n",
    "        P_new = P^(counter+1)\n",
    "        err = P_new - P;\n",
    "        if (norm(err)<=ϵ)\n",
    "            return P_new\n",
    "        else\n",
    "            # we have NOT hit the error target, or the max iterations\n",
    "            iterate(P_new, (counter+1), maxcount=maxcount, ϵ = ϵ)\n",
    "        end\n",
    "    end\n",
    "end;"
   ]
  },
  {
   "cell_type": "markdown",
   "id": "c71d96d3-6d48-4eb8-a701-fb1f8db1b3fa",
   "metadata": {},
   "source": [
    "#### Constants "
   ]
  },
  {
   "cell_type": "code",
   "execution_count": 3,
   "id": "fb7f7768-3f5c-48aa-9509-1a1be7664267",
   "metadata": {
    "tags": []
   },
   "outputs": [],
   "source": [
    "number_of_hidden_states = 2;\n",
    "number_of_observable_states = 3;\n",
    "number_of_samples = 10000;\n",
    "number_of_simulation_steps = 480;"
   ]
  },
  {
   "cell_type": "markdown",
   "id": "744e52b9-f72b-4f78-851b-8c502b14582a",
   "metadata": {},
   "source": [
    "### 1. Setup the Transition matrix $\\mathbf{P}$, and the stationary distribution $\\pi$"
   ]
  },
  {
   "cell_type": "code",
   "execution_count": 4,
   "id": "027bce64-113c-4ad8-ae0a-a1d3ffa7f1b4",
   "metadata": {
    "tags": []
   },
   "outputs": [],
   "source": [
    "P = [\n",
    "    0.9 0.1;\n",
    "    0.6 0.4;\n",
    "];"
   ]
  },
  {
   "cell_type": "markdown",
   "id": "803924e3-d7c7-4140-a7a2-6283cf61c432",
   "metadata": {},
   "source": [
    "We'll compute the stationary distribution $\\pi$ using the recursive `iterate(...)` method. During each call to the `iterate(...)` method, we compute the matrix power of transition matrix $\\mathbf{P}$. We continue to call the `iterate(...)` method until we hit one of two possible conditions:\n",
    "\n",
    "* The `base case` for the recursion occurs when the `counter == maxcount`, at this point the recursion stops, and the matrix $\\mathbf{P}$ is returned\n",
    "* The recursion also stops when the difference between subsequent powers of the matrix $\\mathbf{P}$ is smaller than a specified threshold"
   ]
  },
  {
   "cell_type": "code",
   "execution_count": 5,
   "id": "aba93bab-b86e-441a-9c62-62e0a3bf53b8",
   "metadata": {
    "tags": []
   },
   "outputs": [
    {
     "data": {
      "text/plain": [
       "2×2 Matrix{Float64}:\n",
       " 0.857143  0.142857\n",
       " 0.857143  0.142857"
      ]
     },
     "execution_count": 5,
     "metadata": {},
     "output_type": "execute_result"
    }
   ],
   "source": [
    "π̄ = iterate(P,1,ϵ = 0.000001)"
   ]
  },
  {
   "cell_type": "markdown",
   "id": "d746adb4-3b7f-45b6-ba0d-62dc94d98ac2",
   "metadata": {},
   "source": [
    "Let's create a [categorical distribution](https://en.wikipedia.org/wiki/Categorical_distribution) using the stationary probability of our Markov chain using the [Distributions.jl](https://github.com/JuliaStats/Distributions.jl) package, save this distribution in the variable `d`:"
   ]
  },
  {
   "cell_type": "code",
   "execution_count": 6,
   "id": "90b6b697-634c-4de9-be5b-e3ff5e621281",
   "metadata": {
    "tags": []
   },
   "outputs": [],
   "source": [
    "d = Categorical(π̄[1,:]);"
   ]
  },
  {
   "cell_type": "markdown",
   "id": "9baa3f4c-8ad4-438e-a33f-952d9eb004e8",
   "metadata": {},
   "source": [
    "### 2. Setup the Emission probability"
   ]
  },
  {
   "cell_type": "code",
   "execution_count": 35,
   "id": "8a9a2443-3fee-49e3-b8e1-d081c0d2cfbf",
   "metadata": {
    "tags": []
   },
   "outputs": [],
   "source": [
    "EPM = [\n",
    "    0.8 0.1 0.1 ;\n",
    "    0.1 0.1 0.8 ;\n",
    "];"
   ]
  },
  {
   "cell_type": "markdown",
   "id": "c062d7a4-9ecb-4cb6-ad3c-00d8269e9c08",
   "metadata": {},
   "source": [
    "Populate the `emission_probability_dict`, which holds the [categorical distribution](https://en.wikipedia.org/wiki/Categorical_distribution) modeling the emission probability for each hidden state $s\\in\\mathcal{S}$:"
   ]
  },
  {
   "cell_type": "code",
   "execution_count": 36,
   "id": "2624ec44-a5df-4a0e-9c65-c04268444736",
   "metadata": {
    "tags": []
   },
   "outputs": [],
   "source": [
    "emission_probability_dict = Dict{Int,Categorical}()\n",
    "for i ∈ 1:number_of_hidden_states\n",
    "    emission_probability_dict[i] = Categorical(EPM[i,:])\n",
    "end"
   ]
  },
  {
   "cell_type": "markdown",
   "id": "077be025-c9c5-44ca-83cf-e7d90868267e",
   "metadata": {},
   "source": [
    "### 3. Simulate the output from the HMM"
   ]
  },
  {
   "cell_type": "code",
   "execution_count": 33,
   "id": "417b5fcc-fd6c-4a81-b6d3-b68d6d412ae2",
   "metadata": {
    "tags": []
   },
   "outputs": [],
   "source": [
    "simulation_dict = Dict{Int,Int}()\n",
    "for i ∈ 1:number_of_simulation_steps\n",
    "    \n",
    "    # which state is the mc in?\n",
    "    hidden_state = rand(d);\n",
    "    \n",
    "    # grab the emission probability model from the emission_probability_dict -\n",
    "    epd = emission_probability_dict[hidden_state];\n",
    "    \n",
    "    # role for a random ouput -\n",
    "    simulation_dict[i] = rand(epd);\n",
    "end"
   ]
  },
  {
   "cell_type": "code",
   "execution_count": 37,
   "id": "ebce90f3-1a46-40bd-bee1-edebc19a23b0",
   "metadata": {
    "tags": []
   },
   "outputs": [
    {
     "data": {
      "text/plain": [
       "Dict{Int64, Int64} with 480 entries:\n",
       "  56  => 3\n",
       "  35  => 1\n",
       "  425 => 1\n",
       "  429 => 1\n",
       "  60  => 2\n",
       "  220 => 1\n",
       "  308 => 1\n",
       "  67  => 1\n",
       "  215 => 1\n",
       "  73  => 1\n",
       "  319 => 3\n",
       "  251 => 1\n",
       "  115 => 1\n",
       "  112 => 1\n",
       "  185 => 3\n",
       "  348 => 1\n",
       "  420 => 1\n",
       "  404 => 1\n",
       "  365 => 1\n",
       "  417 => 1\n",
       "  333 => 1\n",
       "  86  => 1\n",
       "  168 => 1\n",
       "  364 => 1\n",
       "  207 => 2\n",
       "  ⋮   => ⋮"
      ]
     },
     "execution_count": 37,
     "metadata": {},
     "output_type": "execute_result"
    }
   ],
   "source": [
    "simulation_dict"
   ]
  },
  {
   "cell_type": "code",
   "execution_count": 40,
   "id": "fe9a418b-0912-42b4-a471-ccdc1f169aef",
   "metadata": {},
   "outputs": [
    {
     "name": "stdout",
     "output_type": "stream",
     "text": [
      "We observe 2 with probability = 0.10625\n"
     ]
    }
   ],
   "source": [
    "test_value = 2;\n",
    "N₊ = 0;\n",
    "for (key,value) ∈ simulation_dict\n",
    "    if (value == test_value)\n",
    "        N₊ += 1\n",
    "    end\n",
    "end\n",
    "probability = N₊/number_of_simulation_steps;\n",
    "println(\"We observe $(test_value) with probability = $(probability)\")"
   ]
  },
  {
   "cell_type": "code",
   "execution_count": null,
   "id": "73c0a1af-964f-4f14-9f46-b95ff0c8e793",
   "metadata": {},
   "outputs": [],
   "source": []
  }
 ],
 "metadata": {
  "kernelspec": {
   "display_name": "Julia 1.9.3",
   "language": "julia",
   "name": "julia-1.9"
  },
  "language_info": {
   "file_extension": ".jl",
   "mimetype": "application/julia",
   "name": "julia",
   "version": "1.9.3"
  }
 },
 "nbformat": 4,
 "nbformat_minor": 5
}
