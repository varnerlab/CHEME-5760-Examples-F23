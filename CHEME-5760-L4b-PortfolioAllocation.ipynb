{
 "cells": [
  {
   "cell_type": "markdown",
   "id": "1d4ead65-0285-41bf-92be-c548e1f07e77",
   "metadata": {},
   "source": [
    "## A Gentle Introduction to the Markowitz Portfolio Allocation Promel"
   ]
  }
 ],
 "metadata": {
  "kernelspec": {
   "display_name": "Julia 1.9.3",
   "language": "julia",
   "name": "julia-1.9"
  },
  "language_info": {
   "file_extension": ".jl",
   "mimetype": "application/julia",
   "name": "julia",
   "version": "1.9.3"
  }
 },
 "nbformat": 4,
 "nbformat_minor": 5
}
