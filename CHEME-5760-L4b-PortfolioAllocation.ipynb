{
 "cells": [
  {
   "cell_type": "markdown",
   "id": "1d4ead65-0285-41bf-92be-c548e1f07e77",
   "metadata": {},
   "source": [
    "## Introduction to the Markowitz Portfolio Allocation Problem"
   ]
  },
  {
   "cell_type": "code",
   "execution_count": null,
   "id": "6cff487f-9cc6-4d87-a1e9-7361e6df68d8",
   "metadata": {},
   "outputs": [],
   "source": []
  }
 ],
 "metadata": {
  "kernelspec": {
   "display_name": "Julia 1.9.3",
   "language": "julia",
   "name": "julia-1.9"
  },
  "language_info": {
   "file_extension": ".jl",
   "mimetype": "application/julia",
   "name": "julia",
   "version": "1.9.3"
  }
 },
 "nbformat": 4,
 "nbformat_minor": 5
}
