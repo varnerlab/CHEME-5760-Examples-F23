{
 "cells": [
  {
   "cell_type": "markdown",
   "id": "e8293ef0-f3a2-41e3-b6b6-1d98291f3e17",
   "metadata": {},
   "source": [
    "# Example: Binary Discrete Choice Models as a Neural Network\n",
    "For an individual, both observable and unobservable features can influence decisions. Utility functions for individuals which consider both observable and unobservable factors take the form:\n",
    "\n",
    "\\begin{equation}\n",
    "U_{ij} = V_{ij} + \\epsilon_{ij}\n",
    "\\end{equation}\n",
    "\n",
    "The term $U_{ij}$ is the utility of alternative $j$ for individual $i$, $V_{ij}$ is the _deterministic_ component of the utility, \n",
    "i.e., the utility associated with the observable features, and $\\epsilon_{ij}$ is the random component of the utility (error model). \n",
    "\n",
    "### Logit choice model\n",
    "One of the most common choice models is the `Logit` model. Assume the random component of the utility $U_{ij}$ is _independently and identically distributed_ (IID) across $J$ alternatives, and is [Gumbel distributed](https://en.wikipedia.org/wiki/Gumbel_distribution), \n",
    "then the probability that individual $i$ chooses alternative $j$ is given by the [logit choice model](https://en.wikipedia.org/wiki/Discrete_choice):\n",
    "\n",
    "\\begin{equation}\n",
    "P_{ij} = \\frac{e^{V_{ij}/\\mu}}{\\displaystyle \\sum_{k=1}^{J}e^{V_{ik}/\\mu}}\\qquad{j=1,\\dotsc,J}\n",
    "\\end{equation}\n",
    "\n",
    "where $P_{ij}$ is the probability that individual $i$ chooses alternative $j$, $V_{ij}$ is the deterministic component of the utility, and $\\mu$ is a scale parameter.\n",
    "\n",
    "### Learning Objectives\n",
    "In this example, our goal is to calculate the probability of a binary choice between purchasing a Tesla Model S or a Honda Odyssey using an `Artificial Neural Network (ANN).` We will use the `Logit` choice model to generate training data, which we'll use to train an `ANN.` \n",
    "\n",
    "\n",
    "- Introducing students to Random Utility Models (RUMs) and the `Logit` discrete choice model and how we can use these models in our effort to train a discrete choice `ANN.`\n",
    "- We'll use the [Flux.jl](https://fluxml.ai) machine learning package (loaded by the `Include.jl` file) to build the neural network models and estimate the unknown parameter vector $\\theta$."
   ]
  },
  {
   "cell_type": "markdown",
   "id": "8c749cad-8469-4e12-9184-19db9298141d",
   "metadata": {},
   "source": [
    "## Setup"
   ]
  },
  {
   "cell_type": "code",
   "execution_count": 1,
   "id": "d7abcdea-5025-408e-a67d-d11af5167f1b",
   "metadata": {
    "tags": []
   },
   "outputs": [
    {
     "name": "stderr",
     "output_type": "stream",
     "text": [
      "\u001b[32m\u001b[1m    Updating\u001b[22m\u001b[39m git-repo `https://github.com/varnerlab/VLDecisionsPackage.jl.git`\n",
      "\u001b[32m\u001b[1m   Resolving\u001b[22m\u001b[39m package versions...\n",
      "\u001b[32m\u001b[1m  No Changes\u001b[22m\u001b[39m to `~/Desktop/julia_work/CHEME-5760-Examples-F23/Project.toml`\n",
      "\u001b[32m\u001b[1m  No Changes\u001b[22m\u001b[39m to `~/Desktop/julia_work/CHEME-5760-Examples-F23/Manifest.toml`\n",
      "\u001b[32m\u001b[1m  Activating\u001b[22m\u001b[39m project at `~/Desktop/julia_work/CHEME-5760-Examples-F23`\n",
      "\u001b[32m\u001b[1m    Updating\u001b[22m\u001b[39m registry at `~/.julia/registries/General.toml`\n",
      "\u001b[32m\u001b[1m    Updating\u001b[22m\u001b[39m git-repo `https://github.com/varnerlab/VLDecisionsPackage.jl.git`\n",
      "\u001b[32m\u001b[1m  No Changes\u001b[22m\u001b[39m to `~/Desktop/julia_work/CHEME-5760-Examples-F23/Project.toml`\n",
      "\u001b[32m\u001b[1m  No Changes\u001b[22m\u001b[39m to `~/Desktop/julia_work/CHEME-5760-Examples-F23/Manifest.toml`\n"
     ]
    }
   ],
   "source": [
    "include(\"Include.jl\");"
   ]
  },
  {
   "cell_type": "markdown",
   "id": "bd962cb1-1f6a-4861-88cc-936c0397b67c",
   "metadata": {},
   "source": [
    "## Data\n",
    "The dataset we explore will be random perturbations of the Tesla versus Odyssey survey presented in class (in example `L2b`). \n",
    "* We load this dataset into the notebook using the `HondaTeslaDataSet()` function. This function stores the data in the `dataset` variable, a [DataFrame type](https://dataframes.juliadata.org/stable/).\n",
    "* We'll then randomly perturb the values of the dataset to generate a `training` collection, and then train the model on this dataset."
   ]
  },
  {
   "cell_type": "code",
   "execution_count": 2,
   "id": "66366dd8-20ba-4e68-87d3-da0e0964b2f6",
   "metadata": {
    "tags": []
   },
   "outputs": [
    {
     "data": {
      "text/html": [
       "<div><div style = \"float: left;\"><span>7×4 DataFrame</span></div><div style = \"clear: both;\"></div></div><div class = \"data-frame\" style = \"overflow-x: scroll;\"><table class = \"data-frame\" style = \"margin-bottom: 6px;\"><thead><tr class = \"header\"><th class = \"rowNumber\" style = \"font-weight: bold; text-align: right;\">Row</th><th style = \"text-align: left;\">feature</th><th style = \"text-align: left;\">exponent</th><th style = \"text-align: left;\">Tesla</th><th style = \"text-align: left;\">Honda</th></tr><tr class = \"subheader headerLastRow\"><th class = \"rowNumber\" style = \"font-weight: bold; text-align: right;\"></th><th title = \"String15\" style = \"text-align: left;\">String15</th><th title = \"Float64\" style = \"text-align: left;\">Float64</th><th title = \"Float64\" style = \"text-align: left;\">Float64</th><th title = \"Float64\" style = \"text-align: left;\">Float64</th></tr></thead><tbody><tr><td class = \"rowNumber\" style = \"font-weight: bold; text-align: right;\">1</td><td style = \"text-align: left;\">sustainability</td><td style = \"text-align: right;\">0.2</td><td style = \"text-align: right;\">5.0</td><td style = \"text-align: right;\">3.0</td></tr><tr><td class = \"rowNumber\" style = \"font-weight: bold; text-align: right;\">2</td><td style = \"text-align: left;\">affordability</td><td style = \"text-align: right;\">0.1</td><td style = \"text-align: right;\">2.0</td><td style = \"text-align: right;\">4.0</td></tr><tr><td class = \"rowNumber\" style = \"font-weight: bold; text-align: right;\">3</td><td style = \"text-align: left;\">styling</td><td style = \"text-align: right;\">0.05</td><td style = \"text-align: right;\">5.0</td><td style = \"text-align: right;\">2.0</td></tr><tr><td class = \"rowNumber\" style = \"font-weight: bold; text-align: right;\">4</td><td style = \"text-align: left;\">usefulness</td><td style = \"text-align: right;\">0.3</td><td style = \"text-align: right;\">2.0</td><td style = \"text-align: right;\">5.0</td></tr><tr><td class = \"rowNumber\" style = \"font-weight: bold; text-align: right;\">5</td><td style = \"text-align: left;\">costownership</td><td style = \"text-align: right;\">0.1</td><td style = \"text-align: right;\">4.0</td><td style = \"text-align: right;\">2.0</td></tr><tr><td class = \"rowNumber\" style = \"font-weight: bold; text-align: right;\">6</td><td style = \"text-align: left;\">performance</td><td style = \"text-align: right;\">0.05</td><td style = \"text-align: right;\">5.0</td><td style = \"text-align: right;\">1.0</td></tr><tr><td class = \"rowNumber\" style = \"font-weight: bold; text-align: right;\">7</td><td style = \"text-align: left;\">safety</td><td style = \"text-align: right;\">0.2</td><td style = \"text-align: right;\">5.0</td><td style = \"text-align: right;\">5.0</td></tr></tbody></table></div>"
      ],
      "text/latex": [
       "\\begin{tabular}{r|cccc}\n",
       "\t& feature & exponent & Tesla & Honda\\\\\n",
       "\t\\hline\n",
       "\t& String15 & Float64 & Float64 & Float64\\\\\n",
       "\t\\hline\n",
       "\t1 & sustainability & 0.2 & 5.0 & 3.0 \\\\\n",
       "\t2 & affordability & 0.1 & 2.0 & 4.0 \\\\\n",
       "\t3 & styling & 0.05 & 5.0 & 2.0 \\\\\n",
       "\t4 & usefulness & 0.3 & 2.0 & 5.0 \\\\\n",
       "\t5 & costownership & 0.1 & 4.0 & 2.0 \\\\\n",
       "\t6 & performance & 0.05 & 5.0 & 1.0 \\\\\n",
       "\t7 & safety & 0.2 & 5.0 & 5.0 \\\\\n",
       "\\end{tabular}\n"
      ],
      "text/plain": [
       "\u001b[1m7×4 DataFrame\u001b[0m\n",
       "\u001b[1m Row \u001b[0m│\u001b[1m feature        \u001b[0m\u001b[1m exponent \u001b[0m\u001b[1m Tesla   \u001b[0m\u001b[1m Honda   \u001b[0m\n",
       "     │\u001b[90m String15       \u001b[0m\u001b[90m Float64  \u001b[0m\u001b[90m Float64 \u001b[0m\u001b[90m Float64 \u001b[0m\n",
       "─────┼────────────────────────────────────────────\n",
       "   1 │ sustainability      0.2       5.0      3.0\n",
       "   2 │ affordability       0.1       2.0      4.0\n",
       "   3 │ styling             0.05      5.0      2.0\n",
       "   4 │ usefulness          0.3       2.0      5.0\n",
       "   5 │ costownership       0.1       4.0      2.0\n",
       "   6 │ performance         0.05      5.0      1.0\n",
       "   7 │ safety              0.2       5.0      5.0"
      ]
     },
     "execution_count": 2,
     "metadata": {},
     "output_type": "execute_result"
    }
   ],
   "source": [
    "dataset = HondaTeslaDataSet()"
   ]
  },
  {
   "cell_type": "markdown",
   "id": "780f0ba7-8ced-47dd-b63f-8c7330c2fd4e",
   "metadata": {},
   "source": [
    "For the exponents, we'll use a [Dirichlet distribution](https://en.wikipedia.org/wiki/Dirichlet_distribution) which is exported by the [Distributions.jl](https://github.com/JuliaStats/Distributions.jl) package:"
   ]
  },
  {
   "cell_type": "code",
   "execution_count": 3,
   "id": "8cd2995d-a784-45f4-8ac2-73fe63d26c2b",
   "metadata": {
    "tags": []
   },
   "outputs": [],
   "source": [
    "exponent_distribution = Dirichlet(dataset[!,:exponent]);"
   ]
  },
  {
   "cell_type": "code",
   "execution_count": 4,
   "id": "754b0ec1-1d5e-4d51-8145-ea2595b56e57",
   "metadata": {
    "tags": []
   },
   "outputs": [],
   "source": [
    "number_of_traning_samples = 1000\n",
    "number_of_features = 7\n",
    "training_example_dictionary = Dict{Int64, DataFrame}();\n",
    "for i ∈ 1:number_of_traning_samples\n",
    "    \n",
    "    # initialize a blank DataFrame -\n",
    "    df = DataFrame();\n",
    "    \n",
    "    # generate an exponent vector -\n",
    "    α = rand(exponent_distribution) .|> x-> round(x, digits=4)\n",
    "    tesla_scores = rand(1.0:5.0,number_of_features);\n",
    "    honda_scores = rand(1.0:5.0,number_of_features);\n",
    "    \n",
    "    for j ∈ 1:number_of_features\n",
    "        row_data = (\n",
    "            feature = dataset[j,:feature],\n",
    "            exponent = α[j],\n",
    "            Tesla = tesla_scores[j],\n",
    "            Honda = honda_scores[j]\n",
    "        );\n",
    "        push!(df, row_data);\n",
    "    end\n",
    "    \n",
    "    # grab the traning example -\n",
    "    training_example_dictionary[i] = df;\n",
    "end"
   ]
  },
  {
   "cell_type": "code",
   "execution_count": 5,
   "id": "9c1f25fb-2aca-4dfc-aa8f-280cf1e643d1",
   "metadata": {
    "tags": []
   },
   "outputs": [
    {
     "data": {
      "text/html": [
       "<div><div style = \"float: left;\"><span>7×4 DataFrame</span></div><div style = \"clear: both;\"></div></div><div class = \"data-frame\" style = \"overflow-x: scroll;\"><table class = \"data-frame\" style = \"margin-bottom: 6px;\"><thead><tr class = \"header\"><th class = \"rowNumber\" style = \"font-weight: bold; text-align: right;\">Row</th><th style = \"text-align: left;\">feature</th><th style = \"text-align: left;\">exponent</th><th style = \"text-align: left;\">Tesla</th><th style = \"text-align: left;\">Honda</th></tr><tr class = \"subheader headerLastRow\"><th class = \"rowNumber\" style = \"font-weight: bold; text-align: right;\"></th><th title = \"String15\" style = \"text-align: left;\">String15</th><th title = \"Float64\" style = \"text-align: left;\">Float64</th><th title = \"Float64\" style = \"text-align: left;\">Float64</th><th title = \"Float64\" style = \"text-align: left;\">Float64</th></tr></thead><tbody><tr><td class = \"rowNumber\" style = \"font-weight: bold; text-align: right;\">1</td><td style = \"text-align: left;\">sustainability</td><td style = \"text-align: right;\">0.0036</td><td style = \"text-align: right;\">5.0</td><td style = \"text-align: right;\">1.0</td></tr><tr><td class = \"rowNumber\" style = \"font-weight: bold; text-align: right;\">2</td><td style = \"text-align: left;\">affordability</td><td style = \"text-align: right;\">0.4881</td><td style = \"text-align: right;\">5.0</td><td style = \"text-align: right;\">5.0</td></tr><tr><td class = \"rowNumber\" style = \"font-weight: bold; text-align: right;\">3</td><td style = \"text-align: left;\">styling</td><td style = \"text-align: right;\">0.0135</td><td style = \"text-align: right;\">4.0</td><td style = \"text-align: right;\">4.0</td></tr><tr><td class = \"rowNumber\" style = \"font-weight: bold; text-align: right;\">4</td><td style = \"text-align: left;\">usefulness</td><td style = \"text-align: right;\">0.0013</td><td style = \"text-align: right;\">5.0</td><td style = \"text-align: right;\">4.0</td></tr><tr><td class = \"rowNumber\" style = \"font-weight: bold; text-align: right;\">5</td><td style = \"text-align: left;\">costownership</td><td style = \"text-align: right;\">0.0072</td><td style = \"text-align: right;\">5.0</td><td style = \"text-align: right;\">1.0</td></tr><tr><td class = \"rowNumber\" style = \"font-weight: bold; text-align: right;\">6</td><td style = \"text-align: left;\">performance</td><td style = \"text-align: right;\">0.0001</td><td style = \"text-align: right;\">4.0</td><td style = \"text-align: right;\">1.0</td></tr><tr><td class = \"rowNumber\" style = \"font-weight: bold; text-align: right;\">7</td><td style = \"text-align: left;\">safety</td><td style = \"text-align: right;\">0.4861</td><td style = \"text-align: right;\">2.0</td><td style = \"text-align: right;\">4.0</td></tr></tbody></table></div>"
      ],
      "text/latex": [
       "\\begin{tabular}{r|cccc}\n",
       "\t& feature & exponent & Tesla & Honda\\\\\n",
       "\t\\hline\n",
       "\t& String15 & Float64 & Float64 & Float64\\\\\n",
       "\t\\hline\n",
       "\t1 & sustainability & 0.0036 & 5.0 & 1.0 \\\\\n",
       "\t2 & affordability & 0.4881 & 5.0 & 5.0 \\\\\n",
       "\t3 & styling & 0.0135 & 4.0 & 4.0 \\\\\n",
       "\t4 & usefulness & 0.0013 & 5.0 & 4.0 \\\\\n",
       "\t5 & costownership & 0.0072 & 5.0 & 1.0 \\\\\n",
       "\t6 & performance & 0.0001 & 4.0 & 1.0 \\\\\n",
       "\t7 & safety & 0.4861 & 2.0 & 4.0 \\\\\n",
       "\\end{tabular}\n"
      ],
      "text/plain": [
       "\u001b[1m7×4 DataFrame\u001b[0m\n",
       "\u001b[1m Row \u001b[0m│\u001b[1m feature        \u001b[0m\u001b[1m exponent \u001b[0m\u001b[1m Tesla   \u001b[0m\u001b[1m Honda   \u001b[0m\n",
       "     │\u001b[90m String15       \u001b[0m\u001b[90m Float64  \u001b[0m\u001b[90m Float64 \u001b[0m\u001b[90m Float64 \u001b[0m\n",
       "─────┼────────────────────────────────────────────\n",
       "   1 │ sustainability    0.0036      5.0      1.0\n",
       "   2 │ affordability     0.4881      5.0      5.0\n",
       "   3 │ styling           0.0135      4.0      4.0\n",
       "   4 │ usefulness        0.0013      5.0      4.0\n",
       "   5 │ costownership     0.0072      5.0      1.0\n",
       "   6 │ performance       0.0001      4.0      1.0\n",
       "   7 │ safety            0.4861      2.0      4.0"
      ]
     },
     "execution_count": 5,
     "metadata": {},
     "output_type": "execute_result"
    }
   ],
   "source": [
    "training_example_dictionary[600]"
   ]
  },
  {
   "cell_type": "code",
   "execution_count": 6,
   "id": "edacbaa3-68a7-41d1-b7ad-ab61fdc2da39",
   "metadata": {
    "tags": []
   },
   "outputs": [],
   "source": [
    "P_training_array = Array{Float64,1}();\n",
    "for i ∈ 1:number_of_traning_samples\n",
    "    dataset = training_example_dictionary[i];\n",
    "    \n",
    "    model = build(VLLogTransformedCobbDouglasUtilityFunction, (\n",
    "        α = dataset[:,:exponent], b = ℯ)\n",
    "    );\n",
    "    \n",
    "    V = zeros(2);\n",
    "    V[1] = model(dataset[:,:Tesla]);\n",
    "    V[2] = model(dataset[:,:Honda]);\n",
    "    \n",
    "    # compute P -\n",
    "    p = exp(V[1])/(exp(V[1])+exp(V[2]))\n",
    "    \n",
    "    # capture -\n",
    "    push!(P_training_array, p)\n",
    "end"
   ]
  },
  {
   "cell_type": "code",
   "execution_count": 7,
   "id": "afaa7589-1f4e-4a70-95c5-08236574f4b8",
   "metadata": {
    "tags": []
   },
   "outputs": [
    {
     "data": {
      "text/html": [
       "<div><div style = \"float: left;\"><span>7×4 DataFrame</span></div><div style = \"clear: both;\"></div></div><div class = \"data-frame\" style = \"overflow-x: scroll;\"><table class = \"data-frame\" style = \"margin-bottom: 6px;\"><thead><tr class = \"header\"><th class = \"rowNumber\" style = \"font-weight: bold; text-align: right;\">Row</th><th style = \"text-align: left;\">feature</th><th style = \"text-align: left;\">exponent</th><th style = \"text-align: left;\">Tesla</th><th style = \"text-align: left;\">Honda</th></tr><tr class = \"subheader headerLastRow\"><th class = \"rowNumber\" style = \"font-weight: bold; text-align: right;\"></th><th title = \"String15\" style = \"text-align: left;\">String15</th><th title = \"Float64\" style = \"text-align: left;\">Float64</th><th title = \"Float64\" style = \"text-align: left;\">Float64</th><th title = \"Float64\" style = \"text-align: left;\">Float64</th></tr></thead><tbody><tr><td class = \"rowNumber\" style = \"font-weight: bold; text-align: right;\">1</td><td style = \"text-align: left;\">sustainability</td><td style = \"text-align: right;\">0.0036</td><td style = \"text-align: right;\">5.0</td><td style = \"text-align: right;\">1.0</td></tr><tr><td class = \"rowNumber\" style = \"font-weight: bold; text-align: right;\">2</td><td style = \"text-align: left;\">affordability</td><td style = \"text-align: right;\">0.4881</td><td style = \"text-align: right;\">5.0</td><td style = \"text-align: right;\">5.0</td></tr><tr><td class = \"rowNumber\" style = \"font-weight: bold; text-align: right;\">3</td><td style = \"text-align: left;\">styling</td><td style = \"text-align: right;\">0.0135</td><td style = \"text-align: right;\">4.0</td><td style = \"text-align: right;\">4.0</td></tr><tr><td class = \"rowNumber\" style = \"font-weight: bold; text-align: right;\">4</td><td style = \"text-align: left;\">usefulness</td><td style = \"text-align: right;\">0.0013</td><td style = \"text-align: right;\">5.0</td><td style = \"text-align: right;\">4.0</td></tr><tr><td class = \"rowNumber\" style = \"font-weight: bold; text-align: right;\">5</td><td style = \"text-align: left;\">costownership</td><td style = \"text-align: right;\">0.0072</td><td style = \"text-align: right;\">5.0</td><td style = \"text-align: right;\">1.0</td></tr><tr><td class = \"rowNumber\" style = \"font-weight: bold; text-align: right;\">6</td><td style = \"text-align: left;\">performance</td><td style = \"text-align: right;\">0.0001</td><td style = \"text-align: right;\">4.0</td><td style = \"text-align: right;\">1.0</td></tr><tr><td class = \"rowNumber\" style = \"font-weight: bold; text-align: right;\">7</td><td style = \"text-align: left;\">safety</td><td style = \"text-align: right;\">0.4861</td><td style = \"text-align: right;\">2.0</td><td style = \"text-align: right;\">4.0</td></tr></tbody></table></div>"
      ],
      "text/latex": [
       "\\begin{tabular}{r|cccc}\n",
       "\t& feature & exponent & Tesla & Honda\\\\\n",
       "\t\\hline\n",
       "\t& String15 & Float64 & Float64 & Float64\\\\\n",
       "\t\\hline\n",
       "\t1 & sustainability & 0.0036 & 5.0 & 1.0 \\\\\n",
       "\t2 & affordability & 0.4881 & 5.0 & 5.0 \\\\\n",
       "\t3 & styling & 0.0135 & 4.0 & 4.0 \\\\\n",
       "\t4 & usefulness & 0.0013 & 5.0 & 4.0 \\\\\n",
       "\t5 & costownership & 0.0072 & 5.0 & 1.0 \\\\\n",
       "\t6 & performance & 0.0001 & 4.0 & 1.0 \\\\\n",
       "\t7 & safety & 0.4861 & 2.0 & 4.0 \\\\\n",
       "\\end{tabular}\n"
      ],
      "text/plain": [
       "\u001b[1m7×4 DataFrame\u001b[0m\n",
       "\u001b[1m Row \u001b[0m│\u001b[1m feature        \u001b[0m\u001b[1m exponent \u001b[0m\u001b[1m Tesla   \u001b[0m\u001b[1m Honda   \u001b[0m\n",
       "     │\u001b[90m String15       \u001b[0m\u001b[90m Float64  \u001b[0m\u001b[90m Float64 \u001b[0m\u001b[90m Float64 \u001b[0m\n",
       "─────┼────────────────────────────────────────────\n",
       "   1 │ sustainability    0.0036      5.0      1.0\n",
       "   2 │ affordability     0.4881      5.0      5.0\n",
       "   3 │ styling           0.0135      4.0      4.0\n",
       "   4 │ usefulness        0.0013      5.0      4.0\n",
       "   5 │ costownership     0.0072      5.0      1.0\n",
       "   6 │ performance       0.0001      4.0      1.0\n",
       "   7 │ safety            0.4861      2.0      4.0"
      ]
     },
     "execution_count": 7,
     "metadata": {},
     "output_type": "execute_result"
    }
   ],
   "source": [
    "training_example_dictionary[600]"
   ]
  },
  {
   "cell_type": "code",
   "execution_count": 8,
   "id": "ceefd9bd-67c4-4ae9-8fb1-ec79e04da141",
   "metadata": {
    "tags": []
   },
   "outputs": [
    {
     "data": {
      "text/plain": [
       "0.42088822712511653"
      ]
     },
     "execution_count": 8,
     "metadata": {},
     "output_type": "execute_result"
    }
   ],
   "source": [
    "P_training_array[600]"
   ]
  },
  {
   "cell_type": "markdown",
   "id": "96f389aa-45e0-494f-81d6-0b27fd86a212",
   "metadata": {},
   "source": [
    "## Build/Train the ANN decision agent\n",
    "Now that we have `training data`, we can package this data into the proper format that is required by the [Flux.jl](https://fluxml.ai) machine learning package (loaded by the `Include.jl` file):"
   ]
  },
  {
   "cell_type": "code",
   "execution_count": 9,
   "id": "95151f1b-3e04-4d16-971c-3f53cc74421c",
   "metadata": {
    "tags": []
   },
   "outputs": [],
   "source": [
    "# initialize storage for labeled data for training -\n",
    "training_data_vector = Vector{Tuple{Vector{Float32},Float32}}();\n",
    "for i ∈ 1:number_of_traning_samples\n",
    "    \n",
    "    # grab the dataset\n",
    "    dataset = training_example_dictionary[i];\n",
    "    \n",
    "    # pull the numerical data out, and convert to Float32\n",
    "    input_data_vector = dataset[!,[:exponent,:Tesla,:Honda]] |> Matrix |> x-> reshape(x,21) .|> x->convert(Float32,x) \n",
    "    y = P_training_array[i] |> x-> convert(Float32,x); # output\n",
    "    \n",
    "    # package -\n",
    "    data_tuple = (\n",
    "        input_data_vector, y\n",
    "    );\n",
    "    push!(training_data_vector, data_tuple);\n",
    "end"
   ]
  },
  {
   "cell_type": "code",
   "execution_count": 10,
   "id": "1defe6ed-30d6-440d-87cf-82466bca422d",
   "metadata": {
    "tags": []
   },
   "outputs": [],
   "source": [
    "# build the model -\n",
    "input_dimension = number_of_features*3;\n",
    "#FFN_binary_choice = Chain(Dense(input_dimension, 10, σ), Dense(10, 1, σ));\n",
    "FFN_binary_choice = Chain(Dense(input_dimension, 10, σ), Dense(10, 8, σ), Dense(8, 2, σ), Dense(2, 1, σ));"
   ]
  },
  {
   "cell_type": "markdown",
   "id": "955f4336-2503-4b19-8fb9-e75ace8a4d0f",
   "metadata": {},
   "source": [
    "We'll use a loss function $L(\\theta)$ of the form:\n",
    "\n",
    "$$\n",
    "L\\left(\\theta\\right) = \\frac{1}{n}\\sum_{i\\in\\mathcal{D}}(\\hat{y}_{i}\\left(\\theta\\right) - y_{i})^2\n",
    "$$\n",
    "\n",
    "where $\\hat{y}_{i}\\left(\\theta\\right)$ denotes the estimated output, $y_{i}$ denotes the measured output, and $n$ denotes the number of training examples supplied to the network:"
   ]
  },
  {
   "cell_type": "code",
   "execution_count": 11,
   "id": "94192b86-7673-4120-8b4a-98faf0808446",
   "metadata": {
    "tags": []
   },
   "outputs": [],
   "source": [
    "# setup a loss function -\n",
    "loss(x, y) = Flux.Losses.mse(FFN_binary_choice(x), y; agg = mean);"
   ]
  },
  {
   "cell_type": "code",
   "execution_count": 12,
   "id": "f49c0ad4-0e25-4ec2-b5b9-deaa45274242",
   "metadata": {
    "tags": []
   },
   "outputs": [
    {
     "data": {
      "text/plain": [
       "Params([Float32[0.37141433 0.18259825 … 0.023898233 0.39544383; -0.02074041 0.42798302 … 0.367587 0.12993084; … ; 0.11345285 0.40677235 … -0.03570399 -0.37187222; -0.10114692 -0.11433351 … 0.17433405 0.124350466], Float32[0.0, 0.0, 0.0, 0.0, 0.0, 0.0, 0.0, 0.0, 0.0, 0.0], Float32[0.38386762 -0.04346634 … -0.34651995 -0.28798708; -0.39293945 -0.55088156 … -0.43565732 0.2458203; … ; 0.20226407 0.13953368 … 0.32450053 -0.1600008; -0.44402814 -0.11905761 … -0.4961206 0.3090702], Float32[0.0, 0.0, 0.0, 0.0, 0.0, 0.0, 0.0, 0.0], Float32[0.63689643 0.09243866 … 0.397788 -0.46923953; 0.59172684 -0.43352294 … 0.080537535 0.037623666], Float32[0.0, 0.0], Float32[-0.96165955 0.5270939], Float32[0.0]])"
      ]
     },
     "execution_count": 12,
     "metadata": {},
     "output_type": "execute_result"
    }
   ],
   "source": [
    "# pointer to params -\n",
    "θ = Flux.params(FFN_binary_choice)"
   ]
  },
  {
   "cell_type": "markdown",
   "id": "092a9a75-7a6c-4960-a39a-eb2d7d1f0e35",
   "metadata": {},
   "source": [
    "Next, let's specify the optimization approach the we'll use to estimate the unknown model parameters $\\theta$. In particular, we'll use the [Momentum gradient descent algorithm](https://optimization.cbe.cornell.edu/index.php?title=Momentum): \n",
    "> Momentum is an extension to the gradient descent optimization algorithm that allows the search to build inertia in a direction in the search space and overcome the oscillations of noisy gradients and coast across flat spots of the search space"
   ]
  },
  {
   "cell_type": "code",
   "execution_count": 13,
   "id": "817afd79-0727-4de5-a2e9-33faa451873d",
   "metadata": {
    "tags": []
   },
   "outputs": [],
   "source": [
    "λ = 0.10;  # learning rate\n",
    "β = 0.95; # momentum parameter\n",
    "opt = Momentum(λ, β);"
   ]
  },
  {
   "cell_type": "markdown",
   "id": "e981d804-cdcc-4681-b60c-562445c5a1d7",
   "metadata": {},
   "source": [
    "We'll specify the number of times we process the data (called an `epoch`) in the `number_of_epochs` variable. To run the gradient descent estimation algorithm, we'll call the `train!(...)` function exported by the [Flux.jl](https://fluxml.ai) package:"
   ]
  },
  {
   "cell_type": "code",
   "execution_count": 14,
   "id": "f5b8a3ae-6b1c-4f18-bd53-7cc8c2ef3d45",
   "metadata": {
    "tags": []
   },
   "outputs": [],
   "source": [
    "number_of_epochs = 1000;\n",
    "for i = 1:number_of_epochs\n",
    "    Flux.train!(loss, θ, training_data_vector, opt)\n",
    "end"
   ]
  },
  {
   "cell_type": "markdown",
   "id": "3c65ffe7-d74e-4450-96ff-060cd7f6bec4",
   "metadata": {
    "tags": []
   },
   "source": [
    "### What is the correct classification rate?\n",
    "Now that we have the updated model parameter vector $\\theta$, we can run a forward prediction of the `choice model` by calling our model with an input vector. Let's calculate the `training choice` and the `prediction choice`, and compute the frequency of a correct prediction:"
   ]
  },
  {
   "cell_type": "code",
   "execution_count": 15,
   "id": "1ed8e860-5f3b-4ec8-84dd-17ee04deed95",
   "metadata": {
    "tags": []
   },
   "outputs": [],
   "source": [
    "score_array = Array{Int,1}();\n",
    "for i ∈ 1:number_of_traning_samples\n",
    "    x = training_data_vector[i][1];\n",
    "    y = training_data_vector[i][2];\n",
    "    ŷ = FFN_binary_choice(x)[1]\n",
    "    \n",
    "    correct_choice = y > 0.50 ? 'T' : 'H'\n",
    "    predicted_choice = ŷ > 0.50 ? 'T' : 'H'\n",
    "    if (correct_choice == predicted_choice)\n",
    "        push!(score_array,1)\n",
    "    else\n",
    "        push!(score_array,0)\n",
    "    end \n",
    "end"
   ]
  },
  {
   "cell_type": "code",
   "execution_count": 16,
   "id": "8c4097a1-435a-4c37-be5b-c06e638f8ebf",
   "metadata": {
    "tags": []
   },
   "outputs": [
    {
     "data": {
      "text/plain": [
       "0.807"
      ]
     },
     "execution_count": 16,
     "metadata": {},
     "output_type": "execute_result"
    }
   ],
   "source": [
    "freq_correct = findall(x->x==1,score_array) |> length |> x-> x/number_of_traning_samples"
   ]
  }
 ],
 "metadata": {
  "kernelspec": {
   "display_name": "Julia 1.9.3",
   "language": "julia",
   "name": "julia-1.9"
  },
  "language_info": {
   "file_extension": ".jl",
   "mimetype": "application/julia",
   "name": "julia",
   "version": "1.9.3"
  }
 },
 "nbformat": 4,
 "nbformat_minor": 5
}
