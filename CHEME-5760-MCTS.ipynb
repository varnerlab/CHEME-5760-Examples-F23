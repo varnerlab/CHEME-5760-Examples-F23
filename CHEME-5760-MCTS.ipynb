{
 "cells": [
  {
   "cell_type": "markdown",
   "id": "68ec39b5-a9ce-4a7e-9cde-b89f6daa74cb",
   "metadata": {},
   "source": [
    "# Example: Monte-Carlo Tree Search (MCTS) Implementation\n",
    "Fill me in"
   ]
  },
  {
   "cell_type": "markdown",
   "id": "913c3d34-42f6-474f-9fa9-c06b1e570167",
   "metadata": {},
   "source": [
    "## Setup"
   ]
  },
  {
   "cell_type": "code",
   "execution_count": 1,
   "id": "0dc05b4e-2cf3-4c90-ba33-eb1029ee4e81",
   "metadata": {
    "tags": []
   },
   "outputs": [],
   "source": [
    "mutable struct MyMCTSTreeModel\n",
    "end"
   ]
  },
  {
   "cell_type": "code",
   "execution_count": null,
   "id": "4c0d00fd-772b-4c68-a243-cb0d4a130504",
   "metadata": {},
   "outputs": [],
   "source": []
  }
 ],
 "metadata": {
  "kernelspec": {
   "display_name": "Julia 1.9.3",
   "language": "julia",
   "name": "julia-1.9"
  },
  "language_info": {
   "file_extension": ".jl",
   "mimetype": "application/julia",
   "name": "julia",
   "version": "1.9.3"
  }
 },
 "nbformat": 4,
 "nbformat_minor": 5
}
