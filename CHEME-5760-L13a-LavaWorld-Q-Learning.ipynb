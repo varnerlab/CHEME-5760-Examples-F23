{
 "cells": [
  {
   "cell_type": "code",
   "execution_count": null,
   "id": "1eb154a0-6835-4fc8-934f-3d635a5378b0",
   "metadata": {},
   "outputs": [],
   "source": []
  }
 ],
 "metadata": {
  "kernelspec": {
   "display_name": "Julia 1.9.3",
   "language": "julia",
   "name": "julia-1.9"
  },
  "language_info": {
   "file_extension": ".jl",
   "mimetype": "application/julia",
   "name": "julia",
   "version": "1.9.3"
  }
 },
 "nbformat": 4,
 "nbformat_minor": 5
}
